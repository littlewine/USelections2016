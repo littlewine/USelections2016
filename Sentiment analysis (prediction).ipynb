{
 "cells": [
  {
   "cell_type": "markdown",
   "metadata": {
    "collapsed": true
   },
   "source": [
    "\n",
    "\n",
    "# Fundamentals of Data Science - Week 2 and Week 3"
   ]
  },
  {
   "cell_type": "markdown",
   "metadata": {},
   "source": [
    "###  <span style='color: green'>Scroll down to the bottom of the notebook to see your assignment</span> \n",
    "<p></p>\n",
    "<span style='color: red'>Deadline: **27.09.2017 (Wednesday) at 23:55 CEST**</span>\n",
    "\n",
    "\n",
    "In this notebook we are going to cover the following practical aspects of data science:\n",
    "+ Gathering data (scraping the Twitter Streaming API)\n",
    "+ Storing and organizing it (store to file or a database)\n",
    "+ Preprocess the data\n",
    "+ Perform sentiment, topical and correlation analysis\n",
    "+ Visualize\n",
    "\n",
    "To complete this assignment you need to have a running Anaconda installation with Python 2.7 on your device. If this is not the case, refer back to Week 1. Python package prerequisites include:\n",
    "+  **Twitter API Client** [Tweepy](https://github.com/tweepy/tweepy) &nbsp;&nbsp;&nbsp;&nbsp;&nbsp;&nbsp;&nbsp;&nbsp;&nbsp;&nbsp;&nbsp;&nbsp;&nbsp;&nbsp;&nbsp;&nbsp;&nbsp;&nbsp;&nbsp;&nbsp;&nbsp;&nbsp;&nbsp;&nbsp;&nbsp;&nbsp;&nbsp;&nbsp;&nbsp;&nbsp;&nbsp; [Install command: **pip install tweepy**]\n",
    "+  **Python Data Analysis Library** [Pandas](https://pandas.pydata.org/pandas-docs/stable/install.html)  &nbsp;&nbsp;&nbsp;&nbsp;&nbsp;&nbsp;&nbsp;&nbsp;&nbsp;&nbsp;&nbsp;  [Install command: **pip install pandas**]\n",
    "+  **Python Visualization Library** [MatPlotLib](https://matplotlib.org/)   &nbsp;&nbsp;&nbsp;&nbsp;&nbsp;&nbsp;&nbsp;&nbsp; [Install command: **python -m pip install matplotlib**]\n",
    "+  **Python-Mongo Database Client** [PyMongo](https://api.mongodb.com/python/current/)  &nbsp;&nbsp;&nbsp;&nbsp;&nbsp;  [Install command: **python -m pip install pymongo**]\n",
    "+  **Python Topic Modelling Library** [GENISM](https://radimrehurek.com/gensim/install.html) &nbsp;&nbsp;&nbsp;&nbsp;&nbsp;&nbsp;  [Install command: **pip install --upgrade gensim**]\n",
    "\n",
    "An additional requirement if **you would like to use a database** is MongoDB:\n",
    "+ MongoDb database server instance [MongoDb Installation Instructions](https://docs.mongodb.com/manual/tutorial/install-mongodb-on-ubuntu/#install-mongodb-community-edition)"
   ]
  },
  {
   "cell_type": "markdown",
   "metadata": {},
   "source": [
    "** MongoDB stuff **"
   ]
  },
  {
   "cell_type": "markdown",
   "metadata": {},
   "source": [
    "If MongoDB is installed on your device and a database named Twitter is created, the tweets can be stored as database entries using the following code:\n",
    "\n",
    "**Note**: If Mongo is not installed on your device it will yield a Connection Refused exception."
   ]
  },
  {
   "cell_type": "code",
   "execution_count": 1,
   "metadata": {
    "collapsed": true,
    "scrolled": true
   },
   "outputs": [],
   "source": [
    "from pymongo import MongoClient\n",
    "\n",
    "client = MongoClient()\n",
    "db = client.Twitter\n",
    "#db = client.tweets_sample\n"
   ]
  },
  {
   "cell_type": "code",
   "execution_count": 2,
   "metadata": {
    "collapsed": true
   },
   "outputs": [],
   "source": [
    "from pprint import pprint"
   ]
  },
  {
   "cell_type": "code",
   "execution_count": 3,
   "metadata": {
    "collapsed": true
   },
   "outputs": [],
   "source": [
    "import pandas as pd\n",
    "import geopandas as gpd"
   ]
  },
  {
   "cell_type": "code",
   "execution_count": 4,
   "metadata": {
    "collapsed": true
   },
   "outputs": [],
   "source": [
    "import numpy as np\n",
    "import matplotlib.pyplot as plt"
   ]
  },
  {
   "cell_type": "code",
   "execution_count": 5,
   "metadata": {
    "collapsed": true
   },
   "outputs": [],
   "source": [
    "import time"
   ]
  },
  {
   "cell_type": "markdown",
   "metadata": {},
   "source": [
    "# Load necessary data from MongoDB"
   ]
  },
  {
   "cell_type": "code",
   "execution_count": 6,
   "metadata": {},
   "outputs": [
    {
     "name": "stdout",
     "output_type": "stream",
     "text": [
      "19.6721830368\n"
     ]
    }
   ],
   "source": [
    "start_time = time.time()\n",
    "#we are filtering out tweets of different languages and outside of the US\n",
    "filter_query = { \n",
    "    \"$and\":[ {\"place.country_code\":\"US\"}, { \"lang\": \"en\" } ]\n",
    "    }\n",
    "#we are keeping only our fields of interest\n",
    "columns_query = {\n",
    "    'text':1,\n",
    "    'entities.hashtags':1,\n",
    "    'entities.user_mentions':1,\n",
    "    'place.full_name':1,\n",
    "    'place.bounding_box':1\n",
    "}\n",
    "\n",
    "tweets = pd.DataFrame(list(db.tweets.find(\n",
    "    filter_query, \n",
    "    columns_query\n",
    "    )#.limit()\n",
    "                               )\n",
    "                          )\n",
    "elapsed_time = time.time() - start_time\n",
    "print elapsed_time\n"
   ]
  },
  {
   "cell_type": "code",
   "execution_count": 7,
   "metadata": {
    "collapsed": true
   },
   "outputs": [],
   "source": [
    "tweets.drop(['_id'],axis=1,inplace=True)"
   ]
  },
  {
   "cell_type": "code",
   "execution_count": 8,
   "metadata": {
    "scrolled": true
   },
   "outputs": [
    {
     "data": {
      "text/html": [
       "<div>\n",
       "<style>\n",
       "    .dataframe thead tr:only-child th {\n",
       "        text-align: right;\n",
       "    }\n",
       "\n",
       "    .dataframe thead th {\n",
       "        text-align: left;\n",
       "    }\n",
       "\n",
       "    .dataframe tbody tr th {\n",
       "        vertical-align: top;\n",
       "    }\n",
       "</style>\n",
       "<table border=\"1\" class=\"dataframe\">\n",
       "  <thead>\n",
       "    <tr style=\"text-align: right;\">\n",
       "      <th></th>\n",
       "      <th>entities</th>\n",
       "      <th>place</th>\n",
       "      <th>text</th>\n",
       "    </tr>\n",
       "  </thead>\n",
       "  <tbody>\n",
       "    <tr>\n",
       "      <th>0</th>\n",
       "      <td>{u'user_mentions': [{u'id': 813286, u'indices'...</td>\n",
       "      <td>{u'bounding_box': {u'type': u'Polygon', u'coor...</td>\n",
       "      <td>@BarackObama \\n@FBI\\n@LORETTALYNCH \\nALL IN CO...</td>\n",
       "    </tr>\n",
       "    <tr>\n",
       "      <th>1</th>\n",
       "      <td>{u'user_mentions': [], u'hashtags': [{u'indice...</td>\n",
       "      <td>{u'bounding_box': {u'type': u'Polygon', u'coor...</td>\n",
       "      <td>#CNN #newday clear #Trump deliberately throwin...</td>\n",
       "    </tr>\n",
       "    <tr>\n",
       "      <th>2</th>\n",
       "      <td>{u'user_mentions': [{u'id': 4852163069, u'indi...</td>\n",
       "      <td>{u'bounding_box': {u'type': u'Polygon', u'coor...</td>\n",
       "      <td>@mike4193496 @realDonaldTrump I TOTALLY CONCUR...</td>\n",
       "    </tr>\n",
       "    <tr>\n",
       "      <th>3</th>\n",
       "      <td>{u'user_mentions': [{u'id': 1339835893, u'indi...</td>\n",
       "      <td>{u'bounding_box': {u'type': u'Polygon', u'coor...</td>\n",
       "      <td>@HillaryClinton you ARE the co-founder of ISIS...</td>\n",
       "    </tr>\n",
       "    <tr>\n",
       "      <th>4</th>\n",
       "      <td>{u'user_mentions': [{u'id': 25073877, u'indice...</td>\n",
       "      <td>{u'bounding_box': {u'type': u'Polygon', u'coor...</td>\n",
       "      <td>@realDonaldTrump, you wouldn't recognize a lie...</td>\n",
       "    </tr>\n",
       "  </tbody>\n",
       "</table>\n",
       "</div>"
      ],
      "text/plain": [
       "                                            entities  \\\n",
       "0  {u'user_mentions': [{u'id': 813286, u'indices'...   \n",
       "1  {u'user_mentions': [], u'hashtags': [{u'indice...   \n",
       "2  {u'user_mentions': [{u'id': 4852163069, u'indi...   \n",
       "3  {u'user_mentions': [{u'id': 1339835893, u'indi...   \n",
       "4  {u'user_mentions': [{u'id': 25073877, u'indice...   \n",
       "\n",
       "                                               place  \\\n",
       "0  {u'bounding_box': {u'type': u'Polygon', u'coor...   \n",
       "1  {u'bounding_box': {u'type': u'Polygon', u'coor...   \n",
       "2  {u'bounding_box': {u'type': u'Polygon', u'coor...   \n",
       "3  {u'bounding_box': {u'type': u'Polygon', u'coor...   \n",
       "4  {u'bounding_box': {u'type': u'Polygon', u'coor...   \n",
       "\n",
       "                                                text  \n",
       "0  @BarackObama \\n@FBI\\n@LORETTALYNCH \\nALL IN CO...  \n",
       "1  #CNN #newday clear #Trump deliberately throwin...  \n",
       "2  @mike4193496 @realDonaldTrump I TOTALLY CONCUR...  \n",
       "3  @HillaryClinton you ARE the co-founder of ISIS...  \n",
       "4  @realDonaldTrump, you wouldn't recognize a lie...  "
      ]
     },
     "execution_count": 8,
     "metadata": {},
     "output_type": "execute_result"
    }
   ],
   "source": [
    "tweets.head()"
   ]
  },
  {
   "cell_type": "code",
   "execution_count": 9,
   "metadata": {},
   "outputs": [
    {
     "name": "stdout",
     "output_type": "stream",
     "text": [
      "517724\n"
     ]
    }
   ],
   "source": [
    "print len(tweets)"
   ]
  },
  {
   "cell_type": "markdown",
   "metadata": {
    "collapsed": true
   },
   "source": [
    "** Extract data we need into their own columns (links, mentions, hashtags) **"
   ]
  },
  {
   "cell_type": "markdown",
   "metadata": {},
   "source": [
    "* Deal with hyperlinks "
   ]
  },
  {
   "cell_type": "code",
   "execution_count": 10,
   "metadata": {
    "collapsed": true
   },
   "outputs": [],
   "source": [
    "import re\n",
    "\n",
    "# A function that extracts the hyperlinks from the tweet's content.\n",
    "def extract_link(text):\n",
    "    regex = r'https?://[^\\s<>\"]+|www\\.[^\\s<>\"]+'\n",
    "    match = re.search(regex, text)\n",
    "    if match:\n",
    "        return match.group()\n",
    "    return ''\n",
    "\n",
    "# A function that checks whether a word is included in the tweet's content\n",
    "def word_in_text(word, text):\n",
    "    word = word.lower()\n",
    "    text = text.lower()\n",
    "    match = re.search(word, text)\n",
    "    if match:\n",
    "        return True\n",
    "    return False"
   ]
  },
  {
   "cell_type": "code",
   "execution_count": 11,
   "metadata": {
    "collapsed": true
   },
   "outputs": [],
   "source": [
    "tweets['link'] = tweets['text'].apply(lambda tweet: extract_link(tweet))"
   ]
  },
  {
   "cell_type": "code",
   "execution_count": 12,
   "metadata": {
    "collapsed": true
   },
   "outputs": [],
   "source": [
    "#remove links\n",
    "tweets['text'] = tweets['text'].apply(lambda tweet: re.sub(r\"http\\S+\", \"\", tweet))"
   ]
  },
  {
   "cell_type": "markdown",
   "metadata": {},
   "source": [
    "* Deal with hashtags & mentions"
   ]
  },
  {
   "cell_type": "code",
   "execution_count": 13,
   "metadata": {
    "collapsed": true
   },
   "outputs": [],
   "source": [
    "#Functions to extract hashtags and mentions from entities\n",
    "def extract_hashtags(ent):\n",
    "    a=[]\n",
    "    [a.append(hasht['text'].lower()) for hasht in ent['hashtags']]\n",
    "    #[a.append(hasht['text']) for hasht in ent['hashtags']]\n",
    "    return a\n",
    "def extract_mentions(ent):\n",
    "    users=[]\n",
    "    [users.append(usr_ment['screen_name'].lower()) for usr_ment in ent['user_mentions']]\n",
    "    #[users.append(usr_ment['screen_name']) for usr_ment in ent['user_mentions']]\n",
    "    return users"
   ]
  },
  {
   "cell_type": "code",
   "execution_count": 14,
   "metadata": {
    "collapsed": true
   },
   "outputs": [],
   "source": [
    "tweets['hashtags'] = map(extract_hashtags,tweets['entities'])\n",
    "tweets['mentions'] = map(extract_mentions,tweets['entities'])\n",
    "tweets.drop(['entities'],axis=1,inplace=True)"
   ]
  },
  {
   "cell_type": "code",
   "execution_count": 15,
   "metadata": {
    "collapsed": true
   },
   "outputs": [],
   "source": [
    "tweets['state'] = map(lambda place_dict: place_dict['full_name'][-2:] ,tweets['place'])\n",
    "tweets['geography'] = map(lambda place_dict: place_dict['bounding_box'] ,tweets['place'])\n",
    "tweets.drop(['place'],axis=1,inplace=True)"
   ]
  },
  {
   "cell_type": "code",
   "execution_count": 16,
   "metadata": {
    "collapsed": true
   },
   "outputs": [],
   "source": [
    "#make all text lowercase\n",
    "tweets['text'] = tweets.text.apply(lambda x: x.lower())"
   ]
  },
  {
   "cell_type": "code",
   "execution_count": 17,
   "metadata": {},
   "outputs": [
    {
     "data": {
      "text/plain": [
       "Index([u'text', u'link', u'hashtags', u'mentions', u'state', u'geography'], dtype='object')"
      ]
     },
     "execution_count": 17,
     "metadata": {},
     "output_type": "execute_result"
    }
   ],
   "source": [
    "tweets.columns"
   ]
  },
  {
   "cell_type": "code",
   "execution_count": null,
   "metadata": {
    "collapsed": true
   },
   "outputs": [],
   "source": []
  },
  {
   "cell_type": "markdown",
   "metadata": {},
   "source": [
    "# efforts with SentiStrength"
   ]
  },
  {
   "cell_type": "code",
   "execution_count": 18,
   "metadata": {
    "collapsed": true
   },
   "outputs": [],
   "source": [
    "#SentiStrength\n",
    "import subprocess\n",
    "jar_path = \"/home/antonis/sentistrength/SentiStrength.jar\"\n",
    "senti_data_path = \"/home/antonis/sentistrength/SentiData/\""
   ]
  },
  {
   "cell_type": "code",
   "execution_count": 19,
   "metadata": {
    "collapsed": true
   },
   "outputs": [],
   "source": [
    "#define a SentiStrength function which takes a string or tokenized input and returns sentiment scores\n",
    "## TODO : caution: may be slow! (using ''.join )\n",
    "sample_text = 'this is something'\n",
    "def SentiStrength(sample_text):\n",
    "    '''Returns a list of [positive, negative] values'''\n",
    "    if type(sample_text) is str:\n",
    "        return subprocess.check_output(['java', '-jar', jar_path, 'sentidata', senti_data_path ,'text',sample_text]).split()\n",
    "    else:\n",
    "        return subprocess.check_output(['java', '-jar', jar_path, 'sentidata', senti_data_path ,'text','+'.join(sample_text)]).split()"
   ]
  },
  {
   "cell_type": "code",
   "execution_count": null,
   "metadata": {
    "collapsed": true
   },
   "outputs": [],
   "source": []
  },
  {
   "cell_type": "markdown",
   "metadata": {},
   "source": [
    "# Use externally trained model\n",
    "\n",
    "### IMPORTANT:\n",
    "#### we should use the same vectorizer as in the trained instance of the classifier our training and prediction matrices have to be the same\n"
   ]
  },
  {
   "cell_type": "code",
   "execution_count": 21,
   "metadata": {
    "collapsed": true
   },
   "outputs": [],
   "source": [
    "from nltk.stem.snowball import SnowballStemmer\n",
    "from sklearn.feature_extraction.text import CountVectorizer\n",
    "from sklearn.feature_extraction.text import TfidfVectorizer\n",
    "import random\n",
    "\n",
    "def stemmed_words(doc):\n",
    "    return (stemmer.stem(w) for w in analyzer(doc))\n",
    "\n",
    "\n",
    "stemmer = SnowballStemmer('english')\n",
    "analyzer = CountVectorizer().build_analyzer()\n"
   ]
  },
  {
   "cell_type": "markdown",
   "metadata": {},
   "source": [
    "* Externally trained NaiveBayes classifier on 67k tweets"
   ]
  },
  {
   "cell_type": "code",
   "execution_count": 22,
   "metadata": {
    "collapsed": true,
    "scrolled": true
   },
   "outputs": [],
   "source": [
    "#import the model\n",
    "from sklearn.externals import joblib\n",
    "\n",
    "import pickle\n",
    "clf = joblib.load('trained models/NaiveBayes67k_chi2descr9-26_22,52.pkl') #the model itself\n",
    "selector = joblib.load(\"trained models/selector_chi267k_chi2descr9-26_22,52.pkl\") #chi2 feature selector\n",
    "vect = joblib.load('trained models/vectdescr9-26_22,52.pkl') #Countvectorizer along with its vocabulary"
   ]
  },
  {
   "cell_type": "code",
   "execution_count": 23,
   "metadata": {
    "collapsed": true
   },
   "outputs": [],
   "source": [
    "from nltk import tokenize"
   ]
  },
  {
   "cell_type": "code",
   "execution_count": null,
   "metadata": {
    "collapsed": true
   },
   "outputs": [],
   "source": []
  },
  {
   "cell_type": "code",
   "execution_count": 24,
   "metadata": {},
   "outputs": [
    {
     "name": "stdout",
     "output_type": "stream",
     "text": [
      "102.259329081\n"
     ]
    }
   ],
   "source": [
    "#rtransform our \n",
    "start_time = time.time()\n",
    "\n",
    "results = clf.predict(selector.transform(vect.transform(tweets['text'])))\n",
    "\n",
    "elapsed_time = time.time() - start_time\n",
    "print elapsed_time"
   ]
  },
  {
   "cell_type": "code",
   "execution_count": 25,
   "metadata": {},
   "outputs": [
    {
     "name": "stdout",
     "output_type": "stream",
     "text": [
      "112.642943859\n"
     ]
    }
   ],
   "source": [
    "#try with probability!\n",
    "start_time = time.time()\n",
    "\n",
    "results_prob = clf.predict_proba(selector.transform(vect.transform(tweets['text'])))\n",
    "\n",
    "elapsed_time = time.time() - start_time\n",
    "print elapsed_time"
   ]
  },
  {
   "cell_type": "code",
   "execution_count": null,
   "metadata": {
    "collapsed": true
   },
   "outputs": [],
   "source": []
  },
  {
   "cell_type": "code",
   "execution_count": 26,
   "metadata": {
    "collapsed": true
   },
   "outputs": [],
   "source": [
    "results = pd.Series(results)\n",
    "results_prob = pd.DataFrame(results_prob,columns=['negative','positive'])"
   ]
  },
  {
   "cell_type": "code",
   "execution_count": 27,
   "metadata": {
    "collapsed": true
   },
   "outputs": [],
   "source": [
    "tweets['NB'] = pd.Series(results)\n",
    "tweets['NB_prob+'] = pd.Series(results_prob['positive'])"
   ]
  },
  {
   "cell_type": "code",
   "execution_count": 28,
   "metadata": {},
   "outputs": [
    {
     "data": {
      "text/html": [
       "<div>\n",
       "<style>\n",
       "    .dataframe thead tr:only-child th {\n",
       "        text-align: right;\n",
       "    }\n",
       "\n",
       "    .dataframe thead th {\n",
       "        text-align: left;\n",
       "    }\n",
       "\n",
       "    .dataframe tbody tr th {\n",
       "        vertical-align: top;\n",
       "    }\n",
       "</style>\n",
       "<table border=\"1\" class=\"dataframe\">\n",
       "  <thead>\n",
       "    <tr style=\"text-align: right;\">\n",
       "      <th></th>\n",
       "      <th>text</th>\n",
       "      <th>link</th>\n",
       "      <th>hashtags</th>\n",
       "      <th>mentions</th>\n",
       "      <th>state</th>\n",
       "      <th>geography</th>\n",
       "      <th>NB</th>\n",
       "      <th>NB_prob+</th>\n",
       "    </tr>\n",
       "  </thead>\n",
       "  <tbody>\n",
       "    <tr>\n",
       "      <th>0</th>\n",
       "      <td>@barackobama \\n@fbi\\n@lorettalynch \\nall in co...</td>\n",
       "      <td>https://t.co/5GMNZq40V3</td>\n",
       "      <td>[nojustice, trumppence]</td>\n",
       "      <td>[barackobama, fbi, lorettalynch, realdonaldtrump]</td>\n",
       "      <td>LA</td>\n",
       "      <td>{u'type': u'Polygon', u'coordinates': [[[-91.2...</td>\n",
       "      <td>0</td>\n",
       "      <td>0.268989</td>\n",
       "    </tr>\n",
       "    <tr>\n",
       "      <th>1</th>\n",
       "      <td>#cnn #newday clear #trump deliberately throwin...</td>\n",
       "      <td></td>\n",
       "      <td>[cnn, newday, trump, isis]</td>\n",
       "      <td>[]</td>\n",
       "      <td>MD</td>\n",
       "      <td>{u'type': u'Polygon', u'coordinates': [[[-76.7...</td>\n",
       "      <td>0</td>\n",
       "      <td>0.200862</td>\n",
       "    </tr>\n",
       "    <tr>\n",
       "      <th>2</th>\n",
       "      <td>@mike4193496 @realdonaldtrump i totally concur...</td>\n",
       "      <td></td>\n",
       "      <td>[]</td>\n",
       "      <td>[mike4193496, realdonaldtrump]</td>\n",
       "      <td>MD</td>\n",
       "      <td>{u'type': u'Polygon', u'coordinates': [[[-76.5...</td>\n",
       "      <td>0</td>\n",
       "      <td>0.059660</td>\n",
       "    </tr>\n",
       "    <tr>\n",
       "      <th>3</th>\n",
       "      <td>@hillaryclinton you are the co-founder of isis...</td>\n",
       "      <td></td>\n",
       "      <td>[]</td>\n",
       "      <td>[hillaryclinton]</td>\n",
       "      <td>TX</td>\n",
       "      <td>{u'type': u'Polygon', u'coordinates': [[[-97.0...</td>\n",
       "      <td>1</td>\n",
       "      <td>0.965413</td>\n",
       "    </tr>\n",
       "    <tr>\n",
       "      <th>4</th>\n",
       "      <td>@realdonaldtrump, you wouldn't recognize a lie...</td>\n",
       "      <td>https://t.co/pKSQM8yikm</td>\n",
       "      <td>[nevertrump]</td>\n",
       "      <td>[realdonaldtrump]</td>\n",
       "      <td>CA</td>\n",
       "      <td>{u'type': u'Polygon', u'coordinates': [[[-116....</td>\n",
       "      <td>1</td>\n",
       "      <td>0.936727</td>\n",
       "    </tr>\n",
       "  </tbody>\n",
       "</table>\n",
       "</div>"
      ],
      "text/plain": [
       "                                                text                     link  \\\n",
       "0  @barackobama \\n@fbi\\n@lorettalynch \\nall in co...  https://t.co/5GMNZq40V3   \n",
       "1  #cnn #newday clear #trump deliberately throwin...                            \n",
       "2  @mike4193496 @realdonaldtrump i totally concur...                            \n",
       "3  @hillaryclinton you are the co-founder of isis...                            \n",
       "4  @realdonaldtrump, you wouldn't recognize a lie...  https://t.co/pKSQM8yikm   \n",
       "\n",
       "                     hashtags  \\\n",
       "0     [nojustice, trumppence]   \n",
       "1  [cnn, newday, trump, isis]   \n",
       "2                          []   \n",
       "3                          []   \n",
       "4                [nevertrump]   \n",
       "\n",
       "                                            mentions state  \\\n",
       "0  [barackobama, fbi, lorettalynch, realdonaldtrump]    LA   \n",
       "1                                                 []    MD   \n",
       "2                     [mike4193496, realdonaldtrump]    MD   \n",
       "3                                   [hillaryclinton]    TX   \n",
       "4                                  [realdonaldtrump]    CA   \n",
       "\n",
       "                                           geography  NB  NB_prob+  \n",
       "0  {u'type': u'Polygon', u'coordinates': [[[-91.2...   0  0.268989  \n",
       "1  {u'type': u'Polygon', u'coordinates': [[[-76.7...   0  0.200862  \n",
       "2  {u'type': u'Polygon', u'coordinates': [[[-76.5...   0  0.059660  \n",
       "3  {u'type': u'Polygon', u'coordinates': [[[-97.0...   1  0.965413  \n",
       "4  {u'type': u'Polygon', u'coordinates': [[[-116....   1  0.936727  "
      ]
     },
     "execution_count": 28,
     "metadata": {},
     "output_type": "execute_result"
    }
   ],
   "source": [
    "tweets.head()"
   ]
  },
  {
   "cell_type": "code",
   "execution_count": 35,
   "metadata": {
    "scrolled": true
   },
   "outputs": [
    {
     "name": "stdout",
     "output_type": "stream",
     "text": [
      "@hughhewitt @noltenc @realdonaldtrump hugh, you're right. #basketoofdeplorables he'll hit again, and again. \n",
      "0.86193296115  positive\n",
      "\n",
      "@karoli @davidshuster @hillaryclinton david might have deleted that after properly put him in line \n",
      "0.320181959525  positive\n",
      "\n",
      "@realdonaldtrump and, btw, no need to look at my tax returns \n",
      "0.331246620146  positive\n",
      "\n",
      "@realdonaldtrump do we need driver license at bank? yes. do we need driver license to take exams? yes. do we need driver license to vote? no \n",
      "0.416220810491  positive\n",
      "\n"
     ]
    }
   ],
   "source": [
    "# manually inspect some results\n",
    "for i in range(1,5):\n",
    "    j = random.randint(0,len(tweets))\n",
    "    tw = tweets['text'][j]\n",
    "    print tw, '\\n',tweets.ix[j,'NB_prob+'],' positive'\n",
    "    print ''"
   ]
  },
  {
   "cell_type": "code",
   "execution_count": 37,
   "metadata": {
    "scrolled": true
   },
   "outputs": [
    {
     "data": {
      "image/png": "[encoded data removed]",
      "text/plain": [
       "<matplotlib.figure.Figure at 0x7f920d649b90>"
      ]
     },
     "metadata": {},
     "output_type": "display_data"
    }
   ],
   "source": [
    "#check the distribution of our probability estimates of the tweets\n",
    "tweets['NB_prob+'].hist()\n",
    "plt.show()"
   ]
  },
  {
   "cell_type": "markdown",
   "metadata": {},
   "source": [
    "##### investigate the possibility of introducing a 'neutral' sentiment class\n"
   ]
  },
  {
   "cell_type": "code",
   "execution_count": 39,
   "metadata": {
    "collapsed": true,
    "scrolled": false
   },
   "outputs": [],
   "source": [
    "sa_results = map(lambda x: 'positive' if x>0.7 else 'negative' if x<0.3 else 'neutral' , tweets['NB_prob+'])"
   ]
  },
  {
   "cell_type": "code",
   "execution_count": 40,
   "metadata": {
    "collapsed": true
   },
   "outputs": [],
   "source": [
    "sa_results = pd.Series(sa_results)"
   ]
  },
  {
   "cell_type": "code",
   "execution_count": 41,
   "metadata": {},
   "outputs": [
    {
     "data": {
      "image/png": "[encoded data removed]",
      "text/plain": [
       "<matplotlib.figure.Figure at 0x7f920d16e350>"
      ]
     },
     "metadata": {},
     "output_type": "display_data"
    }
   ],
   "source": [
    "sa_results.value_counts().plot(kind='bar', title='# of tweets flagged in each sentiment class / at the 30-70% threshold')\n",
    "plt.show()"
   ]
  },
  {
   "cell_type": "code",
   "execution_count": 42,
   "metadata": {},
   "outputs": [
    {
     "data": {
      "text/html": [
       "<div>\n",
       "<style>\n",
       "    .dataframe thead tr:only-child th {\n",
       "        text-align: right;\n",
       "    }\n",
       "\n",
       "    .dataframe thead th {\n",
       "        text-align: left;\n",
       "    }\n",
       "\n",
       "    .dataframe tbody tr th {\n",
       "        vertical-align: top;\n",
       "    }\n",
       "</style>\n",
       "<table border=\"1\" class=\"dataframe\">\n",
       "  <thead>\n",
       "    <tr style=\"text-align: right;\">\n",
       "      <th></th>\n",
       "      <th>text</th>\n",
       "      <th>link</th>\n",
       "      <th>hashtags</th>\n",
       "      <th>mentions</th>\n",
       "      <th>state</th>\n",
       "      <th>geography</th>\n",
       "      <th>NB</th>\n",
       "      <th>NB_prob+</th>\n",
       "    </tr>\n",
       "  </thead>\n",
       "  <tbody>\n",
       "    <tr>\n",
       "      <th>0</th>\n",
       "      <td>@barackobama \\n@fbi\\n@lorettalynch \\nall in co...</td>\n",
       "      <td>https://t.co/5GMNZq40V3</td>\n",
       "      <td>[nojustice, trumppence]</td>\n",
       "      <td>[barackobama, fbi, lorettalynch, realdonaldtrump]</td>\n",
       "      <td>LA</td>\n",
       "      <td>{u'type': u'Polygon', u'coordinates': [[[-91.2...</td>\n",
       "      <td>0</td>\n",
       "      <td>0.268989</td>\n",
       "    </tr>\n",
       "    <tr>\n",
       "      <th>1</th>\n",
       "      <td>#cnn #newday clear #trump deliberately throwin...</td>\n",
       "      <td></td>\n",
       "      <td>[cnn, newday, trump, isis]</td>\n",
       "      <td>[]</td>\n",
       "      <td>MD</td>\n",
       "      <td>{u'type': u'Polygon', u'coordinates': [[[-76.7...</td>\n",
       "      <td>0</td>\n",
       "      <td>0.200862</td>\n",
       "    </tr>\n",
       "    <tr>\n",
       "      <th>2</th>\n",
       "      <td>@mike4193496 @realdonaldtrump i totally concur...</td>\n",
       "      <td></td>\n",
       "      <td>[]</td>\n",
       "      <td>[mike4193496, realdonaldtrump]</td>\n",
       "      <td>MD</td>\n",
       "      <td>{u'type': u'Polygon', u'coordinates': [[[-76.5...</td>\n",
       "      <td>0</td>\n",
       "      <td>0.059660</td>\n",
       "    </tr>\n",
       "    <tr>\n",
       "      <th>3</th>\n",
       "      <td>@hillaryclinton you are the co-founder of isis...</td>\n",
       "      <td></td>\n",
       "      <td>[]</td>\n",
       "      <td>[hillaryclinton]</td>\n",
       "      <td>TX</td>\n",
       "      <td>{u'type': u'Polygon', u'coordinates': [[[-97.0...</td>\n",
       "      <td>1</td>\n",
       "      <td>0.965413</td>\n",
       "    </tr>\n",
       "    <tr>\n",
       "      <th>4</th>\n",
       "      <td>@realdonaldtrump, you wouldn't recognize a lie...</td>\n",
       "      <td>https://t.co/pKSQM8yikm</td>\n",
       "      <td>[nevertrump]</td>\n",
       "      <td>[realdonaldtrump]</td>\n",
       "      <td>CA</td>\n",
       "      <td>{u'type': u'Polygon', u'coordinates': [[[-116....</td>\n",
       "      <td>1</td>\n",
       "      <td>0.936727</td>\n",
       "    </tr>\n",
       "  </tbody>\n",
       "</table>\n",
       "</div>"
      ],
      "text/plain": [
       "                                                text                     link  \\\n",
       "0  @barackobama \\n@fbi\\n@lorettalynch \\nall in co...  https://t.co/5GMNZq40V3   \n",
       "1  #cnn #newday clear #trump deliberately throwin...                            \n",
       "2  @mike4193496 @realdonaldtrump i totally concur...                            \n",
       "3  @hillaryclinton you are the co-founder of isis...                            \n",
       "4  @realdonaldtrump, you wouldn't recognize a lie...  https://t.co/pKSQM8yikm   \n",
       "\n",
       "                     hashtags  \\\n",
       "0     [nojustice, trumppence]   \n",
       "1  [cnn, newday, trump, isis]   \n",
       "2                          []   \n",
       "3                          []   \n",
       "4                [nevertrump]   \n",
       "\n",
       "                                            mentions state  \\\n",
       "0  [barackobama, fbi, lorettalynch, realdonaldtrump]    LA   \n",
       "1                                                 []    MD   \n",
       "2                     [mike4193496, realdonaldtrump]    MD   \n",
       "3                                   [hillaryclinton]    TX   \n",
       "4                                  [realdonaldtrump]    CA   \n",
       "\n",
       "                                           geography  NB  NB_prob+  \n",
       "0  {u'type': u'Polygon', u'coordinates': [[[-91.2...   0  0.268989  \n",
       "1  {u'type': u'Polygon', u'coordinates': [[[-76.7...   0  0.200862  \n",
       "2  {u'type': u'Polygon', u'coordinates': [[[-76.5...   0  0.059660  \n",
       "3  {u'type': u'Polygon', u'coordinates': [[[-97.0...   1  0.965413  \n",
       "4  {u'type': u'Polygon', u'coordinates': [[[-116....   1  0.936727  "
      ]
     },
     "execution_count": 42,
     "metadata": {},
     "output_type": "execute_result"
    }
   ],
   "source": [
    "tweets.head()"
   ]
  },
  {
   "cell_type": "code",
   "execution_count": null,
   "metadata": {
    "collapsed": true
   },
   "outputs": [],
   "source": []
  },
  {
   "cell_type": "markdown",
   "metadata": {},
   "source": [
    "# attach tweet to politician"
   ]
  },
  {
   "cell_type": "code",
   "execution_count": 43,
   "metadata": {
    "collapsed": true
   },
   "outputs": [],
   "source": [
    "def trump_in_text(tweet):\n",
    "        '''This function takes the text of a tweet and \n",
    "            returns true if there is a mention to  Donald Trump or false \n",
    "            on the other hand.'''\n",
    "        if ('donald' in tweet.lower()) or ('trump'  in tweet.lower()):\n",
    "            return True\n",
    "        return False\n",
    "    \n",
    "def clinton_in_text(tweet):\n",
    "        '''This function takes the text of a tweet and \n",
    "            returns true if there is a mention to  Hillary Clinton  or false \n",
    "            on the other hand.'''\n",
    "\n",
    "        if ('hillary' in tweet.lower()) or ('clinton'  in tweet.lower()):\n",
    "            return True\n",
    "        return False\n",
    "\n",
    "def categorize(tr,hil):\n",
    "        '''This function  categorizes each tweet based\n",
    "           on text '''\n",
    "        if tr==hil:\n",
    "            return 'irrelevant'\n",
    "        elif tr:\n",
    "            return 'Trump'\n",
    "        else:\n",
    "            return'Clinton'\n"
   ]
  },
  {
   "cell_type": "code",
   "execution_count": 45,
   "metadata": {
    "collapsed": true
   },
   "outputs": [],
   "source": [
    "tweets['Trump'] = tweets['text'].apply(lambda tweet: trump_in_text(tweet))\n",
    "tweets['Clinton'] = tweets['text'].apply(lambda tweet: clinton_in_text(tweet))\n",
    "tweets['Politician']=map(lambda tr_col, hil_col: categorize(tr_col, hil_col), tweets['Trump'],tweets['Clinton'])"
   ]
  },
  {
   "cell_type": "code",
   "execution_count": 46,
   "metadata": {
    "collapsed": true
   },
   "outputs": [],
   "source": [
    "tweets.drop(['Trump','Clinton','geography'],axis=1,inplace=True)"
   ]
  },
  {
   "cell_type": "code",
   "execution_count": 47,
   "metadata": {
    "scrolled": true
   },
   "outputs": [
    {
     "data": {
      "text/html": [
       "<div>\n",
       "<style>\n",
       "    .dataframe thead tr:only-child th {\n",
       "        text-align: right;\n",
       "    }\n",
       "\n",
       "    .dataframe thead th {\n",
       "        text-align: left;\n",
       "    }\n",
       "\n",
       "    .dataframe tbody tr th {\n",
       "        vertical-align: top;\n",
       "    }\n",
       "</style>\n",
       "<table border=\"1\" class=\"dataframe\">\n",
       "  <thead>\n",
       "    <tr style=\"text-align: right;\">\n",
       "      <th></th>\n",
       "      <th>text</th>\n",
       "      <th>link</th>\n",
       "      <th>hashtags</th>\n",
       "      <th>mentions</th>\n",
       "      <th>state</th>\n",
       "      <th>NB</th>\n",
       "      <th>NB_prob+</th>\n",
       "      <th>Politician</th>\n",
       "    </tr>\n",
       "  </thead>\n",
       "  <tbody>\n",
       "    <tr>\n",
       "      <th>0</th>\n",
       "      <td>@barackobama \\n@fbi\\n@lorettalynch \\nall in co...</td>\n",
       "      <td>https://t.co/5GMNZq40V3</td>\n",
       "      <td>[nojustice, trumppence]</td>\n",
       "      <td>[barackobama, fbi, lorettalynch, realdonaldtrump]</td>\n",
       "      <td>LA</td>\n",
       "      <td>0</td>\n",
       "      <td>0.268989</td>\n",
       "      <td>Trump</td>\n",
       "    </tr>\n",
       "    <tr>\n",
       "      <th>1</th>\n",
       "      <td>#cnn #newday clear #trump deliberately throwin...</td>\n",
       "      <td></td>\n",
       "      <td>[cnn, newday, trump, isis]</td>\n",
       "      <td>[]</td>\n",
       "      <td>MD</td>\n",
       "      <td>0</td>\n",
       "      <td>0.200862</td>\n",
       "      <td>Trump</td>\n",
       "    </tr>\n",
       "    <tr>\n",
       "      <th>2</th>\n",
       "      <td>@mike4193496 @realdonaldtrump i totally concur...</td>\n",
       "      <td></td>\n",
       "      <td>[]</td>\n",
       "      <td>[mike4193496, realdonaldtrump]</td>\n",
       "      <td>MD</td>\n",
       "      <td>0</td>\n",
       "      <td>0.059660</td>\n",
       "      <td>Trump</td>\n",
       "    </tr>\n",
       "    <tr>\n",
       "      <th>3</th>\n",
       "      <td>@hillaryclinton you are the co-founder of isis...</td>\n",
       "      <td></td>\n",
       "      <td>[]</td>\n",
       "      <td>[hillaryclinton]</td>\n",
       "      <td>TX</td>\n",
       "      <td>1</td>\n",
       "      <td>0.965413</td>\n",
       "      <td>Clinton</td>\n",
       "    </tr>\n",
       "    <tr>\n",
       "      <th>4</th>\n",
       "      <td>@realdonaldtrump, you wouldn't recognize a lie...</td>\n",
       "      <td>https://t.co/pKSQM8yikm</td>\n",
       "      <td>[nevertrump]</td>\n",
       "      <td>[realdonaldtrump]</td>\n",
       "      <td>CA</td>\n",
       "      <td>1</td>\n",
       "      <td>0.936727</td>\n",
       "      <td>Trump</td>\n",
       "    </tr>\n",
       "  </tbody>\n",
       "</table>\n",
       "</div>"
      ],
      "text/plain": [
       "                                                text                     link  \\\n",
       "0  @barackobama \\n@fbi\\n@lorettalynch \\nall in co...  https://t.co/5GMNZq40V3   \n",
       "1  #cnn #newday clear #trump deliberately throwin...                            \n",
       "2  @mike4193496 @realdonaldtrump i totally concur...                            \n",
       "3  @hillaryclinton you are the co-founder of isis...                            \n",
       "4  @realdonaldtrump, you wouldn't recognize a lie...  https://t.co/pKSQM8yikm   \n",
       "\n",
       "                     hashtags  \\\n",
       "0     [nojustice, trumppence]   \n",
       "1  [cnn, newday, trump, isis]   \n",
       "2                          []   \n",
       "3                          []   \n",
       "4                [nevertrump]   \n",
       "\n",
       "                                            mentions state  NB  NB_prob+  \\\n",
       "0  [barackobama, fbi, lorettalynch, realdonaldtrump]    LA   0  0.268989   \n",
       "1                                                 []    MD   0  0.200862   \n",
       "2                     [mike4193496, realdonaldtrump]    MD   0  0.059660   \n",
       "3                                   [hillaryclinton]    TX   1  0.965413   \n",
       "4                                  [realdonaldtrump]    CA   1  0.936727   \n",
       "\n",
       "  Politician  \n",
       "0      Trump  \n",
       "1      Trump  \n",
       "2      Trump  \n",
       "3    Clinton  \n",
       "4      Trump  "
      ]
     },
     "execution_count": 47,
     "metadata": {},
     "output_type": "execute_result"
    }
   ],
   "source": [
    "tweets.head()"
   ]
  },
  {
   "cell_type": "code",
   "execution_count": 48,
   "metadata": {},
   "outputs": [
    {
     "data": {
      "text/plain": [
       "array(['Trump', 'Clinton', 'irrelevant'], dtype=object)"
      ]
     },
     "execution_count": 48,
     "metadata": {},
     "output_type": "execute_result"
    }
   ],
   "source": [
    "tweets.Politician.unique()"
   ]
  },
  {
   "cell_type": "code",
   "execution_count": 49,
   "metadata": {
    "collapsed": true
   },
   "outputs": [],
   "source": [
    "#### give a label to each tweet (ex. pro-Trump / anti-Hillary etc)\n",
    "def label_tweet(pol,sent, upper_threshold=0.5):\n",
    "    '''Label tweet depending on politician and sentiment.\n",
    "    Return neutral if politician unknown or Naive Bayes prob close to 0.5\n",
    "    otherwise return Politician initials and +/-'''\n",
    "    if (((sent<upper_threshold) and (sent>(1-upper_threshold))) or (pol=='irrelevant')):\n",
    "        return 'N'\n",
    "    if (pol=='Trump'):\n",
    "        label='T'\n",
    "    if (pol=='Clinton'):\n",
    "        label='C'\n",
    "    if (sent>0.5):\n",
    "        return label+'+'\n",
    "    if (sent<0.5):\n",
    "        return label+'-'\n",
    "    return 'error'"
   ]
  },
  {
   "cell_type": "code",
   "execution_count": null,
   "metadata": {
    "collapsed": true
   },
   "outputs": [],
   "source": []
  },
  {
   "cell_type": "code",
   "execution_count": 50,
   "metadata": {
    "collapsed": true
   },
   "outputs": [],
   "source": [
    "tweets['label'] = map(lambda name,sent: label_tweet(name,sent) ,tweets['Politician'],tweets['NB_prob+'])"
   ]
  },
  {
   "cell_type": "code",
   "execution_count": 51,
   "metadata": {},
   "outputs": [
    {
     "data": {
      "text/html": [
       "<div>\n",
       "<style>\n",
       "    .dataframe thead tr:only-child th {\n",
       "        text-align: right;\n",
       "    }\n",
       "\n",
       "    .dataframe thead th {\n",
       "        text-align: left;\n",
       "    }\n",
       "\n",
       "    .dataframe tbody tr th {\n",
       "        vertical-align: top;\n",
       "    }\n",
       "</style>\n",
       "<table border=\"1\" class=\"dataframe\">\n",
       "  <thead>\n",
       "    <tr style=\"text-align: right;\">\n",
       "      <th></th>\n",
       "      <th>text</th>\n",
       "      <th>link</th>\n",
       "      <th>hashtags</th>\n",
       "      <th>mentions</th>\n",
       "      <th>state</th>\n",
       "      <th>NB</th>\n",
       "      <th>NB_prob+</th>\n",
       "      <th>Politician</th>\n",
       "      <th>label</th>\n",
       "    </tr>\n",
       "  </thead>\n",
       "  <tbody>\n",
       "    <tr>\n",
       "      <th>0</th>\n",
       "      <td>@barackobama \\n@fbi\\n@lorettalynch \\nall in co...</td>\n",
       "      <td>https://t.co/5GMNZq40V3</td>\n",
       "      <td>[nojustice, trumppence]</td>\n",
       "      <td>[barackobama, fbi, lorettalynch, realdonaldtrump]</td>\n",
       "      <td>LA</td>\n",
       "      <td>0</td>\n",
       "      <td>0.268989</td>\n",
       "      <td>Trump</td>\n",
       "      <td>T-</td>\n",
       "    </tr>\n",
       "    <tr>\n",
       "      <th>1</th>\n",
       "      <td>#cnn #newday clear #trump deliberately throwin...</td>\n",
       "      <td></td>\n",
       "      <td>[cnn, newday, trump, isis]</td>\n",
       "      <td>[]</td>\n",
       "      <td>MD</td>\n",
       "      <td>0</td>\n",
       "      <td>0.200862</td>\n",
       "      <td>Trump</td>\n",
       "      <td>T-</td>\n",
       "    </tr>\n",
       "    <tr>\n",
       "      <th>2</th>\n",
       "      <td>@mike4193496 @realdonaldtrump i totally concur...</td>\n",
       "      <td></td>\n",
       "      <td>[]</td>\n",
       "      <td>[mike4193496, realdonaldtrump]</td>\n",
       "      <td>MD</td>\n",
       "      <td>0</td>\n",
       "      <td>0.059660</td>\n",
       "      <td>Trump</td>\n",
       "      <td>T-</td>\n",
       "    </tr>\n",
       "    <tr>\n",
       "      <th>3</th>\n",
       "      <td>@hillaryclinton you are the co-founder of isis...</td>\n",
       "      <td></td>\n",
       "      <td>[]</td>\n",
       "      <td>[hillaryclinton]</td>\n",
       "      <td>TX</td>\n",
       "      <td>1</td>\n",
       "      <td>0.965413</td>\n",
       "      <td>Clinton</td>\n",
       "      <td>C+</td>\n",
       "    </tr>\n",
       "    <tr>\n",
       "      <th>4</th>\n",
       "      <td>@realdonaldtrump, you wouldn't recognize a lie...</td>\n",
       "      <td>https://t.co/pKSQM8yikm</td>\n",
       "      <td>[nevertrump]</td>\n",
       "      <td>[realdonaldtrump]</td>\n",
       "      <td>CA</td>\n",
       "      <td>1</td>\n",
       "      <td>0.936727</td>\n",
       "      <td>Trump</td>\n",
       "      <td>T+</td>\n",
       "    </tr>\n",
       "  </tbody>\n",
       "</table>\n",
       "</div>"
      ],
      "text/plain": [
       "                                                text                     link  \\\n",
       "0  @barackobama \\n@fbi\\n@lorettalynch \\nall in co...  https://t.co/5GMNZq40V3   \n",
       "1  #cnn #newday clear #trump deliberately throwin...                            \n",
       "2  @mike4193496 @realdonaldtrump i totally concur...                            \n",
       "3  @hillaryclinton you are the co-founder of isis...                            \n",
       "4  @realdonaldtrump, you wouldn't recognize a lie...  https://t.co/pKSQM8yikm   \n",
       "\n",
       "                     hashtags  \\\n",
       "0     [nojustice, trumppence]   \n",
       "1  [cnn, newday, trump, isis]   \n",
       "2                          []   \n",
       "3                          []   \n",
       "4                [nevertrump]   \n",
       "\n",
       "                                            mentions state  NB  NB_prob+  \\\n",
       "0  [barackobama, fbi, lorettalynch, realdonaldtrump]    LA   0  0.268989   \n",
       "1                                                 []    MD   0  0.200862   \n",
       "2                     [mike4193496, realdonaldtrump]    MD   0  0.059660   \n",
       "3                                   [hillaryclinton]    TX   1  0.965413   \n",
       "4                                  [realdonaldtrump]    CA   1  0.936727   \n",
       "\n",
       "  Politician label  \n",
       "0      Trump    T-  \n",
       "1      Trump    T-  \n",
       "2      Trump    T-  \n",
       "3    Clinton    C+  \n",
       "4      Trump    T+  "
      ]
     },
     "execution_count": 51,
     "metadata": {},
     "output_type": "execute_result"
    }
   ],
   "source": [
    "tweets.head()"
   ]
  },
  {
   "cell_type": "markdown",
   "metadata": {
    "collapsed": true
   },
   "source": [
    "# export for each state"
   ]
  },
  {
   "cell_type": "code",
   "execution_count": 52,
   "metadata": {
    "collapsed": true
   },
   "outputs": [],
   "source": [
    "from data.US_states import states"
   ]
  },
  {
   "cell_type": "code",
   "execution_count": 53,
   "metadata": {
    "collapsed": true
   },
   "outputs": [],
   "source": [
    "#initialize a df indexed by label values\n",
    "state_sentiment = pd.DataFrame(index=tweets.label.unique())"
   ]
  },
  {
   "cell_type": "code",
   "execution_count": 54,
   "metadata": {
    "collapsed": true
   },
   "outputs": [],
   "source": [
    "for state in states.keys():\n",
    "    state_sentiment[state] = tweets[tweets['state']==state]['label'].value_counts()\n",
    "state_sentiment = state_sentiment.transpose()"
   ]
  },
  {
   "cell_type": "code",
   "execution_count": 55,
   "metadata": {},
   "outputs": [
    {
     "data": {
      "text/html": [
       "<div>\n",
       "<style>\n",
       "    .dataframe thead tr:only-child th {\n",
       "        text-align: right;\n",
       "    }\n",
       "\n",
       "    .dataframe thead th {\n",
       "        text-align: left;\n",
       "    }\n",
       "\n",
       "    .dataframe tbody tr th {\n",
       "        vertical-align: top;\n",
       "    }\n",
       "</style>\n",
       "<table border=\"1\" class=\"dataframe\">\n",
       "  <thead>\n",
       "    <tr style=\"text-align: right;\">\n",
       "      <th></th>\n",
       "      <th>T-</th>\n",
       "      <th>C+</th>\n",
       "      <th>T+</th>\n",
       "      <th>C-</th>\n",
       "      <th>N</th>\n",
       "    </tr>\n",
       "  </thead>\n",
       "  <tbody>\n",
       "    <tr>\n",
       "      <th>count</th>\n",
       "      <td>51.000000</td>\n",
       "      <td>51.000000</td>\n",
       "      <td>51.000000</td>\n",
       "      <td>51.000000</td>\n",
       "      <td>51.000000</td>\n",
       "    </tr>\n",
       "    <tr>\n",
       "      <th>mean</th>\n",
       "      <td>1708.549020</td>\n",
       "      <td>830.196078</td>\n",
       "      <td>2367.372549</td>\n",
       "      <td>667.294118</td>\n",
       "      <td>1922.568627</td>\n",
       "    </tr>\n",
       "    <tr>\n",
       "      <th>std</th>\n",
       "      <td>2498.403181</td>\n",
       "      <td>1160.520418</td>\n",
       "      <td>3417.309076</td>\n",
       "      <td>931.886802</td>\n",
       "      <td>2717.523522</td>\n",
       "    </tr>\n",
       "    <tr>\n",
       "      <th>min</th>\n",
       "      <td>51.000000</td>\n",
       "      <td>27.000000</td>\n",
       "      <td>74.000000</td>\n",
       "      <td>25.000000</td>\n",
       "      <td>43.000000</td>\n",
       "    </tr>\n",
       "    <tr>\n",
       "      <th>25%</th>\n",
       "      <td>397.000000</td>\n",
       "      <td>227.000000</td>\n",
       "      <td>521.000000</td>\n",
       "      <td>154.000000</td>\n",
       "      <td>461.500000</td>\n",
       "    </tr>\n",
       "    <tr>\n",
       "      <th>50%</th>\n",
       "      <td>715.000000</td>\n",
       "      <td>399.000000</td>\n",
       "      <td>1264.000000</td>\n",
       "      <td>312.000000</td>\n",
       "      <td>1036.000000</td>\n",
       "    </tr>\n",
       "    <tr>\n",
       "      <th>75%</th>\n",
       "      <td>1938.000000</td>\n",
       "      <td>976.000000</td>\n",
       "      <td>2621.000000</td>\n",
       "      <td>842.500000</td>\n",
       "      <td>2158.000000</td>\n",
       "    </tr>\n",
       "    <tr>\n",
       "      <th>max</th>\n",
       "      <td>13842.000000</td>\n",
       "      <td>6388.000000</td>\n",
       "      <td>18079.000000</td>\n",
       "      <td>5082.000000</td>\n",
       "      <td>14284.000000</td>\n",
       "    </tr>\n",
       "  </tbody>\n",
       "</table>\n",
       "</div>"
      ],
      "text/plain": [
       "                 T-           C+            T+           C-             N\n",
       "count     51.000000    51.000000     51.000000    51.000000     51.000000\n",
       "mean    1708.549020   830.196078   2367.372549   667.294118   1922.568627\n",
       "std     2498.403181  1160.520418   3417.309076   931.886802   2717.523522\n",
       "min       51.000000    27.000000     74.000000    25.000000     43.000000\n",
       "25%      397.000000   227.000000    521.000000   154.000000    461.500000\n",
       "50%      715.000000   399.000000   1264.000000   312.000000   1036.000000\n",
       "75%     1938.000000   976.000000   2621.000000   842.500000   2158.000000\n",
       "max    13842.000000  6388.000000  18079.000000  5082.000000  14284.000000"
      ]
     },
     "execution_count": 55,
     "metadata": {},
     "output_type": "execute_result"
    }
   ],
   "source": [
    "state_sentiment.describe()"
   ]
  },
  {
   "cell_type": "code",
   "execution_count": 56,
   "metadata": {},
   "outputs": [
    {
     "data": {
      "text/html": [
       "<div>\n",
       "<style>\n",
       "    .dataframe thead tr:only-child th {\n",
       "        text-align: right;\n",
       "    }\n",
       "\n",
       "    .dataframe thead th {\n",
       "        text-align: left;\n",
       "    }\n",
       "\n",
       "    .dataframe tbody tr th {\n",
       "        vertical-align: top;\n",
       "    }\n",
       "</style>\n",
       "<table border=\"1\" class=\"dataframe\">\n",
       "  <thead>\n",
       "    <tr style=\"text-align: right;\">\n",
       "      <th></th>\n",
       "      <th>T-</th>\n",
       "      <th>C+</th>\n",
       "      <th>T+</th>\n",
       "      <th>C-</th>\n",
       "      <th>N</th>\n",
       "    </tr>\n",
       "  </thead>\n",
       "  <tbody>\n",
       "    <tr>\n",
       "      <th>WA</th>\n",
       "      <td>2276</td>\n",
       "      <td>1027</td>\n",
       "      <td>3150</td>\n",
       "      <td>833</td>\n",
       "      <td>2300</td>\n",
       "    </tr>\n",
       "    <tr>\n",
       "      <th>WI</th>\n",
       "      <td>687</td>\n",
       "      <td>331</td>\n",
       "      <td>1332</td>\n",
       "      <td>286</td>\n",
       "      <td>1281</td>\n",
       "    </tr>\n",
       "    <tr>\n",
       "      <th>WV</th>\n",
       "      <td>291</td>\n",
       "      <td>81</td>\n",
       "      <td>430</td>\n",
       "      <td>44</td>\n",
       "      <td>161</td>\n",
       "    </tr>\n",
       "    <tr>\n",
       "      <th>FL</th>\n",
       "      <td>7685</td>\n",
       "      <td>3595</td>\n",
       "      <td>10974</td>\n",
       "      <td>3100</td>\n",
       "      <td>9331</td>\n",
       "    </tr>\n",
       "    <tr>\n",
       "      <th>WY</th>\n",
       "      <td>51</td>\n",
       "      <td>56</td>\n",
       "      <td>119</td>\n",
       "      <td>49</td>\n",
       "      <td>71</td>\n",
       "    </tr>\n",
       "  </tbody>\n",
       "</table>\n",
       "</div>"
      ],
      "text/plain": [
       "      T-    C+     T+    C-     N\n",
       "WA  2276  1027   3150   833  2300\n",
       "WI   687   331   1332   286  1281\n",
       "WV   291    81    430    44   161\n",
       "FL  7685  3595  10974  3100  9331\n",
       "WY    51    56    119    49    71"
      ]
     },
     "execution_count": 56,
     "metadata": {},
     "output_type": "execute_result"
    }
   ],
   "source": [
    "state_sentiment.head()"
   ]
  },
  {
   "cell_type": "code",
   "execution_count": 155,
   "metadata": {
    "collapsed": true
   },
   "outputs": [],
   "source": [
    "pickle.dump(state_sentiment,open('results/state_sentiment_0.5.pickle','wb'))"
   ]
  },
  {
   "cell_type": "code",
   "execution_count": null,
   "metadata": {
    "collapsed": true
   },
   "outputs": [],
   "source": []
  },
  {
   "cell_type": "markdown",
   "metadata": {},
   "source": [
    "# Investigate tweets using hashtags"
   ]
  },
  {
   "cell_type": "code",
   "execution_count": 93,
   "metadata": {
    "collapsed": true
   },
   "outputs": [],
   "source": [
    "def get_sentiment_from_hashtag(hashtag_list,\n",
    "                               anti_trump_list=set(['nevertrump','dumptrump']), anti_hillary_list=set(['lockherup']),\n",
    "                               pro_trump_list=set(['trumptrain']), pro_hillary_list=set(['imwithher'])\n",
    "                              ):\n",
    "    '''Given a list of hashtags, classify the tweet positively (1), neutral (0) or negatively(-1)'''\n",
    "    hashtag_list = set(hashtag_list)\n",
    "    pro_trump=anti_trump=pro_hillary=anti_hillary = False\n",
    "    negative=positive = False\n",
    "    if (len(hashtag_list.intersection(anti_trump_list))>0) | (len(hashtag_list.intersection(anti_hillary_list))>0):\n",
    "        negative = True\n",
    "    \n",
    "    if (len(hashtag_list.intersection(pro_hillary_list))>0) | (len(hashtag_list.intersection(pro_trump_list))>0):\n",
    "        positive = True\n",
    "\n",
    "    if positive == negative:\n",
    "        return 0 #both negative+positive hashtags\n",
    "    if positive:\n",
    "        return 1\n",
    "    if negative:\n",
    "        return -1\n",
    "    return 0 #no 'explanatory' hashtag found"
   ]
  },
  {
   "cell_type": "code",
   "execution_count": 97,
   "metadata": {},
   "outputs": [
    {
     "name": "stdout",
     "output_type": "stream",
     "text": [
      "0\n",
      "-1\n"
     ]
    }
   ],
   "source": [
    "#test our function\n",
    "print get_sentiment_from_hashtag(['lockherup', 'trumptrain'])\n",
    "print get_sentiment_from_hashtag(['lockherup', 'dumptrump'])"
   ]
  },
  {
   "cell_type": "code",
   "execution_count": 102,
   "metadata": {
    "scrolled": true
   },
   "outputs": [
    {
     "data": {
      "text/plain": [
       "array([-1,  0,  1])"
      ]
     },
     "execution_count": 102,
     "metadata": {},
     "output_type": "execute_result"
    }
   ],
   "source": [
    "np.unique([tweets.hashtags.apply(lambda x: get_sentiment_from_hashtag(x))])"
   ]
  },
  {
   "cell_type": "code",
   "execution_count": 106,
   "metadata": {
    "collapsed": true
   },
   "outputs": [],
   "source": [
    "tweets['sentiment_hashtag'] = tweets.hashtags.apply(lambda x: get_sentiment_from_hashtag(x))"
   ]
  },
  {
   "cell_type": "code",
   "execution_count": 107,
   "metadata": {},
   "outputs": [
    {
     "data": {
      "text/html": [
       "<div>\n",
       "<style>\n",
       "    .dataframe thead tr:only-child th {\n",
       "        text-align: right;\n",
       "    }\n",
       "\n",
       "    .dataframe thead th {\n",
       "        text-align: left;\n",
       "    }\n",
       "\n",
       "    .dataframe tbody tr th {\n",
       "        vertical-align: top;\n",
       "    }\n",
       "</style>\n",
       "<table border=\"1\" class=\"dataframe\">\n",
       "  <thead>\n",
       "    <tr style=\"text-align: right;\">\n",
       "      <th></th>\n",
       "      <th>text</th>\n",
       "      <th>link</th>\n",
       "      <th>hashtags</th>\n",
       "      <th>mentions</th>\n",
       "      <th>state</th>\n",
       "      <th>NB</th>\n",
       "      <th>NB_prob+</th>\n",
       "      <th>Politician</th>\n",
       "      <th>label</th>\n",
       "      <th>sentiment_hashtag</th>\n",
       "    </tr>\n",
       "  </thead>\n",
       "  <tbody>\n",
       "    <tr>\n",
       "      <th>0</th>\n",
       "      <td>@barackobama \\n@fbi\\n@lorettalynch \\nall in co...</td>\n",
       "      <td>https://t.co/5GMNZq40V3</td>\n",
       "      <td>[nojustice, trumppence]</td>\n",
       "      <td>[barackobama, fbi, lorettalynch, realdonaldtrump]</td>\n",
       "      <td>LA</td>\n",
       "      <td>0</td>\n",
       "      <td>0.268989</td>\n",
       "      <td>Trump</td>\n",
       "      <td>T-</td>\n",
       "      <td>0</td>\n",
       "    </tr>\n",
       "    <tr>\n",
       "      <th>1</th>\n",
       "      <td>#cnn #newday clear #trump deliberately throwin...</td>\n",
       "      <td></td>\n",
       "      <td>[cnn, newday, trump, isis]</td>\n",
       "      <td>[]</td>\n",
       "      <td>MD</td>\n",
       "      <td>0</td>\n",
       "      <td>0.200862</td>\n",
       "      <td>Trump</td>\n",
       "      <td>T-</td>\n",
       "      <td>0</td>\n",
       "    </tr>\n",
       "    <tr>\n",
       "      <th>2</th>\n",
       "      <td>@mike4193496 @realdonaldtrump i totally concur...</td>\n",
       "      <td></td>\n",
       "      <td>[]</td>\n",
       "      <td>[mike4193496, realdonaldtrump]</td>\n",
       "      <td>MD</td>\n",
       "      <td>0</td>\n",
       "      <td>0.059660</td>\n",
       "      <td>Trump</td>\n",
       "      <td>T-</td>\n",
       "      <td>0</td>\n",
       "    </tr>\n",
       "    <tr>\n",
       "      <th>3</th>\n",
       "      <td>@hillaryclinton you are the co-founder of isis...</td>\n",
       "      <td></td>\n",
       "      <td>[]</td>\n",
       "      <td>[hillaryclinton]</td>\n",
       "      <td>TX</td>\n",
       "      <td>1</td>\n",
       "      <td>0.965413</td>\n",
       "      <td>Clinton</td>\n",
       "      <td>C+</td>\n",
       "      <td>0</td>\n",
       "    </tr>\n",
       "    <tr>\n",
       "      <th>4</th>\n",
       "      <td>@realdonaldtrump, you wouldn't recognize a lie...</td>\n",
       "      <td>https://t.co/pKSQM8yikm</td>\n",
       "      <td>[nevertrump]</td>\n",
       "      <td>[realdonaldtrump]</td>\n",
       "      <td>CA</td>\n",
       "      <td>1</td>\n",
       "      <td>0.936727</td>\n",
       "      <td>Trump</td>\n",
       "      <td>T+</td>\n",
       "      <td>-1</td>\n",
       "    </tr>\n",
       "  </tbody>\n",
       "</table>\n",
       "</div>"
      ],
      "text/plain": [
       "                                                text                     link  \\\n",
       "0  @barackobama \\n@fbi\\n@lorettalynch \\nall in co...  https://t.co/5GMNZq40V3   \n",
       "1  #cnn #newday clear #trump deliberately throwin...                            \n",
       "2  @mike4193496 @realdonaldtrump i totally concur...                            \n",
       "3  @hillaryclinton you are the co-founder of isis...                            \n",
       "4  @realdonaldtrump, you wouldn't recognize a lie...  https://t.co/pKSQM8yikm   \n",
       "\n",
       "                     hashtags  \\\n",
       "0     [nojustice, trumppence]   \n",
       "1  [cnn, newday, trump, isis]   \n",
       "2                          []   \n",
       "3                          []   \n",
       "4                [nevertrump]   \n",
       "\n",
       "                                            mentions state  NB  NB_prob+  \\\n",
       "0  [barackobama, fbi, lorettalynch, realdonaldtrump]    LA   0  0.268989   \n",
       "1                                                 []    MD   0  0.200862   \n",
       "2                     [mike4193496, realdonaldtrump]    MD   0  0.059660   \n",
       "3                                   [hillaryclinton]    TX   1  0.965413   \n",
       "4                                  [realdonaldtrump]    CA   1  0.936727   \n",
       "\n",
       "  Politician label  sentiment_hashtag  \n",
       "0      Trump    T-                  0  \n",
       "1      Trump    T-                  0  \n",
       "2      Trump    T-                  0  \n",
       "3    Clinton    C+                  0  \n",
       "4      Trump    T+                 -1  "
      ]
     },
     "execution_count": 107,
     "metadata": {},
     "output_type": "execute_result"
    }
   ],
   "source": [
    "tweets.head()"
   ]
  },
  {
   "cell_type": "markdown",
   "metadata": {},
   "source": [
    "# Benchmark my classifier on negative hashtag tweets"
   ]
  },
  {
   "cell_type": "code",
   "execution_count": 116,
   "metadata": {
    "collapsed": true
   },
   "outputs": [],
   "source": [
    "negative_tweets = clf.predict(selector.transform(vect.transform(tweets.text[tweets.sentiment_hashtag==-1])))\n",
    "negative_idx = tweets.text[tweets.sentiment_hashtag==-1].index"
   ]
  },
  {
   "cell_type": "code",
   "execution_count": 117,
   "metadata": {
    "scrolled": false
   },
   "outputs": [
    {
     "name": "stdout",
     "output_type": "stream",
     "text": [
      "0.998751269877 @dds_officer thx 4 the follow. i look 4ward 2 learning n 2 sharing. best, nick. pls visit me at www.  #nevertrump \n",
      "\n",
      "0.714839142351 @rogerjstonejr how is the best dressed man in nyc tonight? wishing you well and praying for you tonight. #maga \n",
      "\n",
      "0.070043121167 i hope they release everything soon. i think she'll have 2 quit due to illness, but either way we need to go.   \n",
      "\n",
      "0.367458973798 all of you so called #conservatives will be putting a lib dem to appoint if you don't vote #trump.  it's more than 4 years at stake #gop \n",
      "\n"
     ]
    },
    {
     "name": "stderr",
     "output_type": "stream",
     "text": [
      "/home/antonis/anaconda2/envs/USelections/lib/python2.7/site-packages/ipykernel/__main__.py:3: DeprecationWarning: \n",
      ".ix is deprecated. Please use\n",
      ".loc for label based indexing or\n",
      ".iloc for positional indexing\n",
      "\n",
      "See the documentation here:\n",
      "http://pandas.pydata.org/pandas-docs/stable/indexing.html#ix-indexer-is-deprecated\n",
      "  app.launch_new_instance()\n"
     ]
    }
   ],
   "source": [
    "for i in range(1,5):\n",
    "    j = random.randint(0,len(negative_idx))\n",
    "    print tweets.ix[j,'NB_prob+'],tweets.text[j],'\\n'"
   ]
  },
  {
   "cell_type": "code",
   "execution_count": 118,
   "metadata": {},
   "outputs": [
    {
     "data": {
      "text/plain": [
       "1    10429\n",
       "0     8468\n",
       "dtype: int64"
      ]
     },
     "execution_count": 118,
     "metadata": {},
     "output_type": "execute_result"
    }
   ],
   "source": [
    "pd.Series(negative_tweets).value_counts()"
   ]
  },
  {
   "cell_type": "markdown",
   "metadata": {},
   "source": [
    "### We can see that there is a problem in our sentiment classifier, as we would expect it to label more tweets negatively\n",
    "We should investigate ways to improve it, such as train on a political corpus dataset, use bigrams etc. For more on that, please check the discussion section in our assignment."
   ]
  }
 ],
 "metadata": {
  "celltoolbar": "Raw Cell Format",
  "kernelspec": {
   "display_name": "Python [conda env:USelections]",
   "language": "python",
   "name": "conda-env-USelections-py"
  },
  "language_info": {
   "codemirror_mode": {
    "name": "ipython",
    "version": 2
   },
   "file_extension": ".py",
   "mimetype": "text/x-python",
   "name": "python",
   "nbconvert_exporter": "python",
   "pygments_lexer": "ipython2",
   "version": "2.7.13"
  }
 },
 "nbformat": 4,
 "nbformat_minor": 2
}
