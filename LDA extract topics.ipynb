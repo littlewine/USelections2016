{
 "cells": [
  {
   "cell_type": "markdown",
   "metadata": {},
   "source": [
    "In this notebook, we will train an Latend Dirichlet Allocation (LDA) model on tweets to learn a set of words which commonly appear together, hopefully corresponding to a topic.\n",
    "We will apply the LDA training on the whole corpus of our tweets and extract 10 topics. Additionally, we will visualize the results using the pyLDAvis library.\n",
    "\n",
    "Following, we will take these results to a different notebook for analysis. There, we will assign a topic distribution on each tweet given the words used in it and we will sum the topic distributions of all tweets corresponding to a state to conclude to the topic distribution per state."
   ]
  },
  {
   "cell_type": "code",
   "execution_count": 2,
   "metadata": {
    "collapsed": true
   },
   "outputs": [],
   "source": [
    "from pymongo import MongoClient\n",
    "import json\n",
    "\n",
    "client = MongoClient()\n",
    "db = client.Twitter"
   ]
  },
  {
   "cell_type": "code",
   "execution_count": 3,
   "metadata": {
    "collapsed": true
   },
   "outputs": [],
   "source": [
    "import pandas as pd\n",
    "import time\n",
    "import re\n",
    "from nltk.tokenize import RegexpTokenizer\n",
    "import HTMLParser # In Python 3.4+ import html \n",
    "import nltk\n",
    "from nltk.corpus import stopwords"
   ]
  },
  {
   "cell_type": "markdown",
   "metadata": {},
   "source": [
    "# LOAD data from Mongo"
   ]
  },
  {
   "cell_type": "code",
   "execution_count": 4,
   "metadata": {},
   "outputs": [
    {
     "name": "stdout",
     "output_type": "stream",
     "text": [
      "16.0380530357\n"
     ]
    }
   ],
   "source": [
    "start_time = time.time()\n",
    "#we are filtering out tweets of different languages and outside of the US\n",
    "filter_query = { \n",
    "    \"$and\":[ {\"place.country_code\":\"US\"}, { \"lang\": \"en\" } ]\n",
    "    }\n",
    "#we are keeping only our fields of interest\n",
    "columns_query = {\n",
    "    'text':1,\n",
    "    'entities.hashtags':1,\n",
    "    'entities.user_mentions':1,\n",
    "    'place.full_name':1,\n",
    "    'place.bounding_box':1\n",
    "}\n",
    "\n",
    "tweets = pd.DataFrame(list(db.tweets.find(\n",
    "    filter_query, \n",
    "    columns_query\n",
    "    )#.limit()\n",
    "                               )\n",
    "                          )\n",
    "\n",
    "elapsed_time = time.time() - start_time\n",
    "print elapsed_time\n"
   ]
  },
  {
   "cell_type": "markdown",
   "metadata": {},
   "source": [
    "# Preproccessing"
   ]
  },
  {
   "cell_type": "code",
   "execution_count": 5,
   "metadata": {
    "collapsed": true
   },
   "outputs": [],
   "source": [
    "#parse state variable\n",
    "tweets['state'] = map(lambda place_dict: place_dict['full_name'][-2:] ,tweets['place'])\n"
   ]
  },
  {
   "cell_type": "code",
   "execution_count": null,
   "metadata": {
    "collapsed": true
   },
   "outputs": [],
   "source": []
  },
  {
   "cell_type": "code",
   "execution_count": 6,
   "metadata": {
    "scrolled": false
   },
   "outputs": [
    {
     "data": {
      "text/plain": [
       "SA    130964\n",
       "CA     57675\n",
       "NY     37822\n",
       "FL     34685\n",
       "TX     27640\n",
       "Name: state, dtype: int64"
      ]
     },
     "execution_count": 6,
     "metadata": {},
     "output_type": "execute_result"
    }
   ],
   "source": [
    "tweets['state'].value_counts().head()"
   ]
  },
  {
   "cell_type": "code",
   "execution_count": 7,
   "metadata": {},
   "outputs": [
    {
     "data": {
      "text/plain": [
       "517724"
      ]
     },
     "execution_count": 7,
     "metadata": {},
     "output_type": "execute_result"
    }
   ],
   "source": [
    "# #for one state only\n",
    "# state = 'CA'\n",
    "# tweets = tweets[tweets['state']==state]\n",
    "len(tweets)"
   ]
  },
  {
   "cell_type": "code",
   "execution_count": null,
   "metadata": {
    "collapsed": true
   },
   "outputs": [],
   "source": []
  },
  {
   "cell_type": "code",
   "execution_count": 8,
   "metadata": {},
   "outputs": [
    {
     "name": "stdout",
     "output_type": "stream",
     "text": [
      "75.8121948242\n"
     ]
    },
    {
     "data": {
      "text/html": [
       "<div>\n",
       "<style>\n",
       "    .dataframe thead tr:only-child th {\n",
       "        text-align: right;\n",
       "    }\n",
       "\n",
       "    .dataframe thead th {\n",
       "        text-align: left;\n",
       "    }\n",
       "\n",
       "    .dataframe tbody tr th {\n",
       "        vertical-align: top;\n",
       "    }\n",
       "</style>\n",
       "<table border=\"1\" class=\"dataframe\">\n",
       "  <thead>\n",
       "    <tr style=\"text-align: right;\">\n",
       "      <th></th>\n",
       "      <th>_id</th>\n",
       "      <th>entities</th>\n",
       "      <th>place</th>\n",
       "      <th>text</th>\n",
       "      <th>state</th>\n",
       "      <th>Trump</th>\n",
       "      <th>mentions</th>\n",
       "      <th>hashtags</th>\n",
       "      <th>token</th>\n",
       "    </tr>\n",
       "  </thead>\n",
       "  <tbody>\n",
       "    <tr>\n",
       "      <th>0</th>\n",
       "      <td>59c10dfc66b388bfad9235af</td>\n",
       "      <td>{u'user_mentions': [{u'id': 813286, u'indices'...</td>\n",
       "      <td>{u'bounding_box': {u'type': u'Polygon', u'coor...</td>\n",
       "      <td>\\n\\n \\nALL IN COLLUSION TOGETHER \\n\\n \\n\\n \\n...</td>\n",
       "      <td>LA</td>\n",
       "      <td>True</td>\n",
       "      <td>[@BarackObama, @FBI, @LORETTALYNCH, @realDonal...</td>\n",
       "      <td>[#NOJUSTICE, #TrumpPence]</td>\n",
       "      <td>[collusion, together]</td>\n",
       "    </tr>\n",
       "    <tr>\n",
       "      <th>1</th>\n",
       "      <td>59c10dfc66b388bfad9235b3</td>\n",
       "      <td>{u'user_mentions': [], u'hashtags': [{u'indice...</td>\n",
       "      <td>{u'bounding_box': {u'type': u'Polygon', u'coor...</td>\n",
       "      <td>clear  deliberately throwing this race,in  h...</td>\n",
       "      <td>MD</td>\n",
       "      <td>True</td>\n",
       "      <td>[]</td>\n",
       "      <td>[#CNN, #newday, #Trump, #ISIS]</td>\n",
       "      <td>[mideast, destabilization, throwing, clear, kn...</td>\n",
       "    </tr>\n",
       "    <tr>\n",
       "      <th>2</th>\n",
       "      <td>59c10dfc66b388bfad9235b4</td>\n",
       "      <td>{u'user_mentions': [{u'id': 4852163069, u'indi...</td>\n",
       "      <td>{u'bounding_box': {u'type': u'Polygon', u'coor...</td>\n",
       "      <td>I TOTALLY CONCUR!! This Election is just CRA...</td>\n",
       "      <td>MD</td>\n",
       "      <td>True</td>\n",
       "      <td>[@mike4193496, @realDonaldTrump]</td>\n",
       "      <td>[]</td>\n",
       "      <td>[blowing, last, mind, n, cra, election, concur...</td>\n",
       "    </tr>\n",
       "    <tr>\n",
       "      <th>3</th>\n",
       "      <td>59c10dfc66b388bfad9235b5</td>\n",
       "      <td>{u'user_mentions': [{u'id': 1339835893, u'indi...</td>\n",
       "      <td>{u'bounding_box': {u'type': u'Polygon', u'coor...</td>\n",
       "      <td>you ARE the co-founder of ISIS, you crooked, ...</td>\n",
       "      <td>TX</td>\n",
       "      <td>False</td>\n",
       "      <td>[@HillaryClinton]</td>\n",
       "      <td>[]</td>\n",
       "      <td>[co, founder, crooked, evil, live, witch, isis...</td>\n",
       "    </tr>\n",
       "    <tr>\n",
       "      <th>4</th>\n",
       "      <td>59c10dfc66b388bfad9235b6</td>\n",
       "      <td>{u'user_mentions': [{u'id': 25073877, u'indice...</td>\n",
       "      <td>{u'bounding_box': {u'type': u'Polygon', u'coor...</td>\n",
       "      <td>, you wouldn't recognize a lie if it came from...</td>\n",
       "      <td>CA</td>\n",
       "      <td>True</td>\n",
       "      <td>[@realDonaldTrump]</td>\n",
       "      <td>[#NeverTrump]</td>\n",
       "      <td>[lie, continually, mouth, came, recognize]</td>\n",
       "    </tr>\n",
       "  </tbody>\n",
       "</table>\n",
       "</div>"
      ],
      "text/plain": [
       "                        _id  \\\n",
       "0  59c10dfc66b388bfad9235af   \n",
       "1  59c10dfc66b388bfad9235b3   \n",
       "2  59c10dfc66b388bfad9235b4   \n",
       "3  59c10dfc66b388bfad9235b5   \n",
       "4  59c10dfc66b388bfad9235b6   \n",
       "\n",
       "                                            entities  \\\n",
       "0  {u'user_mentions': [{u'id': 813286, u'indices'...   \n",
       "1  {u'user_mentions': [], u'hashtags': [{u'indice...   \n",
       "2  {u'user_mentions': [{u'id': 4852163069, u'indi...   \n",
       "3  {u'user_mentions': [{u'id': 1339835893, u'indi...   \n",
       "4  {u'user_mentions': [{u'id': 25073877, u'indice...   \n",
       "\n",
       "                                               place  \\\n",
       "0  {u'bounding_box': {u'type': u'Polygon', u'coor...   \n",
       "1  {u'bounding_box': {u'type': u'Polygon', u'coor...   \n",
       "2  {u'bounding_box': {u'type': u'Polygon', u'coor...   \n",
       "3  {u'bounding_box': {u'type': u'Polygon', u'coor...   \n",
       "4  {u'bounding_box': {u'type': u'Polygon', u'coor...   \n",
       "\n",
       "                                                text state  Trump  \\\n",
       "0   \\n\\n \\nALL IN COLLUSION TOGETHER \\n\\n \\n\\n \\n...    LA   True   \n",
       "1    clear  deliberately throwing this race,in  h...    MD   True   \n",
       "2    I TOTALLY CONCUR!! This Election is just CRA...    MD   True   \n",
       "3   you ARE the co-founder of ISIS, you crooked, ...    TX  False   \n",
       "4  , you wouldn't recognize a lie if it came from...    CA   True   \n",
       "\n",
       "                                            mentions  \\\n",
       "0  [@BarackObama, @FBI, @LORETTALYNCH, @realDonal...   \n",
       "1                                                 []   \n",
       "2                   [@mike4193496, @realDonaldTrump]   \n",
       "3                                  [@HillaryClinton]   \n",
       "4                                 [@realDonaldTrump]   \n",
       "\n",
       "                         hashtags  \\\n",
       "0       [#NOJUSTICE, #TrumpPence]   \n",
       "1  [#CNN, #newday, #Trump, #ISIS]   \n",
       "2                              []   \n",
       "3                              []   \n",
       "4                   [#NeverTrump]   \n",
       "\n",
       "                                               token  \n",
       "0                              [collusion, together]  \n",
       "1  [mideast, destabilization, throwing, clear, kn...  \n",
       "2  [blowing, last, mind, n, cra, election, concur...  \n",
       "3  [co, founder, crooked, evil, live, witch, isis...  \n",
       "4         [lie, continually, mouth, came, recognize]  "
      ]
     },
     "execution_count": 8,
     "metadata": {},
     "output_type": "execute_result"
    }
   ],
   "source": [
    "def Clean(unescaped_tweet):\n",
    "    '''This function takes a tweet as input and returns a tokenizing list.'''\n",
    "    \n",
    "    tokenizer = RegexpTokenizer(r'\\w+')\n",
    "    cleaned_tweet_tokens = tokenizer.tokenize(unescaped_tweet.lower())\n",
    "    \n",
    "    return cleaned_tweet_tokens\n",
    "\n",
    "\n",
    "start_time = time.time() #Starts time\n",
    "\n",
    "tweets['text'] = tweets['text'].apply(lambda tweet: re.sub(r\"http\\S+\", \"\", tweet))\n",
    "\n",
    "#########################################################\n",
    "\n",
    "def trump_mention(tweet):\n",
    "    trump_count = 0\n",
    "    if ('trump' in tweet.lower()) or ('donald'  in tweet.lower()):\n",
    "        \n",
    "        return True\n",
    "        \n",
    "    return False\n",
    "\n",
    "tweets['Trump'] = tweets['text'].apply(lambda tweet: trump_mention(tweet))\n",
    "\n",
    "##############################################################\n",
    "\n",
    "#tweet mentions --->@\n",
    "#tweet hashtags --->#\n",
    "\n",
    "#create two column with the the hashtags and the mentions\n",
    "tweets['mentions'] = tweets['text'].apply(lambda tweet: re.findall(r'\\@\\w+',tweet))\n",
    "tweets['hashtags'] = tweets['text'].apply(lambda tweet: re.findall(r'\\#\\w+',tweet))\n",
    "\n",
    "#remove hashtags and mentions\n",
    "tweets['text'] = tweets['text'].apply(lambda tweet: re.sub(r\"\\@\\w+\" , \"\", tweet))\n",
    "tweets['text'] = tweets['text'].apply(lambda tweet: re.sub(r\"\\#\\w+\" , \"\", tweet))\n",
    "\n",
    "#remove the numbers from the text\n",
    "tweets['text'] =tweets['text'].apply(lambda tweet: ''.join([i for i in tweet if not i.isdigit()]))\n",
    "\n",
    "trump_count = 0\n",
    "clinton_count =0\n",
    "\n",
    "\n",
    "#remove the names and surnames of the two candidates\n",
    "tweets['text'] =tweets['text'].apply(lambda tweet: re.sub(r\"Trump\" , \"\", tweet))\n",
    "tweets['text'] =tweets['text'].apply(lambda tweet: re.sub(r\"Clinton\" , \"\", tweet))\n",
    "tweets['text'] =tweets['text'].apply(lambda tweet: re.sub(r\"Donald\" , \"\", tweet))\n",
    "tweets['text'] =tweets['text'].apply(lambda tweet: re.sub(r\"Hillary\" , \"\", tweet))\n",
    "tweets['text'] =tweets['text'].apply(lambda tweet: re.sub(r\"USA\" , \"\", tweet))\n",
    "tweets['text'] =tweets['text'].apply(lambda tweet: re.sub(r\"amp\" , \"\", tweet))\n",
    "\n",
    "\n",
    "\n",
    "#tokenize the text and add an extra column\n",
    "tweets['token'] = tweets['text'].apply(lambda tweet: Clean(tweet))\n",
    "\n",
    "tweets['token'] = tweets['token'].apply(lambda x: list(set(x)-set(stopwords.words('english'))))\n",
    "\n",
    "elapsed_time = time.time() - start_time #time ends\n",
    "print elapsed_time\n",
    "\n",
    "tweets.head()"
   ]
  },
  {
   "cell_type": "code",
   "execution_count": 9,
   "metadata": {
    "scrolled": true
   },
   "outputs": [
    {
     "data": {
      "text/html": [
       "<div>\n",
       "<style>\n",
       "    .dataframe thead tr:only-child th {\n",
       "        text-align: right;\n",
       "    }\n",
       "\n",
       "    .dataframe thead th {\n",
       "        text-align: left;\n",
       "    }\n",
       "\n",
       "    .dataframe tbody tr th {\n",
       "        vertical-align: top;\n",
       "    }\n",
       "</style>\n",
       "<table border=\"1\" class=\"dataframe\">\n",
       "  <thead>\n",
       "    <tr style=\"text-align: right;\">\n",
       "      <th></th>\n",
       "      <th>_id</th>\n",
       "      <th>entities</th>\n",
       "      <th>place</th>\n",
       "      <th>text</th>\n",
       "      <th>state</th>\n",
       "      <th>Trump</th>\n",
       "      <th>mentions</th>\n",
       "      <th>hashtags</th>\n",
       "      <th>token</th>\n",
       "    </tr>\n",
       "  </thead>\n",
       "  <tbody>\n",
       "    <tr>\n",
       "      <th>0</th>\n",
       "      <td>59c10dfc66b388bfad9235af</td>\n",
       "      <td>{u'user_mentions': [{u'id': 813286, u'indices'...</td>\n",
       "      <td>{u'bounding_box': {u'type': u'Polygon', u'coor...</td>\n",
       "      <td>\\n\\n \\nALL IN COLLUSION TOGETHER \\n\\n \\n\\n \\n...</td>\n",
       "      <td>LA</td>\n",
       "      <td>True</td>\n",
       "      <td>[@BarackObama, @FBI, @LORETTALYNCH, @realDonal...</td>\n",
       "      <td>[#NOJUSTICE, #TrumpPence]</td>\n",
       "      <td>[collusion, together]</td>\n",
       "    </tr>\n",
       "    <tr>\n",
       "      <th>1</th>\n",
       "      <td>59c10dfc66b388bfad9235b3</td>\n",
       "      <td>{u'user_mentions': [], u'hashtags': [{u'indice...</td>\n",
       "      <td>{u'bounding_box': {u'type': u'Polygon', u'coor...</td>\n",
       "      <td>clear  deliberately throwing this race,in  h...</td>\n",
       "      <td>MD</td>\n",
       "      <td>True</td>\n",
       "      <td>[]</td>\n",
       "      <td>[#CNN, #newday, #Trump, #ISIS]</td>\n",
       "      <td>[mideast, destabilization, throwing, clear, kn...</td>\n",
       "    </tr>\n",
       "    <tr>\n",
       "      <th>2</th>\n",
       "      <td>59c10dfc66b388bfad9235b4</td>\n",
       "      <td>{u'user_mentions': [{u'id': 4852163069, u'indi...</td>\n",
       "      <td>{u'bounding_box': {u'type': u'Polygon', u'coor...</td>\n",
       "      <td>I TOTALLY CONCUR!! This Election is just CRA...</td>\n",
       "      <td>MD</td>\n",
       "      <td>True</td>\n",
       "      <td>[@mike4193496, @realDonaldTrump]</td>\n",
       "      <td>[]</td>\n",
       "      <td>[blowing, last, mind, n, cra, election, concur...</td>\n",
       "    </tr>\n",
       "    <tr>\n",
       "      <th>3</th>\n",
       "      <td>59c10dfc66b388bfad9235b5</td>\n",
       "      <td>{u'user_mentions': [{u'id': 1339835893, u'indi...</td>\n",
       "      <td>{u'bounding_box': {u'type': u'Polygon', u'coor...</td>\n",
       "      <td>you ARE the co-founder of ISIS, you crooked, ...</td>\n",
       "      <td>TX</td>\n",
       "      <td>False</td>\n",
       "      <td>[@HillaryClinton]</td>\n",
       "      <td>[]</td>\n",
       "      <td>[co, founder, crooked, evil, live, witch, isis...</td>\n",
       "    </tr>\n",
       "    <tr>\n",
       "      <th>4</th>\n",
       "      <td>59c10dfc66b388bfad9235b6</td>\n",
       "      <td>{u'user_mentions': [{u'id': 25073877, u'indice...</td>\n",
       "      <td>{u'bounding_box': {u'type': u'Polygon', u'coor...</td>\n",
       "      <td>, you wouldn't recognize a lie if it came from...</td>\n",
       "      <td>CA</td>\n",
       "      <td>True</td>\n",
       "      <td>[@realDonaldTrump]</td>\n",
       "      <td>[#NeverTrump]</td>\n",
       "      <td>[lie, continually, mouth, came, recognize]</td>\n",
       "    </tr>\n",
       "  </tbody>\n",
       "</table>\n",
       "</div>"
      ],
      "text/plain": [
       "                        _id  \\\n",
       "0  59c10dfc66b388bfad9235af   \n",
       "1  59c10dfc66b388bfad9235b3   \n",
       "2  59c10dfc66b388bfad9235b4   \n",
       "3  59c10dfc66b388bfad9235b5   \n",
       "4  59c10dfc66b388bfad9235b6   \n",
       "\n",
       "                                            entities  \\\n",
       "0  {u'user_mentions': [{u'id': 813286, u'indices'...   \n",
       "1  {u'user_mentions': [], u'hashtags': [{u'indice...   \n",
       "2  {u'user_mentions': [{u'id': 4852163069, u'indi...   \n",
       "3  {u'user_mentions': [{u'id': 1339835893, u'indi...   \n",
       "4  {u'user_mentions': [{u'id': 25073877, u'indice...   \n",
       "\n",
       "                                               place  \\\n",
       "0  {u'bounding_box': {u'type': u'Polygon', u'coor...   \n",
       "1  {u'bounding_box': {u'type': u'Polygon', u'coor...   \n",
       "2  {u'bounding_box': {u'type': u'Polygon', u'coor...   \n",
       "3  {u'bounding_box': {u'type': u'Polygon', u'coor...   \n",
       "4  {u'bounding_box': {u'type': u'Polygon', u'coor...   \n",
       "\n",
       "                                                text state  Trump  \\\n",
       "0   \\n\\n \\nALL IN COLLUSION TOGETHER \\n\\n \\n\\n \\n...    LA   True   \n",
       "1    clear  deliberately throwing this race,in  h...    MD   True   \n",
       "2    I TOTALLY CONCUR!! This Election is just CRA...    MD   True   \n",
       "3   you ARE the co-founder of ISIS, you crooked, ...    TX  False   \n",
       "4  , you wouldn't recognize a lie if it came from...    CA   True   \n",
       "\n",
       "                                            mentions  \\\n",
       "0  [@BarackObama, @FBI, @LORETTALYNCH, @realDonal...   \n",
       "1                                                 []   \n",
       "2                   [@mike4193496, @realDonaldTrump]   \n",
       "3                                  [@HillaryClinton]   \n",
       "4                                 [@realDonaldTrump]   \n",
       "\n",
       "                         hashtags  \\\n",
       "0       [#NOJUSTICE, #TrumpPence]   \n",
       "1  [#CNN, #newday, #Trump, #ISIS]   \n",
       "2                              []   \n",
       "3                              []   \n",
       "4                   [#NeverTrump]   \n",
       "\n",
       "                                               token  \n",
       "0                              [collusion, together]  \n",
       "1  [mideast, destabilization, throwing, clear, kn...  \n",
       "2  [blowing, last, mind, n, cra, election, concur...  \n",
       "3  [co, founder, crooked, evil, live, witch, isis...  \n",
       "4         [lie, continually, mouth, came, recognize]  "
      ]
     },
     "execution_count": 9,
     "metadata": {},
     "output_type": "execute_result"
    }
   ],
   "source": [
    "tweets.head()"
   ]
  },
  {
   "cell_type": "code",
   "execution_count": 10,
   "metadata": {
    "collapsed": true
   },
   "outputs": [],
   "source": [
    "#test['tags'] = map(lambda tweet: map(lambda tweet: tweet['text'] , tweet['entities']['hashtags']) if tweet['entities']['hashtags'] != None else None, raw_tweet[:100])\n",
    "#tweets['text'][9]"
   ]
  },
  {
   "cell_type": "code",
   "execution_count": 11,
   "metadata": {
    "scrolled": true
   },
   "outputs": [
    {
     "data": {
      "text/plain": [
       "[[u'collusion', u'together'],\n",
       " [u'mideast',\n",
       "  u'destabilization',\n",
       "  u'throwing',\n",
       "  u'clear',\n",
       "  u'knew',\n",
       "  u'started',\n",
       "  u'race',\n",
       "  u'deliberately',\n",
       "  u'w',\n",
       "  u'invasion',\n",
       "  u'iraq']]"
      ]
     },
     "execution_count": 11,
     "metadata": {},
     "output_type": "execute_result"
    }
   ],
   "source": [
    "doc_complete = tweets['token'].tolist()\n",
    "doc_complete[:2]"
   ]
  },
  {
   "cell_type": "code",
   "execution_count": 12,
   "metadata": {
    "collapsed": true
   },
   "outputs": [],
   "source": [
    "import gensim"
   ]
  },
  {
   "cell_type": "code",
   "execution_count": 13,
   "metadata": {
    "collapsed": true
   },
   "outputs": [],
   "source": [
    "import pickle"
   ]
  },
  {
   "cell_type": "code",
   "execution_count": 14,
   "metadata": {
    "collapsed": true
   },
   "outputs": [],
   "source": [
    "import gensim\n",
    "from gensim import corpora\n",
    "\n",
    "# Creating the term dictionary of our courpus, where every unique term is assigned an index\n",
    "dictionary = corpora.Dictionary(doc_complete)\n",
    "pickle.dump(dictionary, open( 'dictionary2.pickle', \"wb\" ) )\n",
    "\n",
    "# Converting list of documents (corpus) into Document Term Matrix using dictionary prepared above.\n",
    "doc_term_matrix = [dictionary.doc2bow(doc) for doc in doc_complete]\n",
    "pickle.dump(doc_term_matrix, open( 'doc_term_matrix.pickle', \"wb\" ) )\n"
   ]
  },
  {
   "cell_type": "code",
   "execution_count": null,
   "metadata": {
    "collapsed": true
   },
   "outputs": [],
   "source": []
  },
  {
   "cell_type": "code",
   "execution_count": 15,
   "metadata": {
    "collapsed": true
   },
   "outputs": [],
   "source": [
    "Lda = gensim.models.ldamulticore.LdaMulticore"
   ]
  },
  {
   "cell_type": "code",
   "execution_count": null,
   "metadata": {
    "collapsed": true
   },
   "outputs": [],
   "source": [
    "nr_topics = 10\n",
    "nr_passes = 100\n",
    "\n",
    "start_time = time.time()\n",
    "# Creating the object for LDA model using gensim library\n",
    "\n",
    "# Running and Trainign LDA model on the document term matrix.\n",
    "ldamodel = Lda(doc_term_matrix, num_topics=nr_topics, id2word = dictionary, passes=nr_passes)\n",
    "\n",
    "elapsed_time = time.time() - start_time\n"
   ]
  },
  {
   "cell_type": "code",
   "execution_count": 18,
   "metadata": {},
   "outputs": [
    {
     "name": "stdout",
     "output_type": "stream",
     "text": [
      "Topic modelling for 10 topics, 100 passes, 517724 tweets: \n",
      "complete in 88.7028 minutes\n"
     ]
    }
   ],
   "source": [
    "print 'Topic modelling for', nr_topics,'topics,', nr_passes,'passes,',len(tweets),'tweets:','\\ncomplete in',elapsed_time/60.,'minutes'"
   ]
  },
  {
   "cell_type": "code",
   "execution_count": null,
   "metadata": {
    "collapsed": true
   },
   "outputs": [],
   "source": [
    "# Runtimes:\n",
    "# Florida (~4K) ~ 16 min on 10 topics, 300 passes\n",
    "# CA (57K) - 48 min on 10 topics 300 passes\n"
   ]
  },
  {
   "cell_type": "code",
   "execution_count": null,
   "metadata": {
    "collapsed": true
   },
   "outputs": [],
   "source": [
    "# can we do it on the whole data -> take the topics and classify each tweet within them.\n",
    "# then we have discrete sets with topics and words weights in each topic.\n",
    "# so then isn't a tweet represented by the appropriate values?"
   ]
  },
  {
   "cell_type": "code",
   "execution_count": null,
   "metadata": {
    "collapsed": true,
    "scrolled": true
   },
   "outputs": [],
   "source": [
    "# Print 2 topics and describe then with 4 words.\n",
    "topics = ldamodel.print_topics(num_topics=nr_topics, num_words=50)\n",
    "i=0\n",
    "for topic in topics:\n",
    "    print topic\n",
    "    print \"\"\n",
    "    i+=1"
   ]
  },
  {
   "cell_type": "markdown",
   "metadata": {
    "collapsed": true
   },
   "source": [
    "# save/load the model"
   ]
  },
  {
   "cell_type": "code",
   "execution_count": 5,
   "metadata": {
    "collapsed": true
   },
   "outputs": [],
   "source": [
    "import pickle"
   ]
  },
  {
   "cell_type": "code",
   "execution_count": 7,
   "metadata": {
    "collapsed": true
   },
   "outputs": [],
   "source": [
    "nr_topics = 10\n",
    "nr_passes = 100\n"
   ]
  },
  {
   "cell_type": "code",
   "execution_count": 8,
   "metadata": {},
   "outputs": [
    {
     "name": "stdout",
     "output_type": "stream",
     "text": [
      "Procceed to save model in: trained models/lda/allstates_10topics_100passes.pickle\n"
     ]
    }
   ],
   "source": [
    "state = 'allstates'\n",
    "name = \"trained models/lda/%s_%itopics_%ipasses.pickle\"%(state,nr_topics,nr_passes)\n",
    "print \"Procceed to save model in:\", name"
   ]
  },
  {
   "cell_type": "code",
   "execution_count": null,
   "metadata": {
    "collapsed": true
   },
   "outputs": [],
   "source": [
    "pickle.dump(ldamodel, open( name, \"wb\" ) )"
   ]
  },
  {
   "cell_type": "code",
   "execution_count": 9,
   "metadata": {},
   "outputs": [
    {
     "name": "stderr",
     "output_type": "stream",
     "text": [
      "/home/antonis/anaconda2/envs/USelections/lib/python2.7/site-packages/urllib3/contrib/pyopenssl.py:46: DeprecationWarning: OpenSSL.rand is deprecated - you should use os.urandom instead\n",
      "  import OpenSSL.SSL\n",
      "/home/antonis/anaconda2/envs/USelections/lib/python2.7/site-packages/scipy/sparse/sparsetools.py:20: DeprecationWarning: `scipy.sparse.sparsetools` is deprecated!\n",
      "scipy.sparse.sparsetools is a private module for scipy.sparse, and should not be used.\n",
      "  _deprecated()\n"
     ]
    }
   ],
   "source": [
    "#load\n",
    "ldamodel = pickle.load(open(name,'rb'))"
   ]
  },
  {
   "cell_type": "markdown",
   "metadata": {
    "collapsed": true
   },
   "source": [
    "# efforts with pyLDAvis (visualize the LDA topics)"
   ]
  },
  {
   "cell_type": "code",
   "execution_count": 13,
   "metadata": {
    "collapsed": true
   },
   "outputs": [],
   "source": [
    "import time"
   ]
  },
  {
   "cell_type": "code",
   "execution_count": 10,
   "metadata": {
    "collapsed": true
   },
   "outputs": [],
   "source": [
    "import pyLDAvis.gensim\n",
    "pyLDAvis.enable_notebook()"
   ]
  },
  {
   "cell_type": "code",
   "execution_count": 14,
   "metadata": {},
   "outputs": [
    {
     "name": "stdout",
     "output_type": "stream",
     "text": [
      "19.5377728939\n"
     ]
    }
   ],
   "source": [
    "#load the LDA results (model, dictionary and corpus)\n",
    "start_time = time.time()\n",
    "\n",
    "ldamodel = pickle.load(open('trained models/lda/allstates_10topics_100passes.pickle'))\n",
    "dictandcorpus = pickle.load(open('trained models/lda/Dictionary.pickle'))\n",
    "c = dictandcorpus[1]\n",
    "d = dictandcorpus[0]\n",
    "del dictandcorpus\n",
    "\n",
    "elapsed_time = time.time() - start_time\n",
    "print elapsed_time"
   ]
  },
  {
   "cell_type": "code",
   "execution_count": null,
   "metadata": {
    "collapsed": true
   },
   "outputs": [],
   "source": []
  },
  {
   "cell_type": "code",
   "execution_count": null,
   "metadata": {
    "collapsed": true
   },
   "outputs": [],
   "source": []
  },
  {
   "cell_type": "code",
   "execution_count": 18,
   "metadata": {},
   "outputs": [
    {
     "name": "stderr",
     "output_type": "stream",
     "text": [
      "/home/antonis/anaconda2/envs/USelections/lib/python2.7/site-packages/pyLDAvis/_prepare.py:387: DeprecationWarning: \n",
      ".ix is deprecated. Please use\n",
      ".loc for label based indexing or\n",
      ".iloc for positional indexing\n",
      "\n",
      "See the documentation here:\n",
      "http://pandas.pydata.org/pandas-docs/stable/indexing.html#ix-indexer-is-deprecated\n",
      "  topic_term_dists = topic_term_dists.ix[topic_order]\n"
     ]
    }
   ],
   "source": [
    "data = pyLDAvis.gensim.prepare(ldamodel, c, d)"
   ]
  },
  {
   "cell_type": "code",
   "execution_count": 19,
   "metadata": {},
   "outputs": [
    {
     "data": {
      "text/html": [
       "\n",
       "<link rel=\"stylesheet\" type=\"text/css\" href=\"https://cdn.rawgit.com/bmabey/pyLDAvis/files/ldavis.v1.0.0.css\">\n",
       "\n",
       "\n",
       "<div id=\"ldavis_el196321401104580750881740613244\"></div>\n",
       "<script type=\"text/javascript\">\n",
       "\n",
       "var ldavis_el196321401104580750881740613244_data = {\"plot.opts\": {\"xlab\": \"PC1\", \"ylab\": \"PC2\"}, \"topic.order\": [3, 5, 1, 8, 2, 9, 6, 7, 4, 10], \"token.table\": {\"Topic\": [8, 6, 7, 7, 3, 6, 3, 10, 9, 5, 2, 3, 3, 5, 3, 3, 4, 3, 1, 5, 1, 3, 4, 4, 1, 6, 8, 6, 2, 6, 1, 4, 8, 2, 5, 10, 7, 1, 1, 2, 5, 7, 8, 1, 2, 3, 5, 4, 8, 1, 8, 3, 3, 9, 7, 7, 6, 8, 4, 1, 1, 9, 6, 1, 4, 8, 2, 4, 5, 6, 7, 5, 1, 2, 6, 7, 5, 3, 6, 9, 3, 9, 6, 4, 1, 4, 7, 10, 3, 6, 6, 9, 2, 1, 6, 6, 1, 2, 3, 5, 4, 10, 1, 6, 2, 4, 7, 2, 6, 9, 6, 6, 9, 3, 1, 5, 10, 8, 3, 3, 1, 5, 4, 1, 2, 5, 8, 1, 8, 10, 2, 2, 7, 1, 4, 6, 4, 9, 1, 2, 3, 4, 5, 7, 8, 1, 5, 7, 1, 5, 8, 10, 6, 9, 4, 7, 10, 3, 5, 6, 4, 2, 2, 10, 5, 2, 8, 9, 10, 6, 9, 2, 4, 6, 4, 2, 3, 6, 9, 5, 6, 8, 1, 2, 8, 8, 2, 4, 6, 2, 2, 5, 6, 8, 1, 2, 6, 7, 9, 1, 2, 5, 7, 1, 2, 4, 6, 7, 8, 9, 6, 2, 3, 9, 8, 9, 1, 8, 2, 9, 1, 3, 8, 1, 2, 7, 9, 4, 2, 3, 6, 1, 2, 4, 8, 9, 4, 4, 8, 6, 9, 1, 5, 8, 2, 6, 2, 8, 9, 10, 1, 2, 3, 4, 5, 6, 7, 8, 5, 1, 9, 5, 3, 3, 4, 4, 9, 8, 4, 9, 2, 6, 9, 4, 4, 1, 2, 4, 2, 3, 6, 9, 2, 5, 8, 1, 2, 8, 3, 3, 8, 3, 1, 1, 7, 10, 5, 2, 6, 7, 8, 7, 3, 3, 3, 5, 9, 5, 1, 3, 5, 6, 7, 10, 1, 2, 3, 4, 2, 1, 1, 1, 1, 4, 1, 3, 5, 7, 8, 9, 8, 8, 3, 7, 8, 9, 8, 7, 2, 7, 9, 7, 5, 5, 9, 9, 1, 1, 3, 5, 1, 3, 5, 8, 1, 3, 4, 6, 7, 7, 1, 1, 4, 6, 7, 4, 3, 4, 2, 2, 1, 2, 6, 9, 6, 6, 9, 6, 1, 10, 2, 1, 2, 4, 5, 6, 7, 3, 3, 2, 3, 4, 5, 7, 8, 8, 1, 2, 3, 4, 5, 6, 1, 4, 5, 6, 7, 4, 6, 2, 5, 2, 1, 9, 1, 4, 2, 2, 7, 1, 2, 3, 5, 6, 9, 5, 9, 5, 8, 8, 1, 2, 3, 4, 5, 7, 9, 10, 6, 2, 3, 5, 9, 6, 6, 1, 3, 6, 7, 1, 3, 5, 5, 2, 2, 4, 6, 6, 9, 2, 8, 2, 9, 4, 6, 7, 7, 5, 1, 6, 1, 3, 5, 8, 10, 10, 5, 2, 5, 4, 6, 10, 2, 9, 5, 3, 4, 4, 8, 1, 3, 3, 10, 7, 2, 4, 7, 9, 7, 7, 2, 1, 2, 3, 4, 5, 6, 7, 8, 7, 1, 2, 8, 4, 4, 4, 2, 4, 6, 7, 7, 1, 9, 3, 10, 8, 5, 6, 9, 1, 7, 1, 1, 7, 5, 6, 4, 1, 2, 3, 4, 5, 7, 8, 5, 7, 5, 4, 4, 6, 10, 9, 1, 2, 2, 4, 7, 10, 2, 10, 1, 4, 5, 8, 7, 10, 10, 1, 4, 7, 2, 1, 8, 9, 7, 2, 3, 4, 7, 8, 9, 2, 6, 7, 2, 10, 2, 1, 2, 3, 4, 5, 6, 7, 8, 9, 1, 2, 3, 4, 6, 8, 1, 1, 2, 3, 5, 3, 10, 1, 2, 3, 7, 8, 2, 3, 4, 6, 8, 4, 4, 6, 1, 10, 6, 1, 1, 1, 2, 3, 5, 7, 8, 3, 8, 8, 1, 2, 4, 6, 7, 10, 2, 5, 1, 2, 3, 5, 1, 7, 8, 7, 7, 1, 8, 5, 7, 10, 8, 1, 2, 3, 4, 6, 9, 5, 7, 8, 1, 2, 3, 5, 1, 2, 3, 4, 7, 1, 2, 3, 5, 7, 2, 3, 4, 5, 6, 8, 9, 9, 3, 8, 1, 1, 2, 3, 4, 1, 2, 3, 6, 9, 7, 2, 7, 8, 1, 2, 3, 5, 6, 7, 8, 10, 1, 2, 5, 7, 3, 9, 1, 2, 7, 10, 3, 5, 3, 1, 5, 1, 2, 6, 5, 1, 2, 3, 4, 5, 6, 7, 9, 1, 2, 5, 7, 8, 9, 1, 8, 5, 9, 5, 6, 1, 2, 3, 5, 6, 1, 2, 3, 5, 6, 7, 9], \"Freq\": [0.9989866467944265, 0.9986866226624664, 0.9995560071433107, 0.9988629560114526, 0.9995902079078091, 0.9991033876538049, 0.9995960108066394, 0.9984834273580236, 0.9991223652111012, 0.9993961880167214, 0.2595052832990684, 0.7404506616581837, 0.8371124997316618, 0.16280182377486044, 0.9998806439465648, 0.9996937714035194, 0.9989350107096653, 0.9990446639061524, 0.8071988044119316, 0.1924480076372349, 0.9997339571556468, 0.2726487762353422, 0.726952705455742, 0.9995612314431699, 0.12302159217560524, 0.2232428485304771, 0.6536931445746519, 0.9991317966160507, 0.9996341469604558, 0.9989851469592805, 0.20234178382386084, 0.11797917765814532, 0.679397333410699, 0.9998210764325303, 0.9991634477424537, 0.9988562169065227, 0.9994951164450158, 0.9997434152949704, 0.15315428787931873, 0.17292463485169207, 0.2562236967619584, 0.13944684731180657, 0.2781028807447182, 0.26490284892047944, 0.4982696443980446, 0.10932498526876928, 0.12737061584999243, 0.9986599057049654, 0.9985799154652194, 0.3142512959956027, 0.6853622772117345, 0.9997910233985298, 0.9996464565132754, 0.9988174081518967, 0.9988064615679729, 0.9992207804240811, 0.998181556999672, 0.9987837748354648, 0.9987594585618275, 0.999156038896866, 0.9994975515340372, 0.9991674510530727, 0.999659562554328, 0.1960337214088616, 0.2274846144074796, 0.5758872251979954, 0.0806851067159979, 0.41078579288454703, 0.15525980948104245, 0.1883115399430175, 0.16470316104160673, 0.9997630342873451, 0.999674113967876, 0.9995915654029516, 0.998318406208303, 0.9995905970415635, 0.9992674920926256, 0.9991753395328558, 0.9985094805485014, 0.9977564510793325, 0.9992785950559778, 0.9994315469044472, 0.9992123522392478, 0.999254520350609, 0.17666312265787265, 0.6628363071754483, 0.16034858626466542, 0.9983643201332811, 0.9987788941954594, 0.9995073034642049, 0.9983861679653103, 0.9989712284100472, 0.999033544192535, 0.22784423450806604, 0.772041425390793, 0.9986032323662459, 0.11779453977350732, 0.28883040162134, 0.3423733742456615, 0.2509732575968197, 0.9989149234461892, 0.999867709547518, 0.8526466223980756, 0.14703067237657347, 0.7021776262419344, 0.14656388938908935, 0.15117862142275085, 0.14915161790916137, 0.21586078034954578, 0.6343663749047876, 0.9985464672646511, 0.9989046110205528, 0.9984760427412859, 0.9995525103408912, 0.31110621541930294, 0.6887268792275726, 0.9979807573249425, 0.9983431195096507, 0.9988158486388514, 0.9986556605248643, 0.9985421019501691, 0.9996286338875248, 0.9990816136560086, 0.7503145576319115, 0.2495453338581898, 0.999076957862693, 0.9989903058669354, 0.3485410118270812, 0.6510268491713017, 0.9976298347235306, 0.9994264248991082, 0.39991385562891824, 0.5998707834433773, 0.9996982218649106, 0.8822919216209905, 0.11763892288279873, 0.9996954314688578, 0.9985159920820644, 0.4012204026578036, 0.07204159213828754, 0.03952843913205664, 0.07446996041261184, 0.15150319844812155, 0.1390915383793529, 0.1220929604590828, 0.6146464255380788, 0.27832697214119134, 0.10693518040461167, 0.9994839781287016, 0.9995096021127062, 0.998426192504896, 0.9998926797620066, 0.9993763940790806, 0.9974255673928708, 0.999164604880573, 0.9989742274905484, 0.9997187100133361, 0.6596869375746549, 0.14774024366144797, 0.19259730928567592, 0.9995659438992504, 0.9990329180998995, 0.9983140108096658, 0.9999070042548959, 0.9996330885499397, 0.9983160942607223, 0.9994772937179217, 0.998816248737709, 0.9998188530232641, 0.9993371130325187, 0.9986478504274798, 0.9985546066616126, 0.9991359406978504, 0.9998223503303454, 0.9996178662936239, 0.22229460071760665, 0.12254053160287201, 0.6547310221591467, 0.9976934497477927, 0.9990818956015709, 0.9997907736028588, 0.9995347824350672, 0.1931686643086012, 0.6880264186657401, 0.1187266506899731, 0.9988987062499209, 0.6581715852503512, 0.08445384931034734, 0.2572188150870435, 0.9998859025235791, 0.22880230947335567, 0.4012714901200868, 0.18981815148101763, 0.1800210855981264, 0.23318049892633916, 0.6188584484492173, 0.09604094760973524, 0.05180587151471079, 0.9988250385865306, 0.25598955697088005, 0.5366233817854441, 0.10856799077082423, 0.0987990918057603, 0.0647688265383031, 0.2267716520193954, 0.07607510548513906, 0.10530991247624344, 0.07365233142510277, 0.1650716726238049, 0.2881485948736477, 0.9996482033190679, 0.7355878489418594, 0.26430258284113417, 0.9992882108309616, 0.7793859799535082, 0.22002210074691872, 0.9991198091779534, 0.9992512392336377, 0.2843114873181161, 0.7150164233908177, 0.21771734652214628, 0.6015468666289961, 0.18048973420409062, 0.9989919651634357, 0.23035196052776233, 0.5574706257854248, 0.21194268499378133, 0.999723336822749, 0.7142486029127266, 0.17664429834613787, 0.10901476697933081, 0.15843183585890885, 0.26315339005525745, 0.11686709527582204, 0.37462246707353575, 0.08663819303357707, 0.999311261849529, 0.747389833737434, 0.25194497220150786, 0.21590543780365998, 0.7835154933722925, 0.9996094379607023, 0.9994846088440154, 0.9991433843462885, 0.8560499267046023, 0.1435578775599921, 0.9998933770736612, 0.9994663567613864, 0.9994069696597138, 0.9998843375846238, 0.2423103861453857, 0.13668791013329448, 0.07567221132087981, 0.27767718806798636, 0.08172598822655021, 0.08746114529508005, 0.07822117001800419, 0.02023235965842471, 0.9991225510744527, 0.4177582004337579, 0.582152093505412, 0.9988093559487539, 0.9996419887904525, 0.9989755306137686, 0.9997931661396643, 0.998743730675974, 0.9989949771889604, 0.9982832607506447, 0.9991926388397809, 0.9993572899095622, 0.23499448556423172, 0.19852267828089418, 0.5661419176027169, 0.9994658730814913, 0.9996065058479733, 0.999218922303172, 0.8532184443161293, 0.14665526798044926, 0.1724579396517736, 0.2392581036181568, 0.5881034043314913, 0.9977887272435072, 0.9992464855634926, 0.8002357708578081, 0.19950933023446726, 0.2096150638720391, 0.6656564259924187, 0.12457950498529932, 0.9989148768921041, 0.9994233911371477, 0.9991315435324662, 0.9994637758380982, 0.9999113817235342, 0.8582295417989225, 0.14153764579394737, 0.9998462174752598, 0.9984958363427261, 0.7056923358095298, 0.1488426463942863, 0.14543603652962833, 0.9988826991597838, 0.9989123838548297, 0.9996235297137991, 0.9993447173846463, 0.1860068269016763, 0.6276607178300526, 0.1860068269016763, 0.9984554187105356, 0.24625354710641734, 0.0995370646014257, 0.12600356732781634, 0.1990741292028514, 0.1219760560433656, 0.20597843426190984, 0.12348645048295735, 0.6167937495684426, 0.15068667173721786, 0.10880088501704205, 0.9984857972066239, 0.9997786891593906, 0.9989701200039083, 0.9998748832451965, 0.8251140923057547, 0.17473538258400198, 0.21301182458933832, 0.07710060009266216, 0.06129497707366642, 0.4015227918158973, 0.1644812801976793, 0.08258330943258481, 0.9990707029005946, 0.9995525252101116, 0.9989768953189744, 0.1881572490795515, 0.23022577751669263, 0.5816340324717171, 0.9999045512984518, 0.998562300316427, 0.9995211230889941, 0.9997897584769785, 0.9995097259603442, 0.9993883949327449, 0.9999192567637692, 0.9994955900694893, 0.9992661401506672, 0.9978511516683565, 0.999749196446824, 0.24685880638230862, 0.7530568558020725, 0.999594832323677, 0.23682520247617145, 0.14378094085993434, 0.4396098214342074, 0.17944250454560015, 0.33371084285333813, 0.2989098153590819, 0.08235094624878453, 0.11405089208513673, 0.1709040558133771, 0.9993224134533052, 0.9991453032156649, 0.29759509878973817, 0.5473217093486163, 0.06952328052577288, 0.08535280705714192, 0.9994073213496751, 0.9997015228036703, 0.9985535627815417, 0.9983201165064521, 0.9995085116726524, 0.2227031104303791, 0.22119666323468318, 0.3984552832615689, 0.15767480648283885, 0.9995522783050903, 0.9487393682319728, 0.0509628892366956, 0.9998073462883097, 0.999537605246629, 0.999850207853243, 0.9997447487313359, 0.22491311308921055, 0.17582941863183796, 0.06054732046550894, 0.15919908794397816, 0.3083876855709922, 0.07104218934619716, 0.9994558568202948, 0.9994735915796109, 0.17726677551054582, 0.17655270994957686, 0.046592777853225034, 0.11335790780382336, 0.3672082147282908, 0.11889191590133284, 0.9997747966594309, 0.1487176693842162, 0.4882695296991272, 0.16493958318561106, 0.09068150572208306, 0.10720569120921819, 0.9991280631014552, 0.9999527404378735, 0.49370370267253477, 0.12153537538437673, 0.13954061618206218, 0.2452313796644757, 0.796687094385449, 0.20319377621670376, 0.3193558581354611, 0.6802515465265495, 0.9996405580738037, 0.9994453164853301, 0.9981637949801888, 0.8474840104586977, 0.15253937876689214, 0.9988303563655665, 0.9995266653937014, 0.9987037592846287, 0.10991453019679878, 0.09724641485208299, 0.1643129078535195, 0.06793587346626997, 0.24442010782745763, 0.31608189757158517, 0.9994034579139593, 0.9997826943952016, 0.7218598632457928, 0.27811774831096425, 0.9993711073709387, 0.37103774994800903, 0.19238717939960145, 0.07734308027085258, 0.06278526110790253, 0.1652872391116483, 0.13102037246655046, 0.9993637767698558, 0.9998843375846238, 0.9996179243320129, 0.06487275254472971, 0.3558940949660591, 0.2058532036056228, 0.37292772272920044, 0.9998563068443905, 0.9991434396472122, 0.38906454425460313, 0.43404755445958765, 0.09381542226125131, 0.08303709707766088, 0.3231464378302157, 0.10654719859043987, 0.5698873187764975, 0.9986555421831182, 0.9990741529094463, 0.222497172762946, 0.15602120982285708, 0.6210494071937074, 0.9997304053140769, 0.9990698701081501, 0.9999050698868552, 0.9995722903438147, 0.3120347861787053, 0.6876627230780971, 0.6266674699704748, 0.3731233859938982, 0.9995351431707048, 0.9996609733248722, 0.9998141501481762, 0.23850693541818296, 0.7609820729502799, 0.3260823337269933, 0.22235898976708587, 0.08682273519966692, 0.36452293404440306, 0.998589799473023, 0.9984498141115031, 0.9998746846846762, 0.2463163112664779, 0.7536324694934116, 0.3422434920553328, 0.6572696505631179, 0.9998568893684365, 0.999576249255825, 0.9997029335299232, 0.999173639580911, 0.23845064282231357, 0.7611109426705185, 0.9994815788727389, 0.9998943369975012, 0.31996367791092317, 0.6798510104265307, 0.9984381394484441, 0.9999067626876903, 0.9994165190919235, 0.26548014529404723, 0.11447717674592305, 0.5113610852308158, 0.10868650243581798, 0.999766727538851, 0.9991055846405209, 0.9994796290351745, 0.14151828145076298, 0.13662629147468722, 0.0644694393275698, 0.17785877841589717, 0.2477443495026937, 0.0483957579776066, 0.0948696627503263, 0.0884052474247976, 0.9989856719304323, 0.6861088991430191, 0.13499856467386495, 0.17884530800343684, 0.9992653056020588, 0.9997971089427788, 0.9995368707209111, 0.9994772666660251, 0.9995244725820888, 0.9989508091308343, 0.9991076285954947, 0.998881779745982, 0.24308095966171842, 0.7568461785302384, 0.9986500648991905, 0.9995808882992999, 0.999247257316991, 0.9996547774221802, 0.1254820043668077, 0.8740913683025752, 0.9998976235348688, 0.9994952310031816, 0.999918820511458, 0.8525492324103041, 0.14715977196381683, 0.9983897505100012, 0.9996673756884672, 0.9991987538733251, 0.17138347870019782, 0.23273039394666528, 0.046035705118397385, 0.22507478888263024, 0.03541993276293546, 0.16750463880108674, 0.12187723261943786, 0.1368954798441347, 0.8625528201561332, 0.9996083630843059, 0.9992295273516517, 0.9988534910919864, 0.9986194151813147, 0.9997356155262238, 0.9989500289729268, 0.2955329193978422, 0.7041283796917771, 0.18446065216081967, 0.47314333627866073, 0.2102075500723681, 0.13208511325856015, 0.9977623897078103, 0.9988607816771087, 0.21220881650593615, 0.11109605110202207, 0.5114514057646085, 0.16510818654563186, 0.9986018505681377, 0.9996399845703193, 0.998994375345202, 0.8029341905964864, 0.185948640456835, 0.011088680394214932, 0.9996492366817249, 0.3988206626907426, 0.1932934500157587, 0.40738429655220026, 0.9995500910635376, 0.4038028551227779, 0.04376525440788787, 0.11949965949653758, 0.21164603498814524, 0.1738643114563358, 0.04752633095856573, 0.18913059329777449, 0.810605950384126, 0.999634973015559, 0.9995783123347596, 0.9997158236182034, 0.9986886383016849, 0.1943088735530197, 0.14336709372315032, 0.08329893639933039, 0.13672972827300447, 0.09806707452590491, 0.04364067783470895, 0.19961876591313638, 0.07533409785915537, 0.025553856983061514, 0.21469032601705118, 0.2022193438440019, 0.27294086300255993, 0.10276720752727965, 0.09661064670767303, 0.11081809475291907, 0.9997622767237976, 0.19166123818677835, 0.13186142272889573, 0.5317844787879215, 0.14468914339493996, 0.9990031027686033, 0.9975841383110293, 0.22121463830157, 0.5171697563399812, 0.11189594811176502, 0.14948095947368226, 0.9989907236769189, 0.5583516580866729, 0.09878853161422912, 0.10580476255273971, 0.11675008281681624, 0.12025819828607154, 0.9997770666896777, 0.7142535057718811, 0.2857014023087524, 0.9996752121221384, 0.9998358487991522, 0.9998528747969317, 0.9997419912709729, 0.9996221942372874, 0.47104016882946026, 0.1597868095788414, 0.07526053279571465, 0.12177834954884481, 0.10617786222309994, 0.06590024040026773, 0.9995499135632414, 0.9994931104336552, 0.9991392316355235, 0.15983233521210172, 0.39757134058561466, 0.141077025728799, 0.15921402830605877, 0.14231363954088488, 0.9999000617535154, 0.9990400854035577, 0.9996988018690042, 0.2792060682002706, 0.46482982288676394, 0.13919213480918569, 0.11669539862969368, 0.9998243423860499, 0.7998636167193528, 0.1999659041798382, 0.9997109004275673, 0.9990130141740116, 0.2482121260075908, 0.7517296768536726, 0.9994730044102976, 0.9990546871778101, 0.9981725121593924, 0.9998412452045415, 0.16128358351081246, 0.3189262792094212, 0.28042582723781995, 0.06127536722240762, 0.11697320417931163, 0.06104297012801163, 0.9990756328055296, 0.9996960279259988, 0.9993375866712438, 0.15555217444584296, 0.22866308902423826, 0.46408023396667114, 0.15172255511078417, 0.15618178134755117, 0.1322011141327697, 0.5503255681340877, 0.08700677976645074, 0.07409411280464534, 0.2217524346306179, 0.11573115227467749, 0.4807697754358485, 0.11231957635728337, 0.06901880509805029, 0.09758700414950769, 0.12216183366160999, 0.19220603372025905, 0.0689757292102968, 0.11598844653779684, 0.16430707267994968, 0.23886259409830835, 0.9998599038805418, 0.9993668002408896, 0.9994197609219994, 0.9998928217097239, 0.37251031053922645, 0.22387983834859612, 0.3207179881767093, 0.08272240665917066, 0.2183343359704789, 0.16024312594902115, 0.4979598214974959, 0.12332074669809463, 0.9997031172754479, 0.9998969680900954, 0.19572161538442961, 0.627707180768635, 0.17614945384598665, 0.21310341859331033, 0.40645503589774035, 0.04706483900866014, 0.12344875805550201, 0.04336137626699508, 0.10323402392391355, 0.06311317755587541, 0.9997717263245575, 0.307837298043905, 0.49965850746845736, 0.10261243268130167, 0.08980449478494182, 0.5261302193618679, 0.47374332789245555, 0.11629444251718715, 0.7516886457512305, 0.13198815621327814, 0.9998927113106945, 0.30277645114327556, 0.6969508430817221, 0.9998097049035839, 0.8268396749661074, 0.1727225736115184, 0.16539831827096205, 0.6066981415887444, 0.2276603288844564, 0.9996563316078045, 0.4100160386089468, 0.13253406078241595, 0.06307387083256287, 0.07893203403392396, 0.1735787184800564, 0.04850732273357509, 0.06199752491391845, 0.031285788035264404, 0.13734492216220054, 0.1682702688742192, 0.12218543847983845, 0.14007362922502573, 0.3547319181672729, 0.07731336678004666, 0.9998667152976005, 0.9986079116962039, 0.9995220525613998, 0.9996390383373905, 0.7786608044905036, 0.22083867354247477, 0.12444224185119078, 0.09850527791768317, 0.10733488266100491, 0.14458477767189348, 0.5250855570794147, 0.15357372290041577, 0.22239818036234224, 0.13417108329678754, 0.11550061877254153, 0.24637691421210917, 0.05454704341397365, 0.07340055170806521], \"Term\": [\"abt\", \"account\", \"act\", \"ad\", \"african\", \"ago\", \"agree\", \"agreed\", \"alt\", \"amen\", \"america\", \"america\", \"american\", \"american\", \"americans\", \"answer\", \"answers\", \"anti\", \"anyone\", \"anyone\", \"anything\", \"ask\", \"ask\", \"asked\", \"ass\", \"ass\", \"ass\", \"attention\", \"away\", \"awesome\", \"b\", \"b\", \"b\", \"back\", \"become\", \"becoming\", \"behind\", \"believe\", \"best\", \"best\", \"best\", \"best\", \"best\", \"better\", \"better\", \"better\", \"better\", \"biased\", \"bigotry\", \"bitch\", \"bitch\", \"black\", \"blacks\", \"blood\", \"body\", \"book\", \"bought\", \"boy\", \"breaking\", \"build\", \"bullshit\", \"bush\", \"business\", \"c\", \"c\", \"c\", \"caign\", \"caign\", \"caign\", \"caign\", \"caign\", \"candidate\", \"cares\", \"chance\", \"charity\", \"check\", \"chief\", \"children\", \"china\", \"cities\", \"citizens\", \"city\", \"class\", \"classified\", \"cnn\", \"cnn\", \"cnn\", \"codes\", \"community\", \"conference\", \"conspiracy\", \"control\", \"correct\", \"corruption\", \"corruption\", \"countries\", \"country\", \"country\", \"country\", \"country\", \"cover\", \"crab\", \"crooked\", \"crooked\", \"day\", \"day\", \"day\", \"deal\", \"deal\", \"deal\", \"debt\", \"delete\", \"delusional\", \"democrats\", \"deplorable\", \"deplorable\", \"deported\", \"desperate\", \"die\", \"difference\", \"disgrace\", \"disgusting\", \"doctor\", \"done\", \"done\", \"doubt\", \"dude\", \"dumb\", \"dumb\", \"ed\", \"elect\", \"election\", \"election\", \"else\", \"email\", \"email\", \"emails\", \"energy\", \"even\", \"even\", \"even\", \"even\", \"even\", \"even\", \"even\", \"ever\", \"ever\", \"ever\", \"everything\", \"exactly\", \"eyes\", \"f\", \"failed\", \"failure\", \"fair\", \"fairly\", \"falling\", \"family\", \"family\", \"family\", \"fbi\", \"fight\", \"fighting\", \"fine\", \"fit\", \"florida\", \"follow\", \"food\", \"forecast\", \"foreign\", \"forgot\", \"forward\", \"found\", \"foundation\", \"fox\", \"free\", \"free\", \"free\", \"friday\", \"friend\", \"fuck\", \"funny\", \"get\", \"get\", \"get\", \"girl\", \"give\", \"give\", \"give\", \"go\", \"god\", \"god\", \"god\", \"god\", \"going\", \"going\", \"going\", \"going\", \"golf\", \"good\", \"good\", \"good\", \"good\", \"got\", \"got\", \"got\", \"got\", \"got\", \"got\", \"got\", \"government\", \"great\", \"great\", \"gt\", \"hands\", \"hands\", \"happen\", \"happened\", \"happy\", \"happy\", \"hate\", \"hate\", \"hate\", \"hates\", \"head\", \"head\", \"head\", \"health\", \"help\", \"help\", \"help\", \"hey\", \"hey\", \"hey\", \"hey\", \"hey\", \"hide\", \"hiding\", \"hiding\", \"high\", \"high\", \"hillary\", \"history\", \"hold\", \"home\", \"home\", \"hope\", \"hour\", \"house\", \"hpa\", \"hrc\", \"hrc\", \"hrc\", \"hrc\", \"hrc\", \"hrc\", \"hrc\", \"hrc\", \"human\", \"idiot\", \"idiot\", \"ill\", \"illegals\", \"immigrants\", \"immigration\", \"info\", \"inner\", \"interesting\", \"interview\", \"iraq\", \"isis\", \"isis\", \"isis\", \"issue\", \"issues\", \"jail\", \"job\", \"job\", \"jobs\", \"jobs\", \"jobs\", \"john\", \"johnson\", \"joke\", \"joke\", \"keep\", \"keep\", \"keep\", \"kill\", \"killed\", \"king\", \"kkk\", \"know\", \"knows\", \"knows\", \"ky\", \"lady\", \"last\", \"last\", \"last\", \"late\", \"lauer\", \"law\", \"laws\", \"leader\", \"leader\", \"leader\", \"leadership\", \"less\", \"less\", \"less\", \"less\", \"less\", \"less\", \"let\", \"let\", \"let\", \"let\", \"lets\", \"liar\", \"liars\", \"lie\", \"lies\", \"lies\", \"like\", \"like\", \"like\", \"like\", \"like\", \"like\", \"listening\", \"little\", \"lives\", \"lol\", \"lol\", \"lol\", \"look\", \"looked\", \"looking\", \"looks\", \"loser\", \"losing\", \"love\", \"loves\", \"low\", \"lt\", \"lying\", \"make\", \"make\", \"makes\", \"man\", \"man\", \"man\", \"man\", \"many\", \"many\", \"many\", \"many\", \"many\", \"matt\", \"meant\", \"media\", \"media\", \"media\", \"media\", \"medical\", \"men\", \"mental\", \"mess\", \"message\", \"mexico\", \"mexico\", \"mexico\", \"mexico\", \"middle\", \"million\", \"million\", \"money\", \"moron\", \"mph\", \"mr\", \"much\", \"much\", \"much\", \"much\", \"much\", \"much\", \"muslim\", \"muslims\", \"must\", \"must\", \"must\", \"must\", \"must\", \"must\", \"n\", \"need\", \"need\", \"need\", \"need\", \"need\", \"network\", \"never\", \"new\", \"new\", \"new\", \"new\", \"news\", \"news\", \"next\", \"next\", \"night\", \"nobody\", \"nope\", \"nothing\", \"nothing\", \"nov\", \"november\", \"numbers\", \"obama\", \"obama\", \"obama\", \"obama\", \"obama\", \"obama\", \"office\", \"oh\", \"old\", \"old\", \"omg\", \"one\", \"one\", \"one\", \"one\", \"one\", \"one\", \"orange\", \"orchard\", \"paid\", \"party\", \"party\", \"party\", \"party\", \"pay\", \"paying\", \"people\", \"people\", \"people\", \"people\", \"person\", \"person\", \"person\", \"picture\", \"piece\", \"plan\", \"plan\", \"plan\", \"play\", \"playing\", \"please\", \"pls\", \"pneumonia\", \"pneumonia\", \"policy\", \"policy\", \"poll\", \"polls\", \"potus\", \"power\", \"power\", \"ppl\", \"ppl\", \"ppl\", \"ppl\", \"precip\", \"precipitation\", \"president\", \"presidential\", \"presidential\", \"press\", \"press\", \"pressure\", \"pretty\", \"putin\", \"qualified\", \"question\", \"question\", \"questions\", \"r\", \"racist\", \"racist\", \"racists\", \"rain\", \"rallies\", \"rally\", \"rally\", \"rally\", \"rally\", \"read\", \"reading\", \"ready\", \"real\", \"real\", \"real\", \"real\", \"real\", \"real\", \"real\", \"real\", \"reality\", \"really\", \"really\", \"really\", \"records\", \"release\", \"report\", \"rest\", \"returns\", \"rich\", \"ridiculous\", \"rigged\", \"right\", \"right\", \"rights\", \"rising\", \"rt\", \"running\", \"russia\", \"russia\", \"said\", \"saw\", \"say\", \"saying\", \"saying\", \"scary\", \"secret\", \"security\", \"see\", \"see\", \"see\", \"see\", \"see\", \"see\", \"see\", \"seen\", \"seen\", \"sense\", \"serious\", \"server\", \"service\", \"settled\", \"share\", \"shit\", \"shit\", \"show\", \"show\", \"show\", \"show\", \"showed\", \"showery\", \"sick\", \"sick\", \"sick\", \"sick\", \"sign\", \"slowly\", \"sociopath\", \"something\", \"something\", \"something\", \"soon\", \"sorry\", \"sorry\", \"sorry\", \"sounds\", \"speech\", \"speech\", \"speech\", \"speech\", \"speech\", \"speech\", \"state\", \"state\", \"states\", \"stay\", \"steady\", \"step\", \"still\", \"still\", \"still\", \"still\", \"still\", \"still\", \"still\", \"still\", \"still\", \"stop\", \"stop\", \"stop\", \"stop\", \"stop\", \"stop\", \"stupid\", \"support\", \"support\", \"support\", \"support\", \"supports\", \"supremacist\", \"sure\", \"sure\", \"sure\", \"sure\", \"surprised\", \"take\", \"take\", \"take\", \"take\", \"take\", \"tax\", \"taxes\", \"taxes\", \"telling\", \"temp\", \"thank\", \"thing\", \"things\", \"think\", \"think\", \"think\", \"think\", \"think\", \"think\", \"thinks\", \"though\", \"thx\", \"time\", \"time\", \"time\", \"time\", \"time\", \"today\", \"together\", \"true\", \"trump\", \"trump\", \"trump\", \"trump\", \"truth\", \"tv\", \"tv\", \"tweet\", \"tweets\", \"u\", \"u\", \"unfit\", \"united\", \"unsettled\", \"ur\", \"us\", \"us\", \"us\", \"us\", \"us\", \"us\", \"victims\", \"video\", \"visit\", \"vote\", \"vote\", \"vote\", \"vote\", \"voters\", \"voters\", \"voters\", \"voters\", \"voters\", \"voting\", \"voting\", \"voting\", \"voting\", \"voting\", \"w\", \"w\", \"w\", \"w\", \"w\", \"w\", \"w\", \"wait\", \"wake\", \"walk\", \"wall\", \"want\", \"want\", \"want\", \"want\", \"wants\", \"wants\", \"wants\", \"wants\", \"war\", \"watch\", \"watching\", \"watching\", \"watching\", \"way\", \"way\", \"way\", \"way\", \"way\", \"way\", \"way\", \"weather\", \"well\", \"well\", \"well\", \"well\", \"white\", \"white\", \"win\", \"win\", \"win\", \"wind\", \"woman\", \"woman\", \"women\", \"words\", \"words\", \"work\", \"work\", \"work\", \"worst\", \"would\", \"would\", \"would\", \"would\", \"would\", \"would\", \"would\", \"would\", \"wow\", \"wow\", \"wow\", \"wow\", \"wow\", \"wow\", \"wrong\", \"wtf\", \"ya\", \"yeah\", \"year\", \"year\", \"years\", \"years\", \"years\", \"years\", \"years\", \"yes\", \"yes\", \"yes\", \"yes\", \"yes\", \"yes\", \"yes\"]}, \"mdsDat\": {\"y\": [0.09786612460793692, 0.05577427439551502, 0.03462017687335378, -0.09641742235745543, 0.12610768907987735, -0.25745218169279754, -0.007430730763559089, 0.18375189630450145, -0.22148895504445038, 0.08466912859707713], \"cluster\": [1, 1, 1, 1, 1, 1, 1, 1, 1, 1], \"Freq\": [15.327588380804166, 13.260427111515426, 11.438490015022357, 10.038031627570403, 9.475785398271805, 9.437777329985057, 9.389313065309583, 8.798107967821736, 7.918884390525623, 4.9155947131738476], \"topics\": [1, 2, 3, 4, 5, 6, 7, 8, 9, 10], \"x\": [0.13916109094404466, 0.11823553209612306, 0.09117510464836814, 0.041941970681992846, 0.06302521941561515, 0.009806264011104905, 0.05914504941672215, 0.009950606497318864, -0.06187264344894373, -0.4705681942623461]}, \"R\": 30, \"lambda.step\": 0.01, \"tinfo\": {\"Category\": [\"Default\", \"Default\", \"Default\", \"Default\", \"Default\", \"Default\", \"Default\", \"Default\", \"Default\", \"Default\", \"Default\", \"Default\", \"Default\", \"Default\", \"Default\", \"Default\", \"Default\", \"Default\", \"Default\", \"Default\", \"Default\", \"Default\", \"Default\", \"Default\", \"Default\", \"Default\", \"Default\", \"Default\", \"Default\", \"Default\", \"Topic1\", \"Topic1\", \"Topic1\", \"Topic1\", \"Topic1\", \"Topic1\", \"Topic1\", \"Topic1\", \"Topic1\", \"Topic1\", \"Topic1\", \"Topic1\", \"Topic1\", \"Topic1\", \"Topic1\", \"Topic1\", \"Topic1\", \"Topic1\", \"Topic1\", \"Topic1\", \"Topic1\", \"Topic1\", \"Topic1\", \"Topic1\", \"Topic1\", \"Topic1\", \"Topic1\", \"Topic1\", \"Topic1\", \"Topic1\", \"Topic1\", \"Topic1\", \"Topic1\", \"Topic1\", \"Topic1\", \"Topic1\", \"Topic1\", \"Topic1\", \"Topic1\", \"Topic1\", \"Topic1\", \"Topic1\", \"Topic1\", \"Topic1\", \"Topic1\", \"Topic1\", \"Topic1\", \"Topic1\", \"Topic1\", \"Topic1\", \"Topic2\", \"Topic2\", \"Topic2\", \"Topic2\", \"Topic2\", \"Topic2\", \"Topic2\", \"Topic2\", \"Topic2\", \"Topic2\", \"Topic2\", \"Topic2\", \"Topic2\", \"Topic2\", \"Topic2\", \"Topic2\", \"Topic2\", \"Topic2\", \"Topic2\", \"Topic2\", \"Topic2\", \"Topic2\", \"Topic2\", \"Topic2\", \"Topic2\", \"Topic2\", \"Topic2\", \"Topic2\", \"Topic2\", \"Topic2\", \"Topic2\", \"Topic2\", \"Topic2\", \"Topic2\", \"Topic2\", \"Topic2\", \"Topic2\", \"Topic2\", \"Topic2\", \"Topic2\", \"Topic2\", \"Topic2\", \"Topic2\", \"Topic2\", \"Topic2\", \"Topic2\", \"Topic2\", \"Topic2\", \"Topic2\", \"Topic2\", \"Topic2\", \"Topic2\", \"Topic2\", \"Topic2\", \"Topic2\", \"Topic2\", \"Topic2\", \"Topic3\", \"Topic3\", \"Topic3\", \"Topic3\", \"Topic3\", \"Topic3\", \"Topic3\", \"Topic3\", \"Topic3\", \"Topic3\", \"Topic3\", \"Topic3\", \"Topic3\", \"Topic3\", \"Topic3\", \"Topic3\", \"Topic3\", \"Topic3\", \"Topic3\", \"Topic3\", \"Topic3\", \"Topic3\", \"Topic3\", \"Topic3\", \"Topic3\", \"Topic3\", \"Topic3\", \"Topic3\", \"Topic3\", \"Topic3\", \"Topic3\", \"Topic3\", \"Topic3\", \"Topic3\", \"Topic3\", \"Topic3\", \"Topic3\", \"Topic3\", \"Topic3\", \"Topic3\", \"Topic3\", \"Topic3\", \"Topic3\", \"Topic3\", \"Topic3\", \"Topic3\", \"Topic3\", \"Topic3\", \"Topic3\", \"Topic3\", \"Topic4\", \"Topic4\", \"Topic4\", \"Topic4\", \"Topic4\", \"Topic4\", \"Topic4\", \"Topic4\", \"Topic4\", \"Topic4\", \"Topic4\", \"Topic4\", \"Topic4\", \"Topic4\", \"Topic4\", \"Topic4\", \"Topic4\", \"Topic4\", \"Topic4\", \"Topic4\", \"Topic4\", \"Topic4\", \"Topic4\", \"Topic4\", \"Topic4\", \"Topic4\", \"Topic4\", \"Topic4\", \"Topic4\", \"Topic4\", \"Topic4\", \"Topic4\", \"Topic4\", \"Topic4\", \"Topic4\", \"Topic4\", \"Topic4\", \"Topic4\", \"Topic4\", \"Topic4\", \"Topic4\", \"Topic4\", \"Topic4\", \"Topic4\", \"Topic4\", \"Topic5\", \"Topic5\", \"Topic5\", \"Topic5\", \"Topic5\", \"Topic5\", \"Topic5\", \"Topic5\", \"Topic5\", \"Topic5\", \"Topic5\", \"Topic5\", \"Topic5\", \"Topic5\", \"Topic5\", \"Topic5\", \"Topic5\", \"Topic5\", \"Topic5\", \"Topic5\", \"Topic5\", \"Topic5\", \"Topic5\", \"Topic5\", \"Topic5\", \"Topic5\", \"Topic5\", \"Topic5\", \"Topic5\", \"Topic5\", \"Topic5\", \"Topic5\", \"Topic5\", \"Topic5\", \"Topic5\", \"Topic5\", \"Topic5\", \"Topic5\", \"Topic5\", \"Topic5\", \"Topic5\", \"Topic5\", \"Topic5\", \"Topic5\", \"Topic5\", \"Topic5\", \"Topic5\", \"Topic5\", \"Topic5\", \"Topic6\", \"Topic6\", \"Topic6\", \"Topic6\", \"Topic6\", \"Topic6\", \"Topic6\", \"Topic6\", \"Topic6\", \"Topic6\", \"Topic6\", \"Topic6\", \"Topic6\", \"Topic6\", \"Topic6\", \"Topic6\", \"Topic6\", \"Topic6\", \"Topic6\", \"Topic6\", \"Topic6\", \"Topic6\", \"Topic6\", \"Topic6\", \"Topic6\", \"Topic6\", \"Topic6\", \"Topic6\", \"Topic6\", \"Topic6\", \"Topic6\", \"Topic6\", \"Topic6\", \"Topic6\", \"Topic6\", \"Topic6\", \"Topic6\", \"Topic6\", \"Topic6\", \"Topic6\", \"Topic6\", \"Topic6\", \"Topic6\", \"Topic6\", \"Topic6\", \"Topic6\", \"Topic6\", \"Topic6\", \"Topic7\", \"Topic7\", \"Topic7\", \"Topic7\", \"Topic7\", \"Topic7\", \"Topic7\", \"Topic7\", \"Topic7\", \"Topic7\", \"Topic7\", \"Topic7\", \"Topic7\", \"Topic7\", \"Topic7\", \"Topic7\", \"Topic7\", \"Topic7\", \"Topic7\", \"Topic7\", \"Topic7\", \"Topic7\", \"Topic7\", \"Topic7\", \"Topic7\", \"Topic7\", \"Topic7\", \"Topic7\", \"Topic7\", \"Topic7\", \"Topic7\", \"Topic7\", \"Topic7\", \"Topic7\", \"Topic7\", \"Topic7\", \"Topic7\", \"Topic7\", \"Topic7\", \"Topic7\", \"Topic7\", \"Topic7\", \"Topic7\", \"Topic7\", \"Topic7\", \"Topic7\", \"Topic7\", \"Topic8\", \"Topic8\", \"Topic8\", \"Topic8\", \"Topic8\", \"Topic8\", \"Topic8\", \"Topic8\", \"Topic8\", \"Topic8\", \"Topic8\", \"Topic8\", \"Topic8\", \"Topic8\", \"Topic8\", \"Topic8\", \"Topic8\", \"Topic8\", \"Topic8\", \"Topic8\", \"Topic8\", \"Topic8\", \"Topic8\", \"Topic8\", \"Topic8\", \"Topic8\", \"Topic8\", \"Topic8\", \"Topic8\", \"Topic8\", \"Topic8\", \"Topic8\", \"Topic8\", \"Topic8\", \"Topic8\", \"Topic8\", \"Topic8\", \"Topic8\", \"Topic8\", \"Topic8\", \"Topic8\", \"Topic8\", \"Topic8\", \"Topic8\", \"Topic8\", \"Topic8\", \"Topic8\", \"Topic8\", \"Topic9\", \"Topic9\", \"Topic9\", \"Topic9\", \"Topic9\", \"Topic9\", \"Topic9\", \"Topic9\", \"Topic9\", \"Topic9\", \"Topic9\", \"Topic9\", \"Topic9\", \"Topic9\", \"Topic9\", \"Topic9\", \"Topic9\", \"Topic9\", \"Topic9\", \"Topic9\", \"Topic9\", \"Topic9\", \"Topic9\", \"Topic9\", \"Topic9\", \"Topic9\", \"Topic9\", \"Topic9\", \"Topic9\", \"Topic9\", \"Topic9\", \"Topic9\", \"Topic9\", \"Topic9\", \"Topic9\", \"Topic9\", \"Topic9\", \"Topic9\", \"Topic9\", \"Topic9\", \"Topic9\", \"Topic9\", \"Topic9\", \"Topic9\", \"Topic9\", \"Topic9\", \"Topic10\", \"Topic10\", \"Topic10\", \"Topic10\", \"Topic10\", \"Topic10\", \"Topic10\", \"Topic10\", \"Topic10\", \"Topic10\", \"Topic10\", \"Topic10\", \"Topic10\", \"Topic10\", \"Topic10\", \"Topic10\", \"Topic10\", \"Topic10\", \"Topic10\", \"Topic10\", \"Topic10\", \"Topic10\", \"Topic10\", \"Topic10\", \"Topic10\", \"Topic10\", \"Topic10\", \"Topic10\", \"Topic10\", \"Topic10\", \"Topic10\", \"Topic10\"], \"Term\": [\"today\", \"u\", \"know\", \"f\", \"president\", \"pressure\", \"wind\", \"temp\", \"rain\", \"ky\", \"mph\", \"forecast\", \"crab\", \"orchard\", \"hpa\", \"go\", \"right\", \"get\", \"fine\", \"america\", \"never\", \"say\", \"like\", \"r\", \"people\", \"said\", \"look\", \"make\", \"love\", \"americans\", \"know\", \"never\", \"say\", \"said\", \"lying\", \"believe\", \"truth\", \"liar\", \"lie\", \"wall\", \"anything\", \"stupid\", \"thing\", \"wrong\", \"hillary\", \"things\", \"everything\", \"else\", \"cares\", \"happen\", \"build\", \"telling\", \"bullshit\", \"jail\", \"nobody\", \"moron\", \"liars\", \"hates\", \"meant\", \"disgrace\", \"nothing\", \"lies\", \"saying\", \"crooked\", \"knows\", \"anyone\", \"really\", \"something\", \"words\", \"done\", \"ever\", \"people\", \"think\", \"would\", \"one\", \"u\", \"like\", \"want\", \"get\", \"even\", \"go\", \"back\", \"please\", \"hope\", \"mr\", \"away\", \"stay\", \"night\", \"soon\", \"rest\", \"looking\", \"pretty\", \"message\", \"together\", \"chance\", \"piece\", \"fight\", \"november\", \"nov\", \"ready\", \"correct\", \"elect\", \"lets\", \"step\", \"florida\", \"fighting\", \"johnson\", \"showed\", \"mess\", \"forward\", \"job\", \"get\", \"great\", \"win\", \"home\", \"help\", \"day\", \"going\", \"keep\", \"let\", \"give\", \"last\", \"good\", \"take\", \"need\", \"trump\", \"shit\", \"well\", \"work\", \"time\", \"us\", \"better\", \"sure\", \"america\", \"vote\", \"way\", \"one\", \"americans\", \"black\", \"women\", \"agree\", \"law\", \"answer\", \"blacks\", \"thinks\", \"african\", \"democrats\", \"men\", \"kkk\", \"wake\", \"anti\", \"children\", \"immigrants\", \"muslim\", \"illegals\", \"lives\", \"kill\", \"killed\", \"laws\", \"difference\", \"citizens\", \"supports\", \"muslims\", \"rights\", \"community\", \"die\", \"racists\", \"american\", \"america\", \"make\", \"racist\", \"people\", \"vote\", \"hate\", \"support\", \"white\", \"us\", \"want\", \"wants\", \"voters\", \"family\", \"country\", \"great\", \"voting\", \"many\", \"stop\", \"like\", \"tax\", \"health\", \"emails\", \"release\", \"returns\", \"immigration\", \"questions\", \"fbi\", \"issues\", \"medical\", \"fox\", \"security\", \"records\", \"report\", \"classified\", \"issue\", \"serious\", \"asked\", \"interview\", \"fair\", \"doctor\", \"cover\", \"info\", \"hide\", \"biased\", \"found\", \"breaking\", \"answers\", \"server\", \"mental\", \"news\", \"email\", \"taxes\", \"ask\", \"media\", \"question\", \"hiding\", \"new\", \"show\", \"caign\", \"cnn\", \"see\", \"hrc\", \"w\", \"policy\", \"president\", \"love\", \"true\", \"potus\", \"candidate\", \"makes\", \"running\", \"exactly\", \"history\", \"office\", \"unfit\", \"disgusting\", \"loves\", \"become\", \"human\", \"worst\", \"sense\", \"fit\", \"ya\", \"chief\", \"friend\", \"ill\", \"lady\", \"amen\", \"leadership\", \"scary\", \"qualified\", \"picture\", \"victims\", \"doubt\", \"presidential\", \"old\", \"deplorable\", \"next\", \"woman\", \"joke\", \"year\", \"man\", \"sick\", \"person\", \"god\", \"leader\", \"would\", \"one\", \"vote\", \"country\", \"ever\", \"real\", \"like\", \"pay\", \"money\", \"thank\", \"foundation\", \"fuck\", \"play\", \"paid\", \"business\", \"foreign\", \"ago\", \"government\", \"awesome\", \"paying\", \"conference\", \"class\", \"failed\", \"rich\", \"secret\", \"middle\", \"countries\", \"attention\", \"service\", \"china\", \"debt\", \"network\", \"account\", \"charity\", \"conspiracy\", \"bought\", \"delete\", \"million\", \"state\", \"corruption\", \"press\", \"plan\", \"years\", \"power\", \"free\", \"jobs\", \"much\", \"mexico\", \"obama\", \"people\", \"time\", \"us\", \"yes\", \"caign\", \"give\", \"watch\", \"read\", \"tweet\", \"looks\", \"polls\", \"video\", \"check\", \"poll\", \"states\", \"sounds\", \"behind\", \"losing\", \"saw\", \"tweets\", \"act\", \"ad\", \"matt\", \"united\", \"rigged\", \"body\", \"lauer\", \"reality\", \"rallies\", \"fairly\", \"looked\", \"book\", \"sign\", \"reading\", \"numbers\", \"ridiculous\", \"seen\", \"tv\", \"like\", \"election\", \"watching\", \"must\", \"head\", \"rally\", \"see\", \"one\", \"new\", \"people\", \"time\", \"speech\", \"still\", \"show\", \"caign\", \"r\", \"look\", \"ur\", \"n\", \"little\", \"funny\", \"follow\", \"visit\", \"rt\", \"omg\", \"hold\", \"abt\", \"girl\", \"boy\", \"happened\", \"pls\", \"late\", \"though\", \"listening\", \"walk\", \"desperate\", \"hour\", \"eyes\", \"wtf\", \"interesting\", \"dude\", \"thx\", \"king\", \"bigotry\", \"surprised\", \"u\", \"b\", \"ass\", \"c\", \"bitch\", \"like\", \"dumb\", \"hey\", \"get\", \"hands\", \"really\", \"wow\", \"w\", \"ppl\", \"see\", \"lol\", \"man\", \"best\", \"oh\", \"putin\", \"wait\", \"war\", \"yeah\", \"house\", \"gt\", \"loser\", \"low\", \"control\", \"iraq\", \"bush\", \"orange\", \"playing\", \"city\", \"share\", \"alt\", \"forgot\", \"energy\", \"cities\", \"nope\", \"lt\", \"john\", \"delusional\", \"food\", \"inner\", \"golf\", \"friday\", \"failure\", \"blood\", \"russia\", \"right\", \"pneumonia\", \"lol\", \"high\", \"white\", \"idiot\", \"isis\", \"happy\", \"obama\", \"deal\", \"got\", \"w\", \"like\", \"party\", \"sorry\", \"today\", \"f\", \"pressure\", \"wind\", \"temp\", \"rain\", \"ky\", \"mph\", \"forecast\", \"crab\", \"orchard\", \"hpa\", \"fine\", \"slowly\", \"falling\", \"settled\", \"steady\", \"rising\", \"weather\", \"becoming\", \"showery\", \"agreed\", \"unsettled\", \"sociopath\", \"supremacist\", \"precipitation\", \"precip\", \"codes\", \"deported\", \"ed\", \"show\", \"less\"], \"loglift\": [30.0, 29.0, 28.0, 27.0, 26.0, 25.0, 24.0, 23.0, 22.0, 21.0, 20.0, 19.0, 18.0, 17.0, 16.0, 15.0, 14.0, 13.0, 12.0, 11.0, 10.0, 9.0, 8.0, 7.0, 6.0, 5.0, 4.0, 3.0, 2.0, 1.0, 1.8755, 1.8754, 1.8754, 1.8754, 1.8753, 1.8753, 1.8753, 1.8753, 1.8753, 1.8753, 1.8753, 1.8753, 1.8753, 1.8753, 1.8752, 1.8752, 1.8751, 1.8751, 1.8749, 1.8749, 1.8749, 1.8749, 1.8747, 1.8747, 1.8746, 1.8745, 1.8744, 1.8744, 1.8743, 1.8743, 1.7099, 1.6834, 1.7161, 1.716, 1.7226, 1.6615, 1.4989, 1.656, 1.6855, 1.5882, 1.3888, 0.9314, 1.1227, 0.984, 0.8842, 0.4821, 0.3291, 0.8881, 0.2314, 0.9622, 2.0203, 2.0203, 2.0202, 2.0202, 2.0202, 2.0201, 2.02, 2.0199, 2.0199, 2.0199, 2.0199, 2.0197, 2.0197, 2.0197, 2.0197, 2.0197, 2.0196, 2.0196, 2.0196, 2.0196, 2.0195, 2.0194, 2.0194, 2.0191, 2.019, 2.019, 2.019, 2.0189, 2.0189, 2.0188, 1.8616, 1.6465, 1.7133, 1.7348, 1.8649, 1.6839, 1.6668, 1.5406, 1.6134, 1.5372, 1.6021, 1.6717, 1.3979, 1.4375, 1.3036, 1.2544, 1.6696, 1.3266, 1.5209, 1.0979, 0.8775, 1.3238, 1.361, 0.6714, 0.5448, 1.1202, 0.3723, 2.168, 2.168, 2.168, 2.1679, 2.1678, 2.1678, 2.1678, 2.1677, 2.1677, 2.1677, 2.1677, 2.1676, 2.1676, 2.1676, 2.1675, 2.1675, 2.1675, 2.1675, 2.1675, 2.1674, 2.1674, 2.1673, 2.1673, 2.1673, 2.1673, 2.1673, 2.1673, 2.1673, 2.1672, 2.1671, 1.9904, 1.8677, 1.8846, 1.7823, 1.3336, 1.4004, 1.6601, 1.5365, 1.5259, 0.8968, 1.0311, 1.4709, 1.5712, 1.7519, 1.0965, 0.8377, 1.4358, 0.9607, 0.8695, -0.3945, 2.2986, 2.2986, 2.2986, 2.2985, 2.2985, 2.2984, 2.2984, 2.2984, 2.2983, 2.2983, 2.2983, 2.2983, 2.2982, 2.2981, 2.2981, 2.2981, 2.2981, 2.2981, 2.2981, 2.298, 2.298, 2.298, 2.298, 2.2979, 2.2979, 2.2978, 2.2978, 2.2978, 2.2978, 2.2978, 2.0715, 2.1733, 1.9621, 1.98, 1.6961, 2.0257, 2.0077, 1.593, 1.5506, 1.4091, 1.8873, 0.8073, 1.0173, 0.6496, 1.8314, 2.3563, 2.3563, 2.3562, 2.3562, 2.3562, 2.3561, 2.3561, 2.356, 2.3559, 2.3559, 2.3559, 2.3559, 2.3558, 2.3557, 2.3557, 2.3557, 2.3557, 2.3557, 2.3556, 2.3556, 2.3555, 2.3554, 2.3554, 2.3554, 2.3554, 2.3553, 2.3553, 2.3553, 2.3553, 2.3553, 2.0734, 2.0303, 1.9834, 1.9712, 1.9953, 2.1335, 2.1061, 1.5347, 1.6858, 1.7941, 1.4431, 1.8906, 0.6052, 0.5566, 0.4706, 0.9737, 1.0773, 0.9612, -0.4357, 2.3603, 2.3603, 2.3602, 2.3602, 2.3601, 2.3601, 2.3601, 2.36, 2.3599, 2.3599, 2.3598, 2.3598, 2.3598, 2.3597, 2.3597, 2.3597, 2.3597, 2.3597, 2.3595, 2.3595, 2.3595, 2.3595, 2.3595, 2.3594, 2.3594, 2.3593, 2.3592, 2.3592, 2.3592, 2.3592, 2.3076, 2.1504, 2.1015, 1.941, 1.8842, 1.7161, 2.0872, 1.9369, 1.8295, 1.1842, 1.44, 0.9517, -0.0058, 0.5227, 0.2149, 0.9593, 0.6911, 1.0024, 2.3654, 2.3653, 2.3653, 2.3653, 2.3653, 2.3652, 2.3652, 2.3652, 2.3651, 2.365, 2.365, 2.3649, 2.3649, 2.3648, 2.3648, 2.3648, 2.3648, 2.3647, 2.3647, 2.3647, 2.3647, 2.3646, 2.3646, 2.3646, 2.3646, 2.3646, 2.3645, 2.3645, 2.3644, 2.3644, 2.2175, 2.1422, 1.4531, 1.8545, 1.8998, 1.364, 1.7816, 1.695, 0.5789, 0.3332, 0.96, -0.123, 0.4159, 0.8125, 0.7542, 0.8058, 0.5622, 2.4305, 2.4305, 2.4305, 2.4303, 2.4303, 2.4302, 2.4302, 2.43, 2.43, 2.43, 2.43, 2.43, 2.4299, 2.4298, 2.4298, 2.4297, 2.4297, 2.4297, 2.4297, 2.4296, 2.4296, 2.4296, 2.4296, 2.4295, 2.4295, 2.4295, 2.4295, 2.4294, 2.4294, 2.4294, 2.1453, 2.0442, 2.0056, 1.8791, 2.0526, 0.6256, 2.0018, 1.449, 0.2999, 2.1809, 0.7093, 1.3944, 0.6246, 1.4216, 0.326, 0.962, 0.7131, 1.1511, 2.5357, 2.5357, 2.5356, 2.5356, 2.5356, 2.5355, 2.5354, 2.5353, 2.5353, 2.5353, 2.5351, 2.5351, 2.5351, 2.535, 2.5349, 2.5349, 2.5348, 2.5348, 2.5345, 2.5345, 2.5345, 2.5344, 2.5344, 2.5343, 2.5343, 2.5342, 2.5342, 2.5342, 2.5342, 2.5341, 2.4015, 2.2573, 2.1615, 1.9939, 2.2918, 1.7889, 1.9946, 1.9668, 2.2005, 1.3842, 2.0811, 1.2915, 1.1039, 0.042, 1.5497, 1.6375, 3.0127, 3.0127, 3.0126, 3.0126, 3.0126, 3.0126, 3.0126, 3.0126, 3.0126, 3.0126, 3.0126, 3.0126, 3.0126, 3.0125, 3.0125, 3.0124, 3.0124, 3.0124, 3.0124, 3.0119, 3.0118, 3.0115, 3.0112, 3.0109, 3.0108, 3.0107, 3.0104, 3.0101, 3.0101, 3.01, 0.9887, 1.4329], \"Freq\": [13497.0, 18750.0, 14314.0, 8713.0, 10536.0, 7556.0, 7380.0, 7310.0, 7283.0, 7267.0, 7258.0, 7247.0, 7235.0, 7232.0, 7232.0, 10682.0, 10469.0, 17342.0, 6793.0, 12084.0, 9926.0, 9623.0, 23346.0, 7017.0, 18184.0, 8424.0, 6288.0, 9454.0, 6469.0, 6518.0, 14313.365931760229, 9925.566544778352, 9622.878687401113, 8423.959924507079, 5369.444339431573, 5348.4700078492315, 5072.988715304113, 4787.1570943325005, 4411.649517086805, 4342.562938841484, 4013.1653634978716, 3924.030486121648, 3863.0943738629117, 3395.550120515959, 3020.277380145365, 2719.125082359303, 2420.3468611740013, 2007.7036125116626, 1455.572091261697, 1445.3704288019571, 1397.277456338236, 1359.5392806677883, 1165.6835875855156, 1148.9955817133805, 956.6285529482645, 880.5049989285822, 803.9263142824469, 798.9036493804125, 737.7287485371241, 727.1588494333045, 4377.535189005863, 5454.375934092607, 3140.3720137536593, 2597.706106385861, 2382.925393862457, 3280.4044996042944, 5555.337354495694, 2823.9601560401957, 2226.346665274409, 2681.908706527036, 3328.0506324244916, 7074.6037646874975, 4981.979012321005, 5713.970879294648, 4970.427533468139, 4654.202787661662, 4973.158423745369, 3589.4418635660704, 3350.341566883901, 2973.7561349910625, 10681.318233417325, 6798.315953089668, 6198.68794495988, 4170.544189375942, 4025.127065717071, 3096.2325067927213, 2144.0039221363077, 2064.84192240117, 1807.7338218672185, 1728.0031437464825, 1720.9239372000807, 1389.6886675162525, 1343.7603260607902, 1324.3715736878457, 1308.6342881469484, 1237.2457229400734, 1155.2174777829723, 1150.6445236689399, 1147.4425910321593, 1133.6898285856098, 1047.1122490139564, 934.6359969233094, 873.423307630837, 677.9896779494321, 657.2076030889064, 631.1650617003071, 629.5744824718951, 624.4987506699978, 613.1309081467421, 557.9071434519963, 3193.9531540905614, 11932.002986604195, 6993.893287581132, 3735.569287755784, 1615.8957010826484, 3538.138472247625, 3803.784284514762, 5722.32218081825, 4141.167218976317, 4830.243452652152, 3242.1655847949296, 2692.6946635708537, 4833.689125301936, 3978.700431555464, 4846.433783028416, 4525.289024365092, 2242.1220962585753, 3355.1013235050036, 2553.4929396514494, 3857.676283700377, 4116.608871392632, 2843.982900594988, 2407.8855832647273, 3135.8925468288885, 3283.577475680493, 2634.265592980653, 2577.491406565339, 6517.880868027407, 5225.194960073477, 3933.8515660657026, 2902.275656260288, 2350.9882283167376, 2275.7999415146537, 2096.844470449044, 2011.0083045504698, 1970.9108904926454, 1926.9655021498666, 1733.6205186034408, 1578.9499784808615, 1536.076025335038, 1430.4702295126408, 1393.252520065838, 1289.424722795955, 1247.7822779362477, 1242.5479840899318, 1234.3666205516624, 1150.3520519406559, 1129.7547538587355, 1044.7880248537679, 1033.4933683695613, 1023.842068548421, 1022.1226539687719, 1015.6379389903365, 1011.4694666999787, 1001.3266486152615, 947.2254943002604, 831.4027442835388, 5435.2402170445475, 8947.837791871472, 7120.473522814663, 4734.103937454222, 7893.296013803549, 6664.707414398794, 2343.48089601469, 2818.5861405815963, 2791.6519875591775, 3620.374931356082, 3090.413773480339, 2022.9297721077664, 1790.3884250306044, 1602.5669612071063, 2270.3578870735523, 2513.3464528300037, 1831.9194619056977, 1735.2993063302915, 1728.6595372914992, 1799.9988671479268, 4270.0522869949145, 4034.2164548867927, 3986.314518085036, 3111.731692254395, 2730.398985810419, 2630.644382187954, 2398.3439380291516, 2172.043313379987, 1934.8618314494822, 1884.2174058073526, 1785.7828742513593, 1706.4681459618598, 1431.1522840537507, 1398.7483526974813, 1385.1333895774153, 1378.83706328453, 1350.1410343490038, 1319.679529426434, 1278.1327489857908, 1151.0624582208957, 1123.1323845917022, 1088.281956325102, 1078.4560905237747, 1044.820338052366, 1036.4903296991527, 949.9216730372458, 913.2341447874801, 901.0606805335738, 883.1136815455671, 879.3733916045671, 3615.1594847083234, 1724.6357153535182, 2684.564255198223, 2189.2811650644408, 4322.321969699869, 1812.769803834223, 1593.1923865000488, 2742.055056683503, 2683.4783461514185, 2958.0743105152305, 1421.6951047796226, 2204.729100499, 1742.6032429807303, 1618.955552442256, 1393.887092797631, 10535.419531454338, 6468.621537888267, 4568.4754598267255, 3672.781915765023, 3666.9683287388043, 2905.276650456313, 2483.9570014512988, 2018.0892810682744, 1871.0639587314704, 1806.1771616653768, 1614.9507272328585, 1591.6906003465629, 1498.855676147129, 1320.2043342673305, 1292.2338193723406, 1208.5148167519333, 1205.5716901673359, 1197.5388912543212, 1093.62226909848, 1060.8769337669378, 923.948260561711, 908.1815409718122, 894.4458995425615, 848.612168777893, 836.392436909843, 820.4216997125657, 792.7550326025571, 777.1452071325043, 773.8152742533888, 767.8087179805711, 2052.7213131891804, 2200.5413637418487, 2277.6632102932067, 2309.130721579533, 2096.7588383556986, 1455.8585523617473, 1427.766088938765, 2712.444573306766, 1997.8434170165344, 1626.058413393555, 1965.5584820569416, 1396.943083502913, 2418.8252659834957, 2214.4312746108817, 2178.807121975179, 1663.5146652411695, 1506.6996629926336, 1418.1573567282849, 1430.9042425630528, 5050.8325536454395, 5022.074358843999, 4415.75643102006, 3035.6461105667713, 2385.605953468951, 2366.744953864003, 2270.9746755051783, 1812.7240586071332, 1642.1958364941243, 1492.4455829588617, 1415.6049636767873, 1320.4476008979598, 1307.2271285438742, 1250.7233232879396, 1238.0825118917162, 1228.8735159221449, 1189.3554415540523, 1186.5015941768027, 985.5482958260816, 963.4536151262719, 934.919118282769, 930.3923509256073, 927.4904188079952, 844.3352463803936, 831.8327175373774, 767.1153328062925, 743.3582051297711, 729.2850078647684, 698.3782371252137, 696.8709785187153, 1600.6780117069447, 2502.8660023375814, 1761.6405145908718, 2270.391970476879, 2046.1439997780867, 1902.6386988563079, 1154.875673340113, 1292.9953574380431, 1346.9228993855318, 1910.289083005839, 1586.5694451198876, 1968.2383731322202, 1706.3272439845134, 1544.5871470288384, 1510.321535870866, 1345.6955289724417, 1356.4814158708198, 1266.7174773138743, 4145.529814372029, 3349.8842613653746, 3077.992722663637, 2846.7013041278433, 2779.0451120214866, 2313.8062094435954, 2307.0475004505743, 2080.0699913855456, 1640.7018503913666, 1567.8084042849018, 1400.8102991462213, 1368.94041963954, 1344.781860213314, 1163.2516079006552, 1145.6116258453467, 1096.350234901606, 1080.835504741707, 1023.0705800825696, 1011.2344294119283, 977.2700629662203, 970.1586681592698, 938.0550087318002, 912.6356468275748, 908.0328753238088, 902.4012500163743, 881.7904160314631, 854.2983134131636, 835.851027285253, 761.0903495039018, 758.7805072840953, 1549.7047064870778, 1623.8663042238609, 9374.053359303822, 2519.8948522705064, 1346.868130649715, 2057.3771662787635, 1181.359904863591, 1148.0891633130614, 1640.9957362286705, 1755.0661631348473, 1361.8950448773076, 1509.8130825158225, 1381.0730612151865, 1237.6988807012149, 1202.889503592986, 1191.8248101632325, 1186.2251767582864, 7016.8456169180445, 6287.7043393693175, 5136.919756576632, 3131.809582371817, 2859.3840110935225, 1976.0238077005968, 1908.1019578720527, 1454.0678877262794, 1417.1715398713227, 1396.9832189125755, 1395.3001054407346, 1360.4836403847498, 1153.37529786252, 1048.380273474396, 1029.8758802136542, 1008.5358786153624, 965.1835063654281, 950.5863799843285, 932.9719425565232, 867.6080365614332, 831.4832463974814, 828.5467374147759, 828.4092756818785, 796.2137425737977, 793.4678197322992, 781.8944909934193, 763.7623367510057, 752.7586111900498, 725.1351204482338, 707.8193882192408, 14095.08567249314, 3173.2429207691284, 2609.1919482923936, 1886.4951924717066, 1349.7222054450197, 3839.634963363678, 1145.4313814422724, 1388.295868038548, 2059.305185442252, 920.5873623580802, 1447.8087911687699, 1170.1996857914849, 1383.975028902865, 1100.1078469844822, 1194.1305331259061, 1100.0415213308652, 1107.4395464571294, 1055.2699013974957, 4794.145935030461, 4130.331157406239, 2954.51798499327, 2565.8659674017063, 2547.0236596501736, 2251.4396612525434, 1901.4580186807084, 1524.851987882829, 1524.2231669822877, 1343.4869982236407, 1148.842861536944, 1110.0288553861333, 1040.766668314285, 923.9641865815395, 919.6272313876821, 890.0393920012076, 825.8295427903026, 768.1438084135774, 625.0328289971645, 609.473367052746, 609.224251709476, 595.3852643455207, 573.3738261701046, 562.963241795763, 536.7403642224165, 529.6371817027333, 522.7191979697442, 522.3106994880184, 507.4125522335455, 499.69593938197704, 2041.3467230896354, 7923.899291686102, 2087.038691982547, 2778.632917119836, 1026.8175698051416, 2514.2215464752426, 1589.5607095969015, 1365.7808943347839, 928.0481684611459, 2545.1158339091535, 1008.2623920471726, 1783.7890697317177, 2011.6602646760555, 1927.960711691026, 1029.1331756904533, 998.6248625493197, 13496.470959820412, 8713.05727055044, 7555.203454822996, 7379.913977015762, 7309.322080250135, 7282.8012133787, 7266.239658460258, 7257.209307478757, 7246.434931995637, 7235.079351321812, 7231.958670639255, 7231.958670639255, 6792.753868878792, 3250.2925720912503, 2874.9310257559864, 2609.8123275815215, 2551.8475225023108, 2506.172833817091, 2262.638794735766, 1056.3312940934848, 915.16567685145, 687.1655093126684, 570.165678275981, 476.6021995829777, 452.2165974613667, 431.7928234187953, 375.65308756661165, 335.6725371975538, 325.78161490392347, 316.87512346433033, 749.1526041559594, 358.0303984560384], \"Total\": [13497.0, 18750.0, 14314.0, 8713.0, 10536.0, 7556.0, 7380.0, 7310.0, 7283.0, 7267.0, 7258.0, 7247.0, 7235.0, 7232.0, 7232.0, 10682.0, 10469.0, 17342.0, 6793.0, 12084.0, 9926.0, 9623.0, 23346.0, 7017.0, 18184.0, 8424.0, 6288.0, 9454.0, 6469.0, 6518.0, 14314.268505803853, 9926.4691205841, 9623.78125364001, 8424.862507642749, 5370.346902084831, 5349.372567182244, 5073.891267633515, 4788.05964950592, 4412.552084197177, 4343.465525208865, 4014.0679140452794, 3924.9330479430323, 3863.996944940729, 3396.452695186692, 3021.179958205562, 2720.0276421179296, 2421.2494176553787, 2008.6061534191078, 1456.4746447428645, 1446.2729962174444, 1398.180009543234, 1360.441855023047, 1166.5861494211902, 1149.8981598062483, 957.5311267307809, 881.4075582305073, 804.828877160865, 799.8062325449065, 738.6313058018782, 728.0614393525892, 5165.879174086627, 6609.9949702216, 3683.0717577713103, 3046.9832774251818, 2776.6464377409197, 4063.435156336211, 8096.382377401671, 3517.100197093485, 2692.1785049698356, 3574.5008179832394, 5414.495003508033, 18184.643408087406, 10576.592676544597, 13936.04020805082, 13394.863462535583, 18750.091201658986, 23346.12179200548, 9634.632648972189, 17342.357322759803, 7412.384764830844, 10682.218814209276, 6799.21654007935, 6199.58852764038, 4171.444771648614, 4026.0276486649987, 3097.1330955568824, 2144.9044797622346, 2065.742514468426, 1808.634402604604, 1728.9037556242993, 1721.8245420179758, 1390.5892632351377, 1344.660885129282, 1325.2721480791997, 1309.5348593425965, 1238.1463341811814, 1156.1180608510283, 1151.545066130512, 1148.343152258184, 1134.5904079052434, 1048.0128581130214, 935.5366005000199, 874.323903697294, 678.8902706983527, 658.108192161847, 632.0656558633672, 630.4750720686618, 625.3994001344702, 614.0315013836929, 558.8076969225715, 3743.4727545769965, 17342.357322759803, 9508.041779184969, 4970.142919035683, 1887.740363720204, 4953.4573614452065, 5417.4326521325775, 9246.056209361968, 6220.926950154858, 7830.818654338582, 4925.767189974979, 3816.11059571838, 9008.179971428748, 7126.333274687509, 9924.84622783264, 9734.745442747386, 3184.07845026983, 6714.585961916791, 4208.02343866511, 9703.918784279678, 12908.939364311822, 5707.752884356045, 4656.111403422844, 12084.532384590791, 14361.740733992692, 6480.421614612952, 13394.863462535583, 6518.778055621939, 5226.092130972501, 3934.7487633953033, 2903.172850458043, 2351.8854149752874, 2276.697189785039, 2097.7416428946763, 2011.905531391719, 1971.808031338561, 1927.8626986218148, 1734.5177139842542, 1579.8471522151294, 1536.9732110670068, 1431.3674369761013, 1394.1497001429889, 1290.3218952800985, 1248.6794604120212, 1243.445167308354, 1235.2638041803584, 1151.2492471610421, 1130.6519439316721, 1045.6852193453694, 1034.3905720787536, 1024.7392519626994, 1023.0198456517942, 1016.5351126429164, 1012.3666292477096, 1002.2238213256696, 948.1227208103835, 832.2999364377847, 6492.556259454017, 12084.532384590791, 9454.797396959579, 6963.290378916909, 18184.643408087406, 14361.740733992692, 3894.958364806918, 5301.019703367899, 5306.671043123805, 12908.939364311822, 9634.632648972189, 4062.5767635555576, 3252.620091901424, 2429.940489489521, 6630.18847479424, 9508.041779184969, 3810.555682996451, 5804.426321416497, 6334.705551157372, 23346.12179200548, 4270.9521374982405, 4035.11636811498, 3987.214380027074, 3112.6315251008677, 2731.29880746946, 2631.544292464655, 2399.243818685057, 2172.943179243533, 1935.7617109129615, 1885.117268758552, 1786.682751702026, 1707.3680220144477, 1432.0521206706164, 1399.6482180702128, 1386.0332595884022, 1379.7369546479388, 1351.040940091139, 1320.5794287301235, 1279.0326412772197, 1151.9623437197072, 1124.0322959107698, 1089.1818456835877, 1079.3559617844944, 1045.72022741534, 1037.390200689669, 950.8215662189759, 914.1340211332591, 901.9605783562536, 884.0135293862459, 880.2732600056859, 4537.5405544739615, 1955.1352083454924, 3759.1695081683474, 3011.2000183391156, 7896.635426984505, 2382.0443227878272, 2131.417806466495, 5553.938496221329, 5670.586045028499, 7200.833259662799, 2145.3260550249342, 9796.743611075168, 6277.073072251238, 8423.252739070245, 2224.4652336360746, 10536.320362308556, 6469.522370173035, 4569.376287597641, 3673.682753395366, 3667.8691592292416, 2906.1774891802734, 2484.8578290252517, 2018.9901084836674, 1871.9647940991933, 1807.077998078612, 1615.8515466386923, 1592.5914344897878, 1499.756492067947, 1321.1051735153603, 1293.1346596176695, 1209.4156379277827, 1206.472499168444, 1198.4397212559359, 1094.523124523855, 1061.7777606055179, 924.8491080339692, 909.0823935439657, 895.3467480390588, 849.5129460968036, 837.2932675147979, 821.3225341918069, 793.655845777329, 778.0460500939428, 774.7161221683598, 768.7095513072069, 2724.1395283565976, 3049.06826389177, 3307.552048142573, 3394.332599154013, 3008.8205227324947, 1819.4637793299958, 1833.917916202774, 6169.1069393131875, 3906.529491326814, 2853.1956167947237, 4899.426070393498, 2225.724759117801, 13936.04020805082, 13394.863462535583, 14361.740733992692, 6630.18847479424, 5414.495003508033, 5723.6421450031185, 23346.12179200548, 5051.72589843562, 5022.967693369828, 4416.64980049878, 3036.5394402284496, 2386.499318654222, 2367.638302704597, 2271.868025493419, 1813.6174232830087, 1643.089182405426, 1493.3389461361596, 1416.4983194073134, 1321.3409668980837, 1308.1204841433869, 1251.616667196071, 1238.9758765748102, 1229.766889913901, 1190.2487981710765, 1187.3949564299, 986.4416513280621, 964.3469686334961, 935.8124755580214, 931.2857189254069, 928.3837740737125, 845.2285673915557, 832.7260845995431, 768.0086852021735, 744.2515287502073, 730.1783852691854, 699.2715855200171, 697.764323350049, 1687.5024412484856, 3087.813503976736, 2282.2609539483046, 3453.681450307602, 3294.4238836731483, 3624.171288550958, 1517.7755706151358, 1974.8567827685856, 2290.4135396583215, 6193.502819230795, 3982.8810575921066, 8051.7107102712735, 18184.643408087406, 9703.918784279678, 12908.939364311822, 5463.174195132628, 7200.833259662799, 4925.767189974979, 4146.427214315171, 3350.781645081121, 3078.890105813158, 2847.5986834841697, 2779.9424746542286, 2314.7036052555877, 2307.94487946156, 2080.967351885064, 1641.5992280158632, 1568.7057747467386, 1401.7076991662038, 1369.8377997396383, 1345.6792571686804, 1164.1489985609182, 1146.5090418246998, 1097.2476188089147, 1081.7329677060338, 1023.9679700516016, 1012.1317862631348, 978.167480480913, 971.0561363317411, 938.9524057811719, 913.5330290813663, 908.9323578256085, 903.2986722152157, 882.6878076191217, 855.1956913700201, 836.7484006215354, 761.9877195066374, 759.6779148478444, 1796.9914001549841, 2030.3461315828433, 23346.12179200548, 4200.904710735702, 2145.905035450737, 5601.726534146413, 2118.49727209587, 2244.98897776279, 9796.743611075168, 13394.863462535583, 5553.938496221329, 18184.643408087406, 9703.918784279678, 5849.389052194354, 6026.487512318769, 5670.586045028499, 7200.833259662799, 7017.741515639303, 6288.600238727342, 5137.815652873075, 3132.7054957426603, 2860.2799031486834, 1976.9196977678632, 1908.9978451661423, 1454.963787405635, 1418.06743988939, 1397.8791158722909, 1396.196003352121, 1361.3795583394456, 1154.2711916492597, 1049.2761560655538, 1030.7718014840239, 1009.4317437040422, 966.079401326818, 951.4822964486316, 933.8678406755678, 868.5039399253423, 832.3791527788127, 829.4426264494226, 829.3051666870606, 797.1096470164547, 794.3637153684367, 782.7903788529472, 764.6581935826737, 753.6545161388268, 726.0310254309854, 708.7152895615601, 18750.091201658986, 4670.315651771783, 3991.169284324737, 3274.946756027755, 1969.7611684906517, 23346.12179200548, 1758.760028802931, 3705.063422497683, 17342.357322759803, 1181.6994707230162, 8096.382377401671, 3298.2653662653765, 8423.252739070245, 3017.6427798257746, 9796.743611075168, 4777.918493163712, 6169.1069393131875, 3793.5601284491077, 4795.041989499562, 4131.227249095974, 2955.414042038682, 2566.762027303943, 2547.919701331588, 2252.335703408631, 1902.3540750262796, 1525.748034652446, 1525.1192237637658, 1344.3830631013325, 1149.7389488237784, 1110.9248993550734, 1041.6627300268185, 924.8602401551518, 920.5232743048069, 890.9354564162293, 826.7255631150617, 769.0398569137769, 625.9288834190585, 610.3693935942067, 610.1203059685081, 596.281318115623, 574.2698673124628, 563.8592974692717, 537.6364278000619, 530.5331979659696, 523.6152276880384, 523.2068027829155, 508.30860625041544, 500.5919960137116, 2334.996173184367, 10469.762845850732, 3034.9180346118337, 4777.918493163712, 1310.7590196841381, 5306.671043123805, 2731.24500923094, 2412.822575979215, 1297.8722860646355, 8051.7107102712735, 1588.9871214427014, 6191.250041605369, 8423.252739070245, 23346.12179200548, 2759.247804023417, 2452.230015871495, 13497.348901381394, 8713.935181597548, 7556.081355574941, 7380.791875486358, 7310.1999781048435, 7283.679110664005, 7267.117555685297, 7258.087204463706, 7247.312828808398, 7235.957248058486, 7232.836567347401, 7232.836567347401, 6793.631778849237, 3251.1704715342744, 2875.808936257328, 2610.6902259615836, 2552.7254242747904, 2507.0507342969927, 2263.516701276826, 1057.209218029851, 916.0435736236388, 688.0434678999076, 571.043575190117, 477.4801658269326, 453.09461391924646, 432.6707200445789, 376.53098419233123, 336.5504888587607, 326.65960501466304, 317.75312742912206, 5670.586045028499, 1738.0460303178568], \"logprob\": [30.0, 29.0, 28.0, 27.0, 26.0, 25.0, 24.0, 23.0, 22.0, 21.0, 20.0, 19.0, 18.0, 17.0, 16.0, 15.0, 14.0, 13.0, 12.0, 11.0, 10.0, 9.0, 8.0, 7.0, 6.0, 5.0, 4.0, 3.0, 2.0, 1.0, -3.5844, -3.9505, -3.9815, -4.1145, -4.5649, -4.5688, -4.6217, -4.6797, -4.7614, -4.7772, -4.856, -4.8785, -4.8942, -5.0232, -5.1403, -5.2453, -5.3617, -5.5486, -5.8702, -5.8773, -5.9111, -5.9385, -6.0923, -6.1067, -6.29, -6.3729, -6.4639, -6.4701, -6.5498, -6.5642, -4.7691, -4.5492, -5.1013, -5.291, -5.3773, -5.0577, -4.5309, -5.2075, -5.4453, -5.2591, -5.0432, -4.2891, -4.6398, -4.5027, -4.6421, -4.7078, -4.6416, -4.9676, -5.0366, -5.1558, -3.7323, -4.1841, -4.2764, -4.6727, -4.7082, -4.9706, -5.3381, -5.3757, -5.5087, -5.5538, -5.5579, -5.7717, -5.8053, -5.8198, -5.8318, -5.8879, -5.9565, -5.9604, -5.9632, -5.9753, -6.0547, -6.1683, -6.2361, -6.4894, -6.5205, -6.5609, -6.5635, -6.5716, -6.5899, -6.6843, -4.9395, -3.6215, -4.1557, -4.7828, -5.6209, -4.8371, -4.7648, -4.3564, -4.6798, -4.5259, -4.9245, -5.1102, -4.5251, -4.7198, -4.5225, -4.5911, -5.2933, -4.8903, -5.1633, -4.7507, -4.6857, -5.0555, -5.222, -4.9578, -4.9118, -5.1321, -5.1539, -4.0784, -4.2995, -4.5833, -4.8875, -5.0981, -5.1306, -5.2125, -5.2543, -5.2745, -5.297, -5.4027, -5.4962, -5.5237, -5.5949, -5.6213, -5.6988, -5.7316, -5.7358, -5.7424, -5.8129, -5.8309, -5.9091, -5.92, -5.9294, -5.9311, -5.9374, -5.9415, -5.9516, -6.0072, -6.1376, -4.26, -3.7615, -3.99, -4.3982, -3.8869, -4.0561, -5.1013, -4.9167, -4.9263, -4.6664, -4.8246, -5.2484, -5.3705, -5.4813, -5.133, -5.0313, -5.3476, -5.4018, -5.4056, -5.3652, -4.3707, -4.4275, -4.4395, -4.6872, -4.8179, -4.8551, -4.9476, -5.0467, -5.1623, -5.1888, -5.2425, -5.2879, -5.4639, -5.4868, -5.4965, -5.5011, -5.5221, -5.545, -5.5769, -5.6817, -5.7062, -5.7377, -5.7468, -5.7785, -5.7865, -5.8737, -5.9131, -5.9265, -5.9466, -5.9509, -4.5372, -5.2773, -4.8348, -5.0388, -4.3586, -5.2275, -5.3566, -4.8136, -4.8352, -4.7378, -5.4705, -5.0317, -5.267, -5.3406, -5.4902, -3.41, -3.8977, -4.2455, -4.4638, -4.4653, -4.6982, -4.8549, -5.0626, -5.1382, -5.1735, -5.2854, -5.2999, -5.36, -5.4869, -5.5083, -5.5753, -5.5778, -5.5844, -5.6752, -5.7056, -5.8438, -5.861, -5.8763, -5.9289, -5.9434, -5.9626, -5.9969, -6.0168, -6.0211, -6.0289, -5.0455, -4.976, -4.9416, -4.9278, -5.0243, -5.3891, -5.4086, -4.7669, -5.0726, -5.2785, -5.0889, -5.4304, -4.8814, -4.9697, -4.9859, -5.2558, -5.3548, -5.4153, -5.4064, -4.1411, -4.1468, -4.2755, -4.6503, -4.8912, -4.8992, -4.9405, -5.1659, -5.2647, -5.3603, -5.4131, -5.4827, -5.4928, -5.537, -5.5471, -5.5546, -5.5873, -5.5897, -5.7752, -5.7979, -5.828, -5.8328, -5.836, -5.9299, -5.9448, -6.0258, -6.0573, -6.0764, -6.1197, -6.1218, -5.2903, -4.8432, -5.1944, -4.9407, -5.0447, -5.1174, -5.6167, -5.5037, -5.4629, -5.1134, -5.2991, -5.0835, -5.2263, -5.3259, -5.3484, -5.4638, -5.4558, -5.5243, -4.3335, -4.5466, -4.6313, -4.7094, -4.7334, -4.9166, -4.9196, -5.0231, -5.2604, -5.3059, -5.4185, -5.4415, -5.4593, -5.6043, -5.6196, -5.6635, -5.6778, -5.7327, -5.7444, -5.7785, -5.7858, -5.8195, -5.847, -5.852, -5.8582, -5.8813, -5.913, -5.9348, -6.0285, -6.0316, -5.3175, -5.2707, -3.5176, -4.8313, -5.4578, -5.0341, -5.5889, -5.6174, -5.2602, -5.193, -5.4467, -5.3436, -5.4327, -5.5423, -5.5708, -5.5801, -5.5848, -3.7422, -3.8519, -4.054, -4.5489, -4.6399, -5.0094, -5.0444, -5.3161, -5.3418, -5.3562, -5.3574, -5.3827, -5.5478, -5.6433, -5.6611, -5.682, -5.7259, -5.7412, -5.7599, -5.8325, -5.875, -5.8786, -5.8787, -5.9184, -5.9218, -5.9365, -5.96, -5.9745, -6.0119, -6.0361, -3.0447, -4.5357, -4.7315, -5.0558, -5.3906, -4.3451, -5.5547, -5.3624, -4.9681, -5.7732, -5.3204, -5.5333, -5.3655, -5.5951, -5.5131, -5.5952, -5.5885, -5.6367, -4.0178, -4.1669, -4.5019, -4.6429, -4.6503, -4.7736, -4.9426, -5.1633, -5.1637, -5.2899, -5.4465, -5.4808, -5.5453, -5.6643, -5.669, -5.7017, -5.7766, -5.849, -6.0552, -6.0804, -6.0808, -6.1038, -6.1414, -6.1598, -6.2075, -6.2208, -6.2339, -6.2347, -6.2636, -6.279, -4.8716, -3.5153, -4.8495, -4.5633, -5.5588, -4.6633, -5.1218, -5.2735, -5.6599, -4.651, -5.577, -5.0065, -4.8863, -4.9288, -5.5565, -5.5866, -2.5059, -2.9436, -3.0861, -3.1096, -3.1192, -3.1229, -3.1251, -3.1264, -3.1279, -3.1294, -3.1299, -3.1299, -3.1925, -3.9296, -4.0523, -4.1491, -4.1716, -4.1896, -4.2918, -5.0536, -5.197, -5.4836, -5.6702, -5.8495, -5.902, -5.9482, -6.0875, -6.2, -6.2299, -6.2576, -5.3972, -6.1355]}};\n",
       "\n",
       "function LDAvis_load_lib(url, callback){\n",
       "  var s = document.createElement('script');\n",
       "  s.src = url;\n",
       "  s.async = true;\n",
       "  s.onreadystatechange = s.onload = callback;\n",
       "  s.onerror = function(){console.warn(\"failed to load library \" + url);};\n",
       "  document.getElementsByTagName(\"head\")[0].appendChild(s);\n",
       "}\n",
       "\n",
       "if(typeof(LDAvis) !== \"undefined\"){\n",
       "   // already loaded: just create the visualization\n",
       "   !function(LDAvis){\n",
       "       new LDAvis(\"#\" + \"ldavis_el196321401104580750881740613244\", ldavis_el196321401104580750881740613244_data);\n",
       "   }(LDAvis);\n",
       "}else if(typeof define === \"function\" && define.amd){\n",
       "   // require.js is available: use it to load d3/LDAvis\n",
       "   require.config({paths: {d3: \"https://cdnjs.cloudflare.com/ajax/libs/d3/3.5.5/d3.min\"}});\n",
       "   require([\"d3\"], function(d3){\n",
       "      window.d3 = d3;\n",
       "      LDAvis_load_lib(\"https://cdn.rawgit.com/bmabey/pyLDAvis/files/ldavis.v1.0.0.js\", function(){\n",
       "        new LDAvis(\"#\" + \"ldavis_el196321401104580750881740613244\", ldavis_el196321401104580750881740613244_data);\n",
       "      });\n",
       "    });\n",
       "}else{\n",
       "    // require.js not available: dynamically load d3 & LDAvis\n",
       "    LDAvis_load_lib(\"https://cdnjs.cloudflare.com/ajax/libs/d3/3.5.5/d3.min.js\", function(){\n",
       "         LDAvis_load_lib(\"https://cdn.rawgit.com/bmabey/pyLDAvis/files/ldavis.v1.0.0.js\", function(){\n",
       "                 new LDAvis(\"#\" + \"ldavis_el196321401104580750881740613244\", ldavis_el196321401104580750881740613244_data);\n",
       "            })\n",
       "         });\n",
       "}\n",
       "</script>"
      ],
      "text/plain": [
       "PreparedData(topic_coordinates=            Freq  cluster  topics         x         y\n",
       "topic                                                \n",
       "2      15.327588        1       1  0.139161  0.097866\n",
       "4      13.260427        1       2  0.118236  0.055774\n",
       "0      11.438490        1       3  0.091175  0.034620\n",
       "7      10.038032        1       4  0.041942 -0.096417\n",
       "1       9.475785        1       5  0.063025  0.126108\n",
       "8       9.437777        1       6  0.009806 -0.257452\n",
       "5       9.389313        1       7  0.059145 -0.007431\n",
       "6       8.798108        1       8  0.009951  0.183752\n",
       "3       7.918884        1       9 -0.061873 -0.221489\n",
       "9       4.915595        1      10 -0.470568  0.084669, topic_info=      Category          Freq           Term         Total  loglift  logprob\n",
       "term                                                                       \n",
       "16686  Default  13497.000000          today  13497.000000  30.0000  30.0000\n",
       "11065  Default  18750.000000              u  18750.000000  29.0000  29.0000\n",
       "20701  Default  14314.000000           know  14314.000000  28.0000  28.0000\n",
       "49702  Default   8713.000000              f   8713.000000  27.0000  27.0000\n",
       "31519  Default  10536.000000      president  10536.000000  26.0000  26.0000\n",
       "4277   Default   7556.000000       pressure   7556.000000  25.0000  25.0000\n",
       "18205  Default   7380.000000           wind   7380.000000  24.0000  24.0000\n",
       "39720  Default   7310.000000           temp   7310.000000  23.0000  23.0000\n",
       "39346  Default   7283.000000           rain   7283.000000  22.0000  22.0000\n",
       "30116  Default   7267.000000             ky   7267.000000  21.0000  21.0000\n",
       "24872  Default   7258.000000            mph   7258.000000  20.0000  20.0000\n",
       "67159  Default   7247.000000       forecast   7247.000000  19.0000  19.0000\n",
       "44884  Default   7235.000000           crab   7235.000000  18.0000  18.0000\n",
       "7652   Default   7232.000000        orchard   7232.000000  17.0000  17.0000\n",
       "22490  Default   7232.000000            hpa   7232.000000  16.0000  16.0000\n",
       "7798   Default  10682.000000             go  10682.000000  15.0000  15.0000\n",
       "56499  Default  10469.000000          right  10469.000000  14.0000  14.0000\n",
       "53501  Default  17342.000000            get  17342.000000  13.0000  13.0000\n",
       "35473  Default   6793.000000           fine   6793.000000  12.0000  12.0000\n",
       "6116   Default  12084.000000        america  12084.000000  11.0000  11.0000\n",
       "27280  Default   9926.000000          never   9926.000000  10.0000  10.0000\n",
       "46696  Default   9623.000000            say   9623.000000   9.0000   9.0000\n",
       "13096  Default  23346.000000           like  23346.000000   8.0000   8.0000\n",
       "33563  Default   7017.000000              r   7017.000000   7.0000   7.0000\n",
       "18853  Default  18184.000000         people  18184.000000   6.0000   6.0000\n",
       "21941  Default   8424.000000           said   8424.000000   5.0000   5.0000\n",
       "44341  Default   6288.000000           look   6288.000000   4.0000   4.0000\n",
       "46731  Default   9454.000000           make   9454.000000   3.0000   3.0000\n",
       "19212  Default   6469.000000           love   6469.000000   2.0000   2.0000\n",
       "27513  Default   6518.000000      americans   6518.000000   1.0000   1.0000\n",
       "...        ...           ...            ...           ...      ...      ...\n",
       "4277   Topic10   7555.203455       pressure   7556.081356   3.0126  -3.0861\n",
       "18205  Topic10   7379.913977           wind   7380.791875   3.0126  -3.1096\n",
       "39720  Topic10   7309.322080           temp   7310.199978   3.0126  -3.1192\n",
       "39346  Topic10   7282.801213           rain   7283.679111   3.0126  -3.1229\n",
       "30116  Topic10   7266.239658             ky   7267.117556   3.0126  -3.1251\n",
       "24872  Topic10   7257.209307            mph   7258.087204   3.0126  -3.1264\n",
       "67159  Topic10   7246.434932       forecast   7247.312829   3.0126  -3.1279\n",
       "44884  Topic10   7235.079351           crab   7235.957248   3.0126  -3.1294\n",
       "7652   Topic10   7231.958671        orchard   7232.836567   3.0126  -3.1299\n",
       "22490  Topic10   7231.958671            hpa   7232.836567   3.0126  -3.1299\n",
       "35473  Topic10   6792.753869           fine   6793.631779   3.0126  -3.1925\n",
       "45460  Topic10   3250.292572         slowly   3251.170472   3.0125  -3.9296\n",
       "56804  Topic10   2874.931026        falling   2875.808936   3.0125  -4.0523\n",
       "13466  Topic10   2609.812328        settled   2610.690226   3.0124  -4.1491\n",
       "49359  Topic10   2551.847523         steady   2552.725424   3.0124  -4.1716\n",
       "15509  Topic10   2506.172834         rising   2507.050734   3.0124  -4.1896\n",
       "17766  Topic10   2262.638795        weather   2263.516701   3.0124  -4.2918\n",
       "42269  Topic10   1056.331294       becoming   1057.209218   3.0119  -5.0536\n",
       "11586  Topic10    915.165677        showery    916.043574   3.0118  -5.1970\n",
       "45434  Topic10    687.165509         agreed    688.043468   3.0115  -5.4836\n",
       "23817  Topic10    570.165678      unsettled    571.043575   3.0112  -5.6702\n",
       "41402  Topic10    476.602200      sociopath    477.480166   3.0109  -5.8495\n",
       "46650  Topic10    452.216597    supremacist    453.094614   3.0108  -5.9020\n",
       "37382  Topic10    431.792823  precipitation    432.670720   3.0107  -5.9482\n",
       "50797  Topic10    375.653088         precip    376.530984   3.0104  -6.0875\n",
       "21338  Topic10    335.672537          codes    336.550489   3.0101  -6.2000\n",
       "33780  Topic10    325.781615       deported    326.659605   3.0101  -6.2299\n",
       "24050  Topic10    316.875123             ed    317.753127   3.0100  -6.2576\n",
       "66455  Topic10    749.152604           show   5670.586045   0.9887  -5.3972\n",
       "60059  Topic10    358.030398           less   1738.046030   1.4329  -6.1355\n",
       "\n",
       "[502 rows x 6 columns], token_table=       Topic      Freq       Term\n",
       "term                             \n",
       "39394      8  0.998987        abt\n",
       "3359       6  0.998687    account\n",
       "20092      7  0.999556        act\n",
       "68588      7  0.998863         ad\n",
       "71542      3  0.999590    african\n",
       "59098      6  0.999103        ago\n",
       "20169      3  0.999596      agree\n",
       "45434     10  0.998483     agreed\n",
       "53122      9  0.999122        alt\n",
       "74379      5  0.999396       amen\n",
       "6116       2  0.259505    america\n",
       "6116       3  0.740451    america\n",
       "7045       3  0.837112   american\n",
       "7045       5  0.162802   american\n",
       "27513      3  0.999881  americans\n",
       "43772      3  0.999694     answer\n",
       "24947      4  0.998935    answers\n",
       "19805      3  0.999045       anti\n",
       "65695      1  0.807199     anyone\n",
       "65695      5  0.192448     anyone\n",
       "21240      1  0.999734   anything\n",
       "26413      3  0.272649        ask\n",
       "26413      4  0.726953        ask\n",
       "56280      4  0.999561      asked\n",
       "6734       1  0.123022        ass\n",
       "6734       6  0.223243        ass\n",
       "6734       8  0.653693        ass\n",
       "39031      6  0.999132  attention\n",
       "5095       2  0.999634       away\n",
       "37868      6  0.998985    awesome\n",
       "...      ...       ...        ...\n",
       "13489      3  0.063074      would\n",
       "13489      4  0.078932      would\n",
       "13489      5  0.173579      would\n",
       "13489      6  0.048507      would\n",
       "13489      7  0.061998      would\n",
       "13489      9  0.031286      would\n",
       "25520      1  0.137345        wow\n",
       "25520      2  0.168270        wow\n",
       "25520      5  0.122185        wow\n",
       "25520      7  0.140074        wow\n",
       "25520      8  0.354732        wow\n",
       "25520      9  0.077313        wow\n",
       "266        1  0.999867      wrong\n",
       "26520      8  0.998608        wtf\n",
       "52795      5  0.999522         ya\n",
       "5943       9  0.999639       yeah\n",
       "5951       5  0.778661       year\n",
       "5951       6  0.220839       year\n",
       "1414       1  0.124442      years\n",
       "1414       2  0.098505      years\n",
       "1414       3  0.107335      years\n",
       "1414       5  0.144585      years\n",
       "1414       6  0.525086      years\n",
       "9669       1  0.153574        yes\n",
       "9669       2  0.222398        yes\n",
       "9669       3  0.134171        yes\n",
       "9669       5  0.115501        yes\n",
       "9669       6  0.246377        yes\n",
       "9669       7  0.054547        yes\n",
       "9669       9  0.073401        yes\n",
       "\n",
       "[765 rows x 3 columns], R=30, lambda_step=0.01, plot_opts={'xlab': 'PC1', 'ylab': 'PC2'}, topic_order=[3, 5, 1, 8, 2, 9, 6, 7, 4, 10])"
      ]
     },
     "execution_count": 19,
     "metadata": {},
     "output_type": "execute_result"
    }
   ],
   "source": [
    "data"
   ]
  },
  {
   "cell_type": "markdown",
   "metadata": {},
   "source": [
    "# Interactive version available [here](https://codepen.io/Martin13131/full/zEwxxx/)\n",
    "## Also available as an html document in this git repository (LDA_topics.html)\n"
   ]
  },
  {
   "cell_type": "code",
   "execution_count": null,
   "metadata": {
    "collapsed": true
   },
   "outputs": [],
   "source": [
    "#save results as an html file\n",
    "pyLDAvis.save_html(data, open('LDA topics.html','wb'))"
   ]
  },
  {
   "cell_type": "code",
   "execution_count": null,
   "metadata": {
    "collapsed": true
   },
   "outputs": [],
   "source": []
  },
  {
   "cell_type": "code",
   "execution_count": null,
   "metadata": {
    "collapsed": true
   },
   "outputs": [],
   "source": []
  }
 ],
 "metadata": {
  "kernelspec": {
   "display_name": "Python [conda env:USelections]",
   "language": "python",
   "name": "conda-env-USelections-py"
  },
  "language_info": {
   "codemirror_mode": {
    "name": "ipython",
    "version": 2
   },
   "file_extension": ".py",
   "mimetype": "text/x-python",
   "name": "python",
   "nbconvert_exporter": "python",
   "pygments_lexer": "ipython2",
   "version": "2.7.13"
  }
 },
 "nbformat": 4,
 "nbformat_minor": 2
}
